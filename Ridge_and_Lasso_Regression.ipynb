{
  "nbformat": 4,
  "nbformat_minor": 0,
  "metadata": {
    "colab": {
      "name": "Ridge and Lasso Regression.ipynb",
      "provenance": [],
      "collapsed_sections": [],
      "authorship_tag": "ABX9TyN/p5QYHQAyB3st0NHqbVy7",
      "include_colab_link": true
    },
    "kernelspec": {
      "name": "python3",
      "display_name": "Python 3"
    },
    "language_info": {
      "name": "python"
    }
  },
  "cells": [
    {
      "cell_type": "markdown",
      "metadata": {
        "id": "view-in-github",
        "colab_type": "text"
      },
      "source": [
        "<a href=\"https://colab.research.google.com/github/sushil1902/Linear-Regression/blob/main/Ridge_and_Lasso_Regression.ipynb\" target=\"_parent\"><img src=\"https://colab.research.google.com/assets/colab-badge.svg\" alt=\"Open In Colab\"/></a>"
      ]
    },
    {
      "cell_type": "code",
      "execution_count": 1,
      "metadata": {
        "id": "OF5zcMfwml-y"
      },
      "outputs": [],
      "source": [
        "import numpy as np\n",
        "import pandas as pd\n",
        "import matplotlib.pyplot as plt"
      ]
    },
    {
      "cell_type": "code",
      "source": [
        "from sklearn.datasets import load_boston"
      ],
      "metadata": {
        "id": "YqadxUXQm9TH"
      },
      "execution_count": 2,
      "outputs": []
    },
    {
      "cell_type": "code",
      "source": [
        "df = load_boston()\n",
        "dataset = pd.DataFrame(df.data)\n",
        "print(dataset.head())"
      ],
      "metadata": {
        "colab": {
          "base_uri": "https://localhost:8080/"
        },
        "id": "R20aNvKWnEAx",
        "outputId": "ef01a5bb-016e-4dc6-bb44-372347d9bdf9"
      },
      "execution_count": 3,
      "outputs": [
        {
          "output_type": "stream",
          "name": "stdout",
          "text": [
            "        0     1     2    3      4   ...   8      9     10      11    12\n",
            "0  0.00632  18.0  2.31  0.0  0.538  ...  1.0  296.0  15.3  396.90  4.98\n",
            "1  0.02731   0.0  7.07  0.0  0.469  ...  2.0  242.0  17.8  396.90  9.14\n",
            "2  0.02729   0.0  7.07  0.0  0.469  ...  2.0  242.0  17.8  392.83  4.03\n",
            "3  0.03237   0.0  2.18  0.0  0.458  ...  3.0  222.0  18.7  394.63  2.94\n",
            "4  0.06905   0.0  2.18  0.0  0.458  ...  3.0  222.0  18.7  396.90  5.33\n",
            "\n",
            "[5 rows x 13 columns]\n"
          ]
        },
        {
          "output_type": "stream",
          "name": "stderr",
          "text": [
            "/usr/local/lib/python3.7/dist-packages/sklearn/utils/deprecation.py:87: FutureWarning: Function load_boston is deprecated; `load_boston` is deprecated in 1.0 and will be removed in 1.2.\n",
            "\n",
            "    The Boston housing prices dataset has an ethical problem. You can refer to\n",
            "    the documentation of this function for further details.\n",
            "\n",
            "    The scikit-learn maintainers therefore strongly discourage the use of this\n",
            "    dataset unless the purpose of the code is to study and educate about\n",
            "    ethical issues in data science and machine learning.\n",
            "\n",
            "    In this special case, you can fetch the dataset from the original\n",
            "    source::\n",
            "\n",
            "        import pandas as pd\n",
            "        import numpy as np\n",
            "\n",
            "\n",
            "        data_url = \"http://lib.stat.cmu.edu/datasets/boston\"\n",
            "        raw_df = pd.read_csv(data_url, sep=\"\\s+\", skiprows=22, header=None)\n",
            "        data = np.hstack([raw_df.values[::2, :], raw_df.values[1::2, :2]])\n",
            "        target = raw_df.values[1::2, 2]\n",
            "\n",
            "    Alternative datasets include the California housing dataset (i.e.\n",
            "    :func:`~sklearn.datasets.fetch_california_housing`) and the Ames housing\n",
            "    dataset. You can load the datasets as follows::\n",
            "\n",
            "        from sklearn.datasets import fetch_california_housing\n",
            "        housing = fetch_california_housing()\n",
            "\n",
            "    for the California housing dataset and::\n",
            "\n",
            "        from sklearn.datasets import fetch_openml\n",
            "        housing = fetch_openml(name=\"house_prices\", as_frame=True)\n",
            "\n",
            "    for the Ames housing dataset.\n",
            "    \n",
            "  warnings.warn(msg, category=FutureWarning)\n"
          ]
        }
      ]
    },
    {
      "cell_type": "code",
      "source": [
        "dataset.columns"
      ],
      "metadata": {
        "colab": {
          "base_uri": "https://localhost:8080/"
        },
        "id": "J_ivbTr4n_4X",
        "outputId": "9184542e-a7a8-41ec-ab68-1ad106cdf55b"
      },
      "execution_count": 4,
      "outputs": [
        {
          "output_type": "execute_result",
          "data": {
            "text/plain": [
              "RangeIndex(start=0, stop=13, step=1)"
            ]
          },
          "metadata": {},
          "execution_count": 4
        }
      ]
    },
    {
      "cell_type": "code",
      "source": [
        "df.feature_names"
      ],
      "metadata": {
        "colab": {
          "base_uri": "https://localhost:8080/"
        },
        "id": "WpCF-o1ZoEQ9",
        "outputId": "571cd960-7c25-4e8d-9089-e04c7f44062e"
      },
      "execution_count": 5,
      "outputs": [
        {
          "output_type": "execute_result",
          "data": {
            "text/plain": [
              "array(['CRIM', 'ZN', 'INDUS', 'CHAS', 'NOX', 'RM', 'AGE', 'DIS', 'RAD',\n",
              "       'TAX', 'PTRATIO', 'B', 'LSTAT'], dtype='<U7')"
            ]
          },
          "metadata": {},
          "execution_count": 5
        }
      ]
    },
    {
      "cell_type": "code",
      "source": [
        "dataset.columns = df.feature_names\n",
        "dataset.head()"
      ],
      "metadata": {
        "colab": {
          "base_uri": "https://localhost:8080/",
          "height": 206
        },
        "id": "z8qxALpgnItq",
        "outputId": "33e15019-ceec-46f0-d147-1d8f676804bd"
      },
      "execution_count": 6,
      "outputs": [
        {
          "output_type": "execute_result",
          "data": {
            "text/html": [
              "\n",
              "  <div id=\"df-df3c830d-d7c0-47f9-b84a-ad6ca95b1044\">\n",
              "    <div class=\"colab-df-container\">\n",
              "      <div>\n",
              "<style scoped>\n",
              "    .dataframe tbody tr th:only-of-type {\n",
              "        vertical-align: middle;\n",
              "    }\n",
              "\n",
              "    .dataframe tbody tr th {\n",
              "        vertical-align: top;\n",
              "    }\n",
              "\n",
              "    .dataframe thead th {\n",
              "        text-align: right;\n",
              "    }\n",
              "</style>\n",
              "<table border=\"1\" class=\"dataframe\">\n",
              "  <thead>\n",
              "    <tr style=\"text-align: right;\">\n",
              "      <th></th>\n",
              "      <th>CRIM</th>\n",
              "      <th>ZN</th>\n",
              "      <th>INDUS</th>\n",
              "      <th>CHAS</th>\n",
              "      <th>NOX</th>\n",
              "      <th>RM</th>\n",
              "      <th>AGE</th>\n",
              "      <th>DIS</th>\n",
              "      <th>RAD</th>\n",
              "      <th>TAX</th>\n",
              "      <th>PTRATIO</th>\n",
              "      <th>B</th>\n",
              "      <th>LSTAT</th>\n",
              "    </tr>\n",
              "  </thead>\n",
              "  <tbody>\n",
              "    <tr>\n",
              "      <th>0</th>\n",
              "      <td>0.00632</td>\n",
              "      <td>18.0</td>\n",
              "      <td>2.31</td>\n",
              "      <td>0.0</td>\n",
              "      <td>0.538</td>\n",
              "      <td>6.575</td>\n",
              "      <td>65.2</td>\n",
              "      <td>4.0900</td>\n",
              "      <td>1.0</td>\n",
              "      <td>296.0</td>\n",
              "      <td>15.3</td>\n",
              "      <td>396.90</td>\n",
              "      <td>4.98</td>\n",
              "    </tr>\n",
              "    <tr>\n",
              "      <th>1</th>\n",
              "      <td>0.02731</td>\n",
              "      <td>0.0</td>\n",
              "      <td>7.07</td>\n",
              "      <td>0.0</td>\n",
              "      <td>0.469</td>\n",
              "      <td>6.421</td>\n",
              "      <td>78.9</td>\n",
              "      <td>4.9671</td>\n",
              "      <td>2.0</td>\n",
              "      <td>242.0</td>\n",
              "      <td>17.8</td>\n",
              "      <td>396.90</td>\n",
              "      <td>9.14</td>\n",
              "    </tr>\n",
              "    <tr>\n",
              "      <th>2</th>\n",
              "      <td>0.02729</td>\n",
              "      <td>0.0</td>\n",
              "      <td>7.07</td>\n",
              "      <td>0.0</td>\n",
              "      <td>0.469</td>\n",
              "      <td>7.185</td>\n",
              "      <td>61.1</td>\n",
              "      <td>4.9671</td>\n",
              "      <td>2.0</td>\n",
              "      <td>242.0</td>\n",
              "      <td>17.8</td>\n",
              "      <td>392.83</td>\n",
              "      <td>4.03</td>\n",
              "    </tr>\n",
              "    <tr>\n",
              "      <th>3</th>\n",
              "      <td>0.03237</td>\n",
              "      <td>0.0</td>\n",
              "      <td>2.18</td>\n",
              "      <td>0.0</td>\n",
              "      <td>0.458</td>\n",
              "      <td>6.998</td>\n",
              "      <td>45.8</td>\n",
              "      <td>6.0622</td>\n",
              "      <td>3.0</td>\n",
              "      <td>222.0</td>\n",
              "      <td>18.7</td>\n",
              "      <td>394.63</td>\n",
              "      <td>2.94</td>\n",
              "    </tr>\n",
              "    <tr>\n",
              "      <th>4</th>\n",
              "      <td>0.06905</td>\n",
              "      <td>0.0</td>\n",
              "      <td>2.18</td>\n",
              "      <td>0.0</td>\n",
              "      <td>0.458</td>\n",
              "      <td>7.147</td>\n",
              "      <td>54.2</td>\n",
              "      <td>6.0622</td>\n",
              "      <td>3.0</td>\n",
              "      <td>222.0</td>\n",
              "      <td>18.7</td>\n",
              "      <td>396.90</td>\n",
              "      <td>5.33</td>\n",
              "    </tr>\n",
              "  </tbody>\n",
              "</table>\n",
              "</div>\n",
              "      <button class=\"colab-df-convert\" onclick=\"convertToInteractive('df-df3c830d-d7c0-47f9-b84a-ad6ca95b1044')\"\n",
              "              title=\"Convert this dataframe to an interactive table.\"\n",
              "              style=\"display:none;\">\n",
              "        \n",
              "  <svg xmlns=\"http://www.w3.org/2000/svg\" height=\"24px\"viewBox=\"0 0 24 24\"\n",
              "       width=\"24px\">\n",
              "    <path d=\"M0 0h24v24H0V0z\" fill=\"none\"/>\n",
              "    <path d=\"M18.56 5.44l.94 2.06.94-2.06 2.06-.94-2.06-.94-.94-2.06-.94 2.06-2.06.94zm-11 1L8.5 8.5l.94-2.06 2.06-.94-2.06-.94L8.5 2.5l-.94 2.06-2.06.94zm10 10l.94 2.06.94-2.06 2.06-.94-2.06-.94-.94-2.06-.94 2.06-2.06.94z\"/><path d=\"M17.41 7.96l-1.37-1.37c-.4-.4-.92-.59-1.43-.59-.52 0-1.04.2-1.43.59L10.3 9.45l-7.72 7.72c-.78.78-.78 2.05 0 2.83L4 21.41c.39.39.9.59 1.41.59.51 0 1.02-.2 1.41-.59l7.78-7.78 2.81-2.81c.8-.78.8-2.07 0-2.86zM5.41 20L4 18.59l7.72-7.72 1.47 1.35L5.41 20z\"/>\n",
              "  </svg>\n",
              "      </button>\n",
              "      \n",
              "  <style>\n",
              "    .colab-df-container {\n",
              "      display:flex;\n",
              "      flex-wrap:wrap;\n",
              "      gap: 12px;\n",
              "    }\n",
              "\n",
              "    .colab-df-convert {\n",
              "      background-color: #E8F0FE;\n",
              "      border: none;\n",
              "      border-radius: 50%;\n",
              "      cursor: pointer;\n",
              "      display: none;\n",
              "      fill: #1967D2;\n",
              "      height: 32px;\n",
              "      padding: 0 0 0 0;\n",
              "      width: 32px;\n",
              "    }\n",
              "\n",
              "    .colab-df-convert:hover {\n",
              "      background-color: #E2EBFA;\n",
              "      box-shadow: 0px 1px 2px rgba(60, 64, 67, 0.3), 0px 1px 3px 1px rgba(60, 64, 67, 0.15);\n",
              "      fill: #174EA6;\n",
              "    }\n",
              "\n",
              "    [theme=dark] .colab-df-convert {\n",
              "      background-color: #3B4455;\n",
              "      fill: #D2E3FC;\n",
              "    }\n",
              "\n",
              "    [theme=dark] .colab-df-convert:hover {\n",
              "      background-color: #434B5C;\n",
              "      box-shadow: 0px 1px 3px 1px rgba(0, 0, 0, 0.15);\n",
              "      filter: drop-shadow(0px 1px 2px rgba(0, 0, 0, 0.3));\n",
              "      fill: #FFFFFF;\n",
              "    }\n",
              "  </style>\n",
              "\n",
              "      <script>\n",
              "        const buttonEl =\n",
              "          document.querySelector('#df-df3c830d-d7c0-47f9-b84a-ad6ca95b1044 button.colab-df-convert');\n",
              "        buttonEl.style.display =\n",
              "          google.colab.kernel.accessAllowed ? 'block' : 'none';\n",
              "\n",
              "        async function convertToInteractive(key) {\n",
              "          const element = document.querySelector('#df-df3c830d-d7c0-47f9-b84a-ad6ca95b1044');\n",
              "          const dataTable =\n",
              "            await google.colab.kernel.invokeFunction('convertToInteractive',\n",
              "                                                     [key], {});\n",
              "          if (!dataTable) return;\n",
              "\n",
              "          const docLinkHtml = 'Like what you see? Visit the ' +\n",
              "            '<a target=\"_blank\" href=https://colab.research.google.com/notebooks/data_table.ipynb>data table notebook</a>'\n",
              "            + ' to learn more about interactive tables.';\n",
              "          element.innerHTML = '';\n",
              "          dataTable['output_type'] = 'display_data';\n",
              "          await google.colab.output.renderOutput(dataTable, element);\n",
              "          const docLink = document.createElement('div');\n",
              "          docLink.innerHTML = docLinkHtml;\n",
              "          element.appendChild(docLink);\n",
              "        }\n",
              "      </script>\n",
              "    </div>\n",
              "  </div>\n",
              "  "
            ],
            "text/plain": [
              "      CRIM    ZN  INDUS  CHAS    NOX  ...  RAD    TAX  PTRATIO       B  LSTAT\n",
              "0  0.00632  18.0   2.31   0.0  0.538  ...  1.0  296.0     15.3  396.90   4.98\n",
              "1  0.02731   0.0   7.07   0.0  0.469  ...  2.0  242.0     17.8  396.90   9.14\n",
              "2  0.02729   0.0   7.07   0.0  0.469  ...  2.0  242.0     17.8  392.83   4.03\n",
              "3  0.03237   0.0   2.18   0.0  0.458  ...  3.0  222.0     18.7  394.63   2.94\n",
              "4  0.06905   0.0   2.18   0.0  0.458  ...  3.0  222.0     18.7  396.90   5.33\n",
              "\n",
              "[5 rows x 13 columns]"
            ]
          },
          "metadata": {},
          "execution_count": 6
        }
      ]
    },
    {
      "cell_type": "code",
      "source": [
        "df.target.shape"
      ],
      "metadata": {
        "colab": {
          "base_uri": "https://localhost:8080/"
        },
        "id": "B-J86xG7n6sO",
        "outputId": "965ef7ae-aba2-4168-e91a-69f19d75caa6"
      },
      "execution_count": 7,
      "outputs": [
        {
          "output_type": "execute_result",
          "data": {
            "text/plain": [
              "(506,)"
            ]
          },
          "metadata": {},
          "execution_count": 7
        }
      ]
    },
    {
      "cell_type": "code",
      "source": [
        "dataset['Price'] = df.target"
      ],
      "metadata": {
        "id": "57kSw6nVoUAL"
      },
      "execution_count": 8,
      "outputs": []
    },
    {
      "cell_type": "code",
      "source": [
        "dataset.head()"
      ],
      "metadata": {
        "colab": {
          "base_uri": "https://localhost:8080/",
          "height": 206
        },
        "id": "NOdDc4N3oj14",
        "outputId": "debe51f9-3a9a-4646-b873-2f23915c0cc8"
      },
      "execution_count": 9,
      "outputs": [
        {
          "output_type": "execute_result",
          "data": {
            "text/html": [
              "\n",
              "  <div id=\"df-aeb043ac-2a62-4de4-9216-c3e0dbcf9f6c\">\n",
              "    <div class=\"colab-df-container\">\n",
              "      <div>\n",
              "<style scoped>\n",
              "    .dataframe tbody tr th:only-of-type {\n",
              "        vertical-align: middle;\n",
              "    }\n",
              "\n",
              "    .dataframe tbody tr th {\n",
              "        vertical-align: top;\n",
              "    }\n",
              "\n",
              "    .dataframe thead th {\n",
              "        text-align: right;\n",
              "    }\n",
              "</style>\n",
              "<table border=\"1\" class=\"dataframe\">\n",
              "  <thead>\n",
              "    <tr style=\"text-align: right;\">\n",
              "      <th></th>\n",
              "      <th>CRIM</th>\n",
              "      <th>ZN</th>\n",
              "      <th>INDUS</th>\n",
              "      <th>CHAS</th>\n",
              "      <th>NOX</th>\n",
              "      <th>RM</th>\n",
              "      <th>AGE</th>\n",
              "      <th>DIS</th>\n",
              "      <th>RAD</th>\n",
              "      <th>TAX</th>\n",
              "      <th>PTRATIO</th>\n",
              "      <th>B</th>\n",
              "      <th>LSTAT</th>\n",
              "      <th>Price</th>\n",
              "    </tr>\n",
              "  </thead>\n",
              "  <tbody>\n",
              "    <tr>\n",
              "      <th>0</th>\n",
              "      <td>0.00632</td>\n",
              "      <td>18.0</td>\n",
              "      <td>2.31</td>\n",
              "      <td>0.0</td>\n",
              "      <td>0.538</td>\n",
              "      <td>6.575</td>\n",
              "      <td>65.2</td>\n",
              "      <td>4.0900</td>\n",
              "      <td>1.0</td>\n",
              "      <td>296.0</td>\n",
              "      <td>15.3</td>\n",
              "      <td>396.90</td>\n",
              "      <td>4.98</td>\n",
              "      <td>24.0</td>\n",
              "    </tr>\n",
              "    <tr>\n",
              "      <th>1</th>\n",
              "      <td>0.02731</td>\n",
              "      <td>0.0</td>\n",
              "      <td>7.07</td>\n",
              "      <td>0.0</td>\n",
              "      <td>0.469</td>\n",
              "      <td>6.421</td>\n",
              "      <td>78.9</td>\n",
              "      <td>4.9671</td>\n",
              "      <td>2.0</td>\n",
              "      <td>242.0</td>\n",
              "      <td>17.8</td>\n",
              "      <td>396.90</td>\n",
              "      <td>9.14</td>\n",
              "      <td>21.6</td>\n",
              "    </tr>\n",
              "    <tr>\n",
              "      <th>2</th>\n",
              "      <td>0.02729</td>\n",
              "      <td>0.0</td>\n",
              "      <td>7.07</td>\n",
              "      <td>0.0</td>\n",
              "      <td>0.469</td>\n",
              "      <td>7.185</td>\n",
              "      <td>61.1</td>\n",
              "      <td>4.9671</td>\n",
              "      <td>2.0</td>\n",
              "      <td>242.0</td>\n",
              "      <td>17.8</td>\n",
              "      <td>392.83</td>\n",
              "      <td>4.03</td>\n",
              "      <td>34.7</td>\n",
              "    </tr>\n",
              "    <tr>\n",
              "      <th>3</th>\n",
              "      <td>0.03237</td>\n",
              "      <td>0.0</td>\n",
              "      <td>2.18</td>\n",
              "      <td>0.0</td>\n",
              "      <td>0.458</td>\n",
              "      <td>6.998</td>\n",
              "      <td>45.8</td>\n",
              "      <td>6.0622</td>\n",
              "      <td>3.0</td>\n",
              "      <td>222.0</td>\n",
              "      <td>18.7</td>\n",
              "      <td>394.63</td>\n",
              "      <td>2.94</td>\n",
              "      <td>33.4</td>\n",
              "    </tr>\n",
              "    <tr>\n",
              "      <th>4</th>\n",
              "      <td>0.06905</td>\n",
              "      <td>0.0</td>\n",
              "      <td>2.18</td>\n",
              "      <td>0.0</td>\n",
              "      <td>0.458</td>\n",
              "      <td>7.147</td>\n",
              "      <td>54.2</td>\n",
              "      <td>6.0622</td>\n",
              "      <td>3.0</td>\n",
              "      <td>222.0</td>\n",
              "      <td>18.7</td>\n",
              "      <td>396.90</td>\n",
              "      <td>5.33</td>\n",
              "      <td>36.2</td>\n",
              "    </tr>\n",
              "  </tbody>\n",
              "</table>\n",
              "</div>\n",
              "      <button class=\"colab-df-convert\" onclick=\"convertToInteractive('df-aeb043ac-2a62-4de4-9216-c3e0dbcf9f6c')\"\n",
              "              title=\"Convert this dataframe to an interactive table.\"\n",
              "              style=\"display:none;\">\n",
              "        \n",
              "  <svg xmlns=\"http://www.w3.org/2000/svg\" height=\"24px\"viewBox=\"0 0 24 24\"\n",
              "       width=\"24px\">\n",
              "    <path d=\"M0 0h24v24H0V0z\" fill=\"none\"/>\n",
              "    <path d=\"M18.56 5.44l.94 2.06.94-2.06 2.06-.94-2.06-.94-.94-2.06-.94 2.06-2.06.94zm-11 1L8.5 8.5l.94-2.06 2.06-.94-2.06-.94L8.5 2.5l-.94 2.06-2.06.94zm10 10l.94 2.06.94-2.06 2.06-.94-2.06-.94-.94-2.06-.94 2.06-2.06.94z\"/><path d=\"M17.41 7.96l-1.37-1.37c-.4-.4-.92-.59-1.43-.59-.52 0-1.04.2-1.43.59L10.3 9.45l-7.72 7.72c-.78.78-.78 2.05 0 2.83L4 21.41c.39.39.9.59 1.41.59.51 0 1.02-.2 1.41-.59l7.78-7.78 2.81-2.81c.8-.78.8-2.07 0-2.86zM5.41 20L4 18.59l7.72-7.72 1.47 1.35L5.41 20z\"/>\n",
              "  </svg>\n",
              "      </button>\n",
              "      \n",
              "  <style>\n",
              "    .colab-df-container {\n",
              "      display:flex;\n",
              "      flex-wrap:wrap;\n",
              "      gap: 12px;\n",
              "    }\n",
              "\n",
              "    .colab-df-convert {\n",
              "      background-color: #E8F0FE;\n",
              "      border: none;\n",
              "      border-radius: 50%;\n",
              "      cursor: pointer;\n",
              "      display: none;\n",
              "      fill: #1967D2;\n",
              "      height: 32px;\n",
              "      padding: 0 0 0 0;\n",
              "      width: 32px;\n",
              "    }\n",
              "\n",
              "    .colab-df-convert:hover {\n",
              "      background-color: #E2EBFA;\n",
              "      box-shadow: 0px 1px 2px rgba(60, 64, 67, 0.3), 0px 1px 3px 1px rgba(60, 64, 67, 0.15);\n",
              "      fill: #174EA6;\n",
              "    }\n",
              "\n",
              "    [theme=dark] .colab-df-convert {\n",
              "      background-color: #3B4455;\n",
              "      fill: #D2E3FC;\n",
              "    }\n",
              "\n",
              "    [theme=dark] .colab-df-convert:hover {\n",
              "      background-color: #434B5C;\n",
              "      box-shadow: 0px 1px 3px 1px rgba(0, 0, 0, 0.15);\n",
              "      filter: drop-shadow(0px 1px 2px rgba(0, 0, 0, 0.3));\n",
              "      fill: #FFFFFF;\n",
              "    }\n",
              "  </style>\n",
              "\n",
              "      <script>\n",
              "        const buttonEl =\n",
              "          document.querySelector('#df-aeb043ac-2a62-4de4-9216-c3e0dbcf9f6c button.colab-df-convert');\n",
              "        buttonEl.style.display =\n",
              "          google.colab.kernel.accessAllowed ? 'block' : 'none';\n",
              "\n",
              "        async function convertToInteractive(key) {\n",
              "          const element = document.querySelector('#df-aeb043ac-2a62-4de4-9216-c3e0dbcf9f6c');\n",
              "          const dataTable =\n",
              "            await google.colab.kernel.invokeFunction('convertToInteractive',\n",
              "                                                     [key], {});\n",
              "          if (!dataTable) return;\n",
              "\n",
              "          const docLinkHtml = 'Like what you see? Visit the ' +\n",
              "            '<a target=\"_blank\" href=https://colab.research.google.com/notebooks/data_table.ipynb>data table notebook</a>'\n",
              "            + ' to learn more about interactive tables.';\n",
              "          element.innerHTML = '';\n",
              "          dataTable['output_type'] = 'display_data';\n",
              "          await google.colab.output.renderOutput(dataTable, element);\n",
              "          const docLink = document.createElement('div');\n",
              "          docLink.innerHTML = docLinkHtml;\n",
              "          element.appendChild(docLink);\n",
              "        }\n",
              "      </script>\n",
              "    </div>\n",
              "  </div>\n",
              "  "
            ],
            "text/plain": [
              "      CRIM    ZN  INDUS  CHAS    NOX  ...    TAX  PTRATIO       B  LSTAT  Price\n",
              "0  0.00632  18.0   2.31   0.0  0.538  ...  296.0     15.3  396.90   4.98   24.0\n",
              "1  0.02731   0.0   7.07   0.0  0.469  ...  242.0     17.8  396.90   9.14   21.6\n",
              "2  0.02729   0.0   7.07   0.0  0.469  ...  242.0     17.8  392.83   4.03   34.7\n",
              "3  0.03237   0.0   2.18   0.0  0.458  ...  222.0     18.7  394.63   2.94   33.4\n",
              "4  0.06905   0.0   2.18   0.0  0.458  ...  222.0     18.7  396.90   5.33   36.2\n",
              "\n",
              "[5 rows x 14 columns]"
            ]
          },
          "metadata": {},
          "execution_count": 9
        }
      ]
    },
    {
      "cell_type": "code",
      "source": [
        "X = dataset.iloc[:,:-1]  # independent features\n",
        "y = dataset.iloc[:,-1]   # dependent features"
      ],
      "metadata": {
        "id": "fATtnn7LolnY"
      },
      "execution_count": 10,
      "outputs": []
    },
    {
      "cell_type": "code",
      "source": [
        "y.head()"
      ],
      "metadata": {
        "colab": {
          "base_uri": "https://localhost:8080/"
        },
        "id": "3Ht_3WBipEaF",
        "outputId": "f7954867-6698-4681-d2d0-c895f9bf091c"
      },
      "execution_count": 11,
      "outputs": [
        {
          "output_type": "execute_result",
          "data": {
            "text/plain": [
              "0    24.0\n",
              "1    21.6\n",
              "2    34.7\n",
              "3    33.4\n",
              "4    36.2\n",
              "Name: Price, dtype: float64"
            ]
          },
          "metadata": {},
          "execution_count": 11
        }
      ]
    },
    {
      "cell_type": "markdown",
      "source": [
        "# Linear Regression"
      ],
      "metadata": {
        "id": "UkQxcpWqrOlS"
      }
    },
    {
      "cell_type": "code",
      "source": [
        "from sklearn.model_selection import cross_val_score\n",
        "from sklearn.linear_model import LinearRegression\n",
        "lin_regressor = LinearRegression()\n",
        "mse = cross_val_score(lin_regressor,X,y,scoring='neg_mean_squared_error', cv = 5)\n",
        "mean_mse = np.mean(mse)\n",
        "print(mean_mse)"
      ],
      "metadata": {
        "colab": {
          "base_uri": "https://localhost:8080/"
        },
        "id": "fQuSTZ7cpIXG",
        "outputId": "712ff392-2705-4b91-b9b1-dcc11978524a"
      },
      "execution_count": 12,
      "outputs": [
        {
          "output_type": "stream",
          "name": "stdout",
          "text": [
            "-37.13180746769903\n"
          ]
        }
      ]
    },
    {
      "cell_type": "markdown",
      "source": [
        "# Ridge Regression\n",
        "\n",
        "![image.png](data:image/png;base64,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)"
      ],
      "metadata": {
        "id": "db9vJMcYrVo0"
      }
    },
    {
      "cell_type": "code",
      "source": [
        "from sklearn.linear_model import Ridge\n",
        "from sklearn.model_selection import GridSearchCV\n",
        " \n",
        "ridge=Ridge()\n",
        "parameters={'alpha':[1e-15,1e-10,1e-8,1e-3,1e-2,1,5,10,20,30,35,40,45,50,55,100]}\n",
        "ridge_regressor=GridSearchCV(ridge,parameters,scoring='neg_mean_squared_error',cv=5)\n",
        "ridge_regressor.fit(X,y)\n",
        "\n",
        "print(ridge_regressor.best_params_)\n",
        "print(ridge_regressor.best_score_)"
      ],
      "metadata": {
        "colab": {
          "base_uri": "https://localhost:8080/"
        },
        "id": "Dl7qvltJpfZy",
        "outputId": "42038ba4-13db-4aba-c530-31b04fba7a92"
      },
      "execution_count": 14,
      "outputs": [
        {
          "output_type": "stream",
          "name": "stdout",
          "text": [
            "{'alpha': 100}\n",
            "-29.905701947540344\n"
          ]
        }
      ]
    },
    {
      "cell_type": "markdown",
      "source": [
        "The negative sign is because of the known error in the Grid Search Cross Validation library, so ignore the negative sign."
      ],
      "metadata": {
        "id": "ZoBYgmE0O8OI"
      }
    },
    {
      "cell_type": "code",
      "source": [
        "# predictors = X_train.columns\n",
        " \n",
        "# coef = Series(ridgeReg.coef_.flatten(),predictors).sort_values()\n",
        "# plt.figure(figsize=(10,8))\n",
        "# coef.plot(kind='bar', title='Model Coefficients')\n",
        "# plt.show()"
      ],
      "metadata": {
        "id": "pLAxWuVpprls"
      },
      "execution_count": 19,
      "outputs": []
    },
    {
      "cell_type": "markdown",
      "source": [
        "# Lasso Regressor"
      ],
      "metadata": {
        "id": "rvEtgEBuPgNt"
      }
    },
    {
      "cell_type": "code",
      "source": [
        "from sklearn.linear_model import Lasso\n",
        "from sklearn.model_selection import GridSearchCV\n",
        "lasso = Lasso()\n",
        "parameters={'alpha':[1e-15,1e-10,1e-8,1e-3,1e-2,1,5,10,20,30,35,40,45,50,55,100]}\n",
        "lasso_regressor=GridSearchCV(lasso,parameters,scoring='neg_mean_squared_error',cv=5)\n",
        "lasso_regressor.fit(X,y)\n",
        "\n",
        "print(lasso_regressor.best_params_)\n",
        "print(lasso_regressor.best_score_)"
      ],
      "metadata": {
        "colab": {
          "base_uri": "https://localhost:8080/"
        },
        "id": "K4SoeYuUPBXm",
        "outputId": "ce96f881-fe26-4600-9cdb-151f513b68a2"
      },
      "execution_count": 20,
      "outputs": [
        {
          "output_type": "stream",
          "name": "stderr",
          "text": [
            "/usr/local/lib/python3.7/dist-packages/sklearn/linear_model/_coordinate_descent.py:648: ConvergenceWarning: Objective did not converge. You might want to increase the number of iterations, check the scale of the features or consider increasing regularisation. Duality gap: 4.633e+03, tolerance: 3.919e+00\n",
            "  coef_, l1_reg, l2_reg, X, y, max_iter, tol, rng, random, positive\n",
            "/usr/local/lib/python3.7/dist-packages/sklearn/linear_model/_coordinate_descent.py:648: ConvergenceWarning: Objective did not converge. You might want to increase the number of iterations, check the scale of the features or consider increasing regularisation. Duality gap: 3.764e+03, tolerance: 3.307e+00\n",
            "  coef_, l1_reg, l2_reg, X, y, max_iter, tol, rng, random, positive\n",
            "/usr/local/lib/python3.7/dist-packages/sklearn/linear_model/_coordinate_descent.py:648: ConvergenceWarning: Objective did not converge. You might want to increase the number of iterations, check the scale of the features or consider increasing regularisation. Duality gap: 4.210e+03, tolerance: 2.814e+00\n",
            "  coef_, l1_reg, l2_reg, X, y, max_iter, tol, rng, random, positive\n",
            "/usr/local/lib/python3.7/dist-packages/sklearn/linear_model/_coordinate_descent.py:648: ConvergenceWarning: Objective did not converge. You might want to increase the number of iterations, check the scale of the features or consider increasing regularisation. Duality gap: 2.543e+03, tolerance: 3.307e+00\n",
            "  coef_, l1_reg, l2_reg, X, y, max_iter, tol, rng, random, positive\n",
            "/usr/local/lib/python3.7/dist-packages/sklearn/linear_model/_coordinate_descent.py:648: ConvergenceWarning: Objective did not converge. You might want to increase the number of iterations, check the scale of the features or consider increasing regularisation. Duality gap: 3.802e+03, tolerance: 3.481e+00\n",
            "  coef_, l1_reg, l2_reg, X, y, max_iter, tol, rng, random, positive\n"
          ]
        },
        {
          "output_type": "stream",
          "name": "stdout",
          "text": [
            "{'alpha': 1}\n",
            "-35.53158022069486\n"
          ]
        }
      ]
    },
    {
      "cell_type": "code",
      "source": [
        "from sklearn.model_selection import train_test_split\n",
        "X_train,X_test,y_train,y_test = train_test_split(X,y,test_size= 0.3, random_state= 0)"
      ],
      "metadata": {
        "id": "gUhAjecfQDh9"
      },
      "execution_count": 21,
      "outputs": []
    },
    {
      "cell_type": "code",
      "source": [
        "prediction_lasso = lasso_regressor.predict(X_test)\n",
        "prediction_ridge = ridge_regressor.predict(X_test)"
      ],
      "metadata": {
        "id": "7Km1_6RjQ23g"
      },
      "execution_count": 23,
      "outputs": []
    },
    {
      "cell_type": "code",
      "source": [
        "import seaborn as sns\n",
        "sns.distplot(y_test-prediction_lasso)"
      ],
      "metadata": {
        "colab": {
          "base_uri": "https://localhost:8080/",
          "height": 351
        },
        "id": "QlwbwYzQRG4i",
        "outputId": "8b0b35c6-1103-4fc6-e145-87d374a13dc8"
      },
      "execution_count": 28,
      "outputs": [
        {
          "output_type": "stream",
          "name": "stderr",
          "text": [
            "/usr/local/lib/python3.7/dist-packages/seaborn/distributions.py:2619: FutureWarning: `distplot` is a deprecated function and will be removed in a future version. Please adapt your code to use either `displot` (a figure-level function with similar flexibility) or `histplot` (an axes-level function for histograms).\n",
            "  warnings.warn(msg, FutureWarning)\n"
          ]
        },
        {
          "output_type": "execute_result",
          "data": {
            "text/plain": [
              "<matplotlib.axes._subplots.AxesSubplot at 0x7fe716b09c90>"
            ]
          },
          "metadata": {},
          "execution_count": 28
        },
        {
          "output_type": "display_data",
          "data": {
            "image/png": "[encoded data removed]",
            "text/plain": [
              "<Figure size 432x288 with 1 Axes>"
            ]
          },
          "metadata": {
            "needs_background": "light"
          }
        }
      ]
    },
    {
      "cell_type": "code",
      "source": [
        "import seaborn as sns\n",
        "sns.distplot(y_test-prediction_ridge)"
      ],
      "metadata": {
        "colab": {
          "base_uri": "https://localhost:8080/",
          "height": 351
        },
        "id": "JP2NpRIfRVDZ",
        "outputId": "6ddaab84-2868-48f5-ca12-f4797d94855b"
      },
      "execution_count": 29,
      "outputs": [
        {
          "output_type": "stream",
          "name": "stderr",
          "text": [
            "/usr/local/lib/python3.7/dist-packages/seaborn/distributions.py:2619: FutureWarning: `distplot` is a deprecated function and will be removed in a future version. Please adapt your code to use either `displot` (a figure-level function with similar flexibility) or `histplot` (an axes-level function for histograms).\n",
            "  warnings.warn(msg, FutureWarning)\n"
          ]
        },
        {
          "output_type": "execute_result",
          "data": {
            "text/plain": [
              "<matplotlib.axes._subplots.AxesSubplot at 0x7fe7166b1e90>"
            ]
          },
          "metadata": {},
          "execution_count": 29
        },
        {
          "output_type": "display_data",
          "data": {
            "image/png": "[encoded data removed]",
            "text/plain": [
              "<Figure size 432x288 with 1 Axes>"
            ]
          },
          "metadata": {
            "needs_background": "light"
          }
        }
      ]
    },
    {
      "cell_type": "code",
      "source": [
        ""
      ],
      "metadata": {
        "id": "AXprHEtPSMYC"
      },
      "execution_count": null,
      "outputs": []
    }
  ]
}