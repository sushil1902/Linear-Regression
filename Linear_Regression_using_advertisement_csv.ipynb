{
  "nbformat": 4,
  "nbformat_minor": 0,
  "metadata": {
    "colab": {
      "name": "Linear Regression_using_advertisement.csv.ipynb",
      "provenance": [],
      "collapsed_sections": [],
      "include_colab_link": true
    },
    "kernelspec": {
      "display_name": "Python 3",
      "language": "python",
      "name": "python3"
    },
    "language_info": {
      "codemirror_mode": {
        "name": "ipython",
        "version": 3
      },
      "file_extension": ".py",
      "mimetype": "text/x-python",
      "name": "python",
      "nbconvert_exporter": "python",
      "pygments_lexer": "ipython3",
      "version": "3.8.5"
    }
  },
  "cells": [
    {
      "cell_type": "markdown",
      "metadata": {
        "id": "view-in-github",
        "colab_type": "text"
      },
      "source": [
        "<a href=\"https://colab.research.google.com/github/sushil1902/Linear-Regression/blob/main/Linear_Regression_using_advertisement_csv.ipynb\" target=\"_parent\"><img src=\"https://colab.research.google.com/assets/colab-badge.svg\" alt=\"Open In Colab\"/></a>"
      ]
    },
    {
      "cell_type": "markdown",
      "metadata": {
        "id": "Aew4bgNerjxl"
      },
      "source": [
        "# Linear Regression_using_advertisement.csv"
      ]
    },
    {
      "cell_type": "markdown",
      "metadata": {
        "id": "Wen3uYwIfvSZ"
      },
      "source": [
        "---\n",
        "# **Table of Contents**\n",
        "---\n",
        "\n",
        "**1.** [**Introduction**](#Section1)<br>\n",
        "  - **1.1** [**Linear Regression Equation**](#Section11)\n",
        "  - **1.2** [**Assumptions of Linear Regression**](#Section12)\n",
        "\n",
        "**2.** [**Problem Statement**](#Section2)<br>\n",
        "**3.** [**Installing & Importing Libraries**](#Section3)<br>\n",
        "  - **3.1** [**Installing Libraries**](#Section31)\n",
        "  - **3.2** [**Importing Libraries**](#Section32)\n",
        "\n",
        "**4.** [**Data Acquisition & Description**](#Section4)<br>\n",
        "  - **4.1** [**Data Description**](#Section41)\n",
        "  - **4.2** [**Data Information**](#Section42)\n",
        "\n",
        "**5.** [**Data Pre-processing**](#Section5)<br>\n",
        "  - **5.1** [**Pre-Profiling Report**](#Section51)<br>\n",
        "\n",
        "**6.** [**Exploratory Data Analysis**](#Section6)<br>\n",
        "**7.** [**Post Data Processing**](#Section7)<br>\n",
        "  - **7.1** [**Data Standardization**](#Section71)<br>\n",
        "  - **7.2** [**Data Preparation**](#Section73)<br>\n",
        "\n",
        "**8.** [**Model Development & Evaluation**](#Section8)<br>\n",
        "  - **8.1** [**Linear Regression in Scikit-Learn**](#Section81)<br>\n",
        "  - **8.2** [**Interpreting Model Coefficients**](#Section82)<br>\n",
        "  - **8.3** [**Using the Model for Prediction**](#Section83)<br>\n",
        "  - **8.4** [**Model Evaluation**](#section84)<br>\n",
        "  - **8.5** [**Model Evaluation using R-Squared and adjusted R-squared**](#section85)<br>\n",
        "\n",
        "**9.** [**Conclusion**](#Section9)<br>\n",
        "\n"
      ]
    },
    {
      "cell_type": "markdown",
      "metadata": {
        "id": "-k9cUp34rjyU"
      },
      "source": [
        "---\n",
        "# 1. **Introduction**\n",
        "---\n",
        "__Linear regression__ is a _basic_ and _commonly_ used type of __predictive analysis__.  The overall idea of regression is to examine two things: \n",
        "- Does a set of __predictor variables__ do a good job in predicting an __outcome__ (dependent) variable?  \n",
        "\n",
        "- Which variables in particular are __significant predictors__ of the outcome variable, and in what way they do __impact__ the outcome variable?  \n",
        "\n",
        "These regression estimates are used to explain the __relationship between one dependent variable and one or more independent variables__.  \n",
        "\n",
        "- The simplest form of the regression equation with one dependent and one independent variable is defined by the formula: \n",
        "\n",
        "<br> \n",
        "<center><img src=\"https://raw.githubusercontent.com/insaid2018/Term-2/master/images/LR%201.png\" width=\"300\" height=\"240\" /></center>\n",
        "\n",
        "What does each term represent?\n",
        "- $y$ is the **response**\n",
        "\n",
        "- $x$ is the **feature**\n",
        "\n",
        "- $\\beta_0$ is the **intercept**\n",
        "\n",
        "- $\\beta_1$ is the **coefficient for x**\n",
        "\n",
        "\n",
        "Three major uses for __regression analysis__ are: \n",
        "- determining the __strength__ of predictors,\n",
        "    - For example: What is the strength of __relationship__ between _drug dose and effect_, _sales and marketing spends_, or _age and income_.\n",
        "- __forecasting__ an effect\n",
        "    - For example: How much __additional sales revenue__ do I get for each additional $1000 spent on marketing?\n",
        "- __trend__ forecasting\n",
        "    - For example: What will be the __price of house__ in next _6 months_?"
      ]
    },
    {
      "cell_type": "markdown",
      "metadata": {
        "id": "QkzxPiAsrjyV"
      },
      "source": [
        "### 1.1. **Linear Regression Equation**\n",
        "\n",
        "While taking errors into consideration the equation of linear regression is: \n",
        "\n",
        "<center><img src=\"https://raw.githubusercontent.com/insaid2018/Term-2/master/images/LR%202.png\" width=\"500\" height=\"240\" /></center>\n",
        "\n",
        "Generally speaking, coefficients are estimated using the **least squares criterion**, which means we are finding the line (mathematically) which minimizes the **sum of squared residuals** (or \"sum of squared errors\"):\n"
      ]
    },
    {
      "cell_type": "markdown",
      "metadata": {
        "id": "D-3NTYz5rjyV"
      },
      "source": [
        "<center><img src=\"https://raw.githubusercontent.com/insaid2018/Term-2/master/images/LR%203.png\" width=\"500\" height=\"240\" /></center>\n",
        "\n",
        "The elements present in the diagram are:\n",
        "\n",
        "- The black dots are the **observed values** of x and y.\n",
        "\n",
        "\n",
        "- The blue line is our **least squares line**.\n",
        "\n",
        "\n",
        "- The red lines are the **residuals**, which are the distances between the observed values and the least squares line.\n",
        "\n"
      ]
    },
    {
      "cell_type": "markdown",
      "metadata": {
        "id": "eRRc0G6_rjyV"
      },
      "source": [
        "How do the model coefficients relate to the least squares line?\n",
        "\n",
        "\n",
        "- $\\beta_0$ is the **intercept** (the value of $y$ when $x$ = 0)\n",
        "\n",
        "\n",
        "- $\\beta_1$ is the **slope** (the change in $y$ divided by change in $x$)\n",
        "\n",
        "Here is a graphical depiction of those calculations:\n",
        "\n",
        "<center><img src=\"https://raw.githubusercontent.com/insaid2018/Term-2/master/images/LR%205.png\" width=\"500\" height=\"240\" /></center>"
      ]
    },
    {
      "cell_type": "markdown",
      "metadata": {
        "id": "ol18s9Q8rjyW"
      },
      "source": [
        "### 1.2. **Assumptions of Linear Regression**\n",
        "\n",
        "<br> \n",
        "<center><img src=\"https://raw.githubusercontent.com/insaid2018/Term-2/master/images/how-to-stop-making-assumptions-1200x600.png\" width=\"300\" height=\"160\" /></center>\n",
        "<br> "
      ]
    },
    {
      "cell_type": "markdown",
      "metadata": {
        "id": "_i-rBsSurjyW"
      },
      "source": [
        "1. There should be a **linear** and **additive** relationship between **dependent** (response) variable and **independent (predictor)** variable(s). \n",
        "\n",
        "\n",
        "2. There should be **no correlation** between the **residual (error)** terms. Absence of this phenomenon is known as **Autocorrelation**.\n",
        "\n",
        "\n",
        "3. The **independent** variables should not be **correlated**. Absence of this phenomenon is known as **multicollinearity**.\n",
        "\n",
        "\n",
        "4. The **error** terms must have **constant variance**. This phenomenon is known as **homoskedasticity**. The presence of non-constant **variance** is referred to **heteroskedasticity**.\n",
        "\n",
        "\n",
        "5. The **error** terms must be **normally** distributed."
      ]
    },
    {
      "cell_type": "markdown",
      "metadata": {
        "id": "HHUp99eUrjxn"
      },
      "source": [
        "---\n",
        "# 2. Problem Statement\n",
        "---\n",
        "This **dataset** consists of **advertising budgets** for **TV, radio and newspaper media** for **determining the sales of the product**.\n",
        "\n",
        "<center><img src=\"https://raw.githubusercontent.com/insaid2018/Term-2/master/images/agency-graphic-300x160.jpeg\" width=400 height=240></center>  \n",
        "\n",
        "Your role as **Data Scientist** is to find: \n",
        "\n",
        "- A **function** for **sales prediction** of a product with respect to **advertising budgets** and **visualize** relationship between **features** and **response**. \n",
        "\n",
        "- Also determine which **media** contributes to **sales**.\n",
        "\n",
        "<br> \n",
        "<center><img src=\"https://raw.githubusercontent.com/insaid2018/Term-2/master/images/download.jpg\" width=360 height=300></center>"
      ]
    },
    {
      "cell_type": "markdown",
      "metadata": {
        "id": "vMY5oyUPHR1a"
      },
      "source": [
        "---\n",
        "# 3. Installing & Importing Libraries\n",
        "---"
      ]
    },
    {
      "cell_type": "markdown",
      "metadata": {
        "id": "GO8A-0t9f4SH"
      },
      "source": [
        "<a name = Section31></a>\n",
        "### **3.1 Installing Libraries**"
      ]
    },
    {
      "cell_type": "code",
      "metadata": {
        "colab": {
          "base_uri": "https://localhost:8080/",
          "height": 390
        },
        "id": "tgQOEhmAfgNc",
        "outputId": "ddc5f646-e8cb-4c29-f4ee-ea3100760b77"
      },
      "source": [
        "!pip install -q datascience                   # Package that is required by pandas profiling\n",
        "!pip install -q pandas-profiling              # Library to generate basic statistics about data \n",
        "!pip install pandas==0.25"
      ],
      "execution_count": null,
      "outputs": [
        {
          "name": "stderr",
          "output_type": "stream",
          "text": [
            "ERROR: Invalid requirement: '#'\n",
            "ERROR: Invalid requirement: '#'\n"
          ]
        },
        {
          "name": "stdout",
          "output_type": "stream",
          "text": [
            "Collecting pandas==0.25\n",
            "  Using cached pandas-0.25.0.tar.gz (12.6 MB)\n",
            "Requirement already satisfied: python-dateutil>=2.6.1 in c:\\users\\itqlap\\anaconda3\\lib\\site-packages (from pandas==0.25) (2.8.1)\n",
            "Requirement already satisfied: pytz>=2017.2 in c:\\users\\itqlap\\anaconda3\\lib\\site-packages (from pandas==0.25) (2020.1)\n",
            "Requirement already satisfied: numpy>=1.13.3 in c:\\users\\itqlap\\anaconda3\\lib\\site-packages (from pandas==0.25) (1.19.2)\n",
            "Requirement already satisfied: six>=1.5 in c:\\users\\itqlap\\anaconda3\\lib\\site-packages (from python-dateutil>=2.6.1->pandas==0.25) (1.15.0)\n",
            "Building wheels for collected packages: pandas\n",
            "  Building wheel for pandas (setup.py): started\n",
            "  Building wheel for pandas (setup.py): still running...\n",
            "  Building wheel for pandas (setup.py): finished with status 'error'\n",
            "  Running setup.py clean for pandas\n",
            "Failed to build pandas\n",
            "Installing collected packages: pandas\n",
            "  Attempting uninstall: pandas\n",
            "    Found existing installation: pandas 1.1.3\n",
            "    Uninstalling pandas-1.1.3:"
          ]
        },
        {
          "name": "stderr",
          "output_type": "stream",
          "text": [
            "  ERROR: Command errored out with exit status 1:\n",
            "   command: 'C:\\Users\\ITQLAP\\anaconda3\\python.exe' -u -c 'import sys, setuptools, tokenize; sys.argv[0] = '\"'\"'C:\\\\Users\\\\ITQLAP\\\\AppData\\\\Local\\\\Temp\\\\pip-install-s8vznsxb\\\\pandas\\\\setup.py'\"'\"'; __file__='\"'\"'C:\\\\Users\\\\ITQLAP\\\\AppData\\\\Local\\\\Temp\\\\pip-install-s8vznsxb\\\\pandas\\\\setup.py'\"'\"';f=getattr(tokenize, '\"'\"'open'\"'\"', open)(__file__);code=f.read().replace('\"'\"'\\r\\n'\"'\"', '\"'\"'\\n'\"'\"');f.close();exec(compile(code, __file__, '\"'\"'exec'\"'\"'))' bdist_wheel -d 'C:\\Users\\ITQLAP\\AppData\\Local\\Temp\\pip-wheel-gxhqf2if'\n",
            "       cwd: C:\\Users\\ITQLAP\\AppData\\Local\\Temp\\pip-install-s8vznsxb\\pandas\\\n",
            "  Complete output (907 lines):\n",
            "  running bdist_wheel\n",
            "  running build\n",
            "  running build_py\n",
            "  creating build\n",
            "  creating build\\lib.win-amd64-3.8\n",
            "  creating build\\lib.win-amd64-3.8\\pandas\n",
            "  copying pandas\\conftest.py -> build\\lib.win-amd64-3.8\\pandas\n",
            "  copying pandas\\testing.py -> build\\lib.win-amd64-3.8\\pandas\n",
            "  copying pandas\\_typing.py -> build\\lib.win-amd64-3.8\\pandas\n",
            "  copying pandas\\_version.py -> build\\lib.win-amd64-3.8\\pandas\n",
            "  copying pandas\\__init__.py -> build\\lib.win-amd64-3.8\\pandas\n",
            "  creating build\\lib.win-amd64-3.8\\pandas\\api\n",
            "  copying pandas\\api\\__init__.py -> build\\lib.win-amd64-3.8\\pandas\\api\n",
            "  creating build\\lib.win-amd64-3.8\\pandas\\arrays\n",
            "  copying pandas\\arrays\\__init__.py -> build\\lib.win-amd64-3.8\\pandas\\arrays\n",
            "  creating build\\lib.win-amd64-3.8\\pandas\\compat\n",
            "  copying pandas\\compat\\chainmap.py -> build\\lib.win-amd64-3.8\\pandas\\compat\n",
            "  copying pandas\\compat\\pickle_compat.py -> build\\lib.win-amd64-3.8\\pandas\\compat\n",
            "  copying pandas\\compat\\_optional.py -> build\\lib.win-amd64-3.8\\pandas\\compat\n",
            "  copying pandas\\compat\\__init__.py -> build\\lib.win-amd64-3.8\\pandas\\compat\n",
            "  creating build\\lib.win-amd64-3.8\\pandas\\core\n",
            "  copying pandas\\core\\accessor.py -> build\\lib.win-amd64-3.8\\pandas\\core\n",
            "  copying pandas\\core\\algorithms.py -> build\\lib.win-amd64-3.8\\pandas\\core\n",
            "  copying pandas\\core\\api.py -> build\\lib.win-amd64-3.8\\pandas\\core\n",
            "  copying pandas\\core\\apply.py -> build\\lib.win-amd64-3.8\\pandas\\core\n",
            "  copying pandas\\core\\base.py -> build\\lib.win-amd64-3.8\\pandas\\core\n",
            "  copying pandas\\core\\common.py -> build\\lib.win-amd64-3.8\\pandas\\core\n",
            "  copying pandas\\core\\config_init.py -> build\\lib.win-amd64-3.8\\pandas\\core\n",
            "  copying pandas\\core\\frame.py -> build\\lib.win-amd64-3.8\\pandas\\core\n",
            "  copying pandas\\core\\generic.py -> build\\lib.win-amd64-3.8\\pandas\\core\n",
            "  copying pandas\\core\\index.py -> build\\lib.win-amd64-3.8\\pandas\\core\n",
            "  copying pandas\\core\\indexers.py -> build\\lib.win-amd64-3.8\\pandas\\core\n",
            "  copying pandas\\core\\indexing.py -> build\\lib.win-amd64-3.8\\pandas\\core\n",
            "  copying pandas\\core\\missing.py -> build\\lib.win-amd64-3.8\\pandas\\core\n",
            "  copying pandas\\core\\nanops.py -> build\\lib.win-amd64-3.8\\pandas\\core\n",
            "  copying pandas\\core\\resample.py -> build\\lib.win-amd64-3.8\\pandas\\core\n",
            "  copying pandas\\core\\series.py -> build\\lib.win-amd64-3.8\\pandas\\core\n",
            "  copying pandas\\core\\sorting.py -> build\\lib.win-amd64-3.8\\pandas\\core\n",
            "  copying pandas\\core\\strings.py -> build\\lib.win-amd64-3.8\\pandas\\core\n"
          ]
        },
        {
          "name": "stdout",
          "output_type": "stream",
          "text": [
            "\n",
            "      Successfully uninstalled pandas-1.1.3\n",
            "    Running setup.py install for pandas: started\n",
            "    Running setup.py install for pandas: still running...\n",
            "    Running setup.py install for pandas: still running...\n",
            "    Running setup.py install for pandas: still running...\n",
            "    Running setup.py install for pandas: still running...\n",
            "    Running setup.py install for pandas: still running...\n",
            "    Running setup.py install for pandas: finished with status 'error'\n",
            "  Rolling back uninstall of pandas\n",
            "  Moving to c:\\users\\itqlap\\anaconda3\\lib\\site-packages\\pandas-1.1.3.dist-info\\\n"
          ]
        },
        {
          "name": "stderr",
          "output_type": "stream",
          "text": [
            "  copying pandas\\core\\window.py -> build\\lib.win-amd64-3.8\\pandas\\core\n",
            "  copying pandas\\core\\__init__.py -> build\\lib.win-amd64-3.8\\pandas\\core\n",
            "  creating build\\lib.win-amd64-3.8\\pandas\\errors\n",
            "  copying pandas\\errors\\__init__.py -> build\\lib.win-amd64-3.8\\pandas\\errors\n",
            "  creating build\\lib.win-amd64-3.8\\pandas\\io\n",
            "  copying pandas\\io\\api.py -> build\\lib.win-amd64-3.8\\pandas\\io\n",
            "  copying pandas\\io\\clipboards.py -> build\\lib.win-amd64-3.8\\pandas\\io\n",
            "  copying pandas\\io\\common.py -> build\\lib.win-amd64-3.8\\pandas\\io\n",
            "  copying pandas\\io\\date_converters.py -> build\\lib.win-amd64-3.8\\pandas\\io\n",
            "  copying pandas\\io\\feather_format.py -> build\\lib.win-amd64-3.8\\pandas\\io\n",
            "  copying pandas\\io\\gbq.py -> build\\lib.win-amd64-3.8\\pandas\\io\n",
            "  copying pandas\\io\\gcs.py -> build\\lib.win-amd64-3.8\\pandas\\io\n",
            "  copying pandas\\io\\html.py -> build\\lib.win-amd64-3.8\\pandas\\io\n",
            "  copying pandas\\io\\packers.py -> build\\lib.win-amd64-3.8\\pandas\\io\n",
            "  copying pandas\\io\\parquet.py -> build\\lib.win-amd64-3.8\\pandas\\io\n",
            "  copying pandas\\io\\parsers.py -> build\\lib.win-amd64-3.8\\pandas\\io\n",
            "  copying pandas\\io\\pickle.py -> build\\lib.win-amd64-3.8\\pandas\\io\n",
            "  copying pandas\\io\\pytables.py -> build\\lib.win-amd64-3.8\\pandas\\io\n",
            "  copying pandas\\io\\s3.py -> build\\lib.win-amd64-3.8\\pandas\\io\n",
            "  copying pandas\\io\\spss.py -> build\\lib.win-amd64-3.8\\pandas\\io\n",
            "  copying pandas\\io\\sql.py -> build\\lib.win-amd64-3.8\\pandas\\io\n",
            "  copying pandas\\io\\stata.py -> build\\lib.win-amd64-3.8\\pandas\\io\n",
            "  copying pandas\\io\\__init__.py -> build\\lib.win-amd64-3.8\\pandas\\io\n",
            "  creating build\\lib.win-amd64-3.8\\pandas\\plotting\n",
            "  copying pandas\\plotting\\_core.py -> build\\lib.win-amd64-3.8\\pandas\\plotting\n",
            "  copying pandas\\plotting\\_misc.py -> build\\lib.win-amd64-3.8\\pandas\\plotting\n",
            "  copying pandas\\plotting\\__init__.py -> build\\lib.win-amd64-3.8\\pandas\\plotting\n",
            "  creating build\\lib.win-amd64-3.8\\pandas\\tests\n",
            "  copying pandas\\tests\\test_algos.py -> build\\lib.win-amd64-3.8\\pandas\\tests\n",
            "  copying pandas\\tests\\test_base.py -> build\\lib.win-amd64-3.8\\pandas\\tests\n",
            "  copying pandas\\tests\\test_common.py -> build\\lib.win-amd64-3.8\\pandas\\tests\n",
            "  copying pandas\\tests\\test_compat.py -> build\\lib.win-amd64-3.8\\pandas\\tests\n",
            "  copying pandas\\tests\\test_downstream.py -> build\\lib.win-amd64-3.8\\pandas\\tests\n",
            "  copying pandas\\tests\\test_errors.py -> build\\lib.win-amd64-3.8\\pandas\\tests\n",
            "  copying pandas\\tests\\test_expressions.py -> build\\lib.win-amd64-3.8\\pandas\\tests\n",
            "  copying pandas\\tests\\test_join.py -> build\\lib.win-amd64-3.8\\pandas\\tests\n",
            "  copying pandas\\tests\\test_lib.py -> build\\lib.win-amd64-3.8\\pandas\\tests\n",
            "  copying pandas\\tests\\test_multilevel.py -> build\\lib.win-amd64-3.8\\pandas\\tests\n",
            "  copying pandas\\tests\\test_nanops.py -> build\\lib.win-amd64-3.8\\pandas\\tests\n",
            "  copying pandas\\tests\\test_optional_dependency.py -> build\\lib.win-amd64-3.8\\pandas\\tests\n",
            "  copying pandas\\tests\\test_register_accessor.py -> build\\lib.win-amd64-3.8\\pandas\\tests\n",
            "  copying pandas\\tests\\test_sorting.py -> build\\lib.win-amd64-3.8\\pandas\\tests\n",
            "  copying pandas\\tests\\test_strings.py -> build\\lib.win-amd64-3.8\\pandas\\tests\n",
            "  copying pandas\\tests\\test_take.py -> build\\lib.win-amd64-3.8\\pandas\\tests"
          ]
        },
        {
          "name": "stdout",
          "output_type": "stream",
          "text": [
            "   from C:\\Users\\ITQLAP\\anaconda3\\Lib\\site-packages\\~andas-1.1.3.dist-info\n",
            "  Moving to c:\\users\\itqlap\\anaconda3\\lib\\site-packages\\pandas\\\n",
            "   from C:\\Users\\ITQLAP\\anaconda3\\Lib\\site-packages\\~andas\n"
          ]
        },
        {
          "name": "stderr",
          "output_type": "stream",
          "text": [
            "\n",
            "  copying pandas\\tests\\__init__.py -> build\\lib.win-amd64-3.8\\pandas\\tests\n",
            "  creating build\\lib.win-amd64-3.8\\pandas\\tseries\n",
            "  copying pandas\\tseries\\api.py -> build\\lib.win-amd64-3.8\\pandas\\tseries\n",
            "  copying pandas\\tseries\\converter.py -> build\\lib.win-amd64-3.8\\pandas\\tseries\n",
            "  copying pandas\\tseries\\frequencies.py -> build\\lib.win-amd64-3.8\\pandas\\tseries\n",
            "  copying pandas\\tseries\\holiday.py -> build\\lib.win-amd64-3.8\\pandas\\tseries\n",
            "  copying pandas\\tseries\\offsets.py -> build\\lib.win-amd64-3.8\\pandas\\tseries\n",
            "  copying pandas\\tseries\\plotting.py -> build\\lib.win-amd64-3.8\\pandas\\tseries\n",
            "  copying pandas\\tseries\\__init__.py -> build\\lib.win-amd64-3.8\\pandas\\tseries\n",
            "  creating build\\lib.win-amd64-3.8\\pandas\\util\n",
            "  copying pandas\\util\\testing.py -> build\\lib.win-amd64-3.8\\pandas\\util\n",
            "  copying pandas\\util\\_decorators.py -> build\\lib.win-amd64-3.8\\pandas\\util\n",
            "  copying pandas\\util\\_depr_module.py -> build\\lib.win-amd64-3.8\\pandas\\util\n",
            "  copying pandas\\util\\_doctools.py -> build\\lib.win-amd64-3.8\\pandas\\util\n",
            "  copying pandas\\util\\_exceptions.py -> build\\lib.win-amd64-3.8\\pandas\\util\n",
            "  copying pandas\\util\\_print_versions.py -> build\\lib.win-amd64-3.8\\pandas\\util\n",
            "  copying pandas\\util\\_tester.py -> build\\lib.win-amd64-3.8\\pandas\\util\n",
            "  copying pandas\\util\\_test_decorators.py -> build\\lib.win-amd64-3.8\\pandas\\util\n",
            "  copying pandas\\util\\_validators.py -> build\\lib.win-amd64-3.8\\pandas\\util\n",
            "  copying pandas\\util\\__init__.py -> build\\lib.win-amd64-3.8\\pandas\\util\n",
            "  creating build\\lib.win-amd64-3.8\\pandas\\_config\n",
            "  copying pandas\\_config\\config.py -> build\\lib.win-amd64-3.8\\pandas\\_config\n",
            "  copying pandas\\_config\\dates.py -> build\\lib.win-amd64-3.8\\pandas\\_config\n",
            "  copying pandas\\_config\\display.py -> build\\lib.win-amd64-3.8\\pandas\\_config\n",
            "  copying pandas\\_config\\localization.py -> build\\lib.win-amd64-3.8\\pandas\\_config\n",
            "  copying pandas\\_config\\__init__.py -> build\\lib.win-amd64-3.8\\pandas\\_config\n",
            "  creating build\\lib.win-amd64-3.8\\pandas\\_libs\n",
            "  copying pandas\\_libs\\__init__.py -> build\\lib.win-amd64-3.8\\pandas\\_libs\n",
            "  creating build\\lib.win-amd64-3.8\\pandas\\api\\extensions\n",
            "  copying pandas\\api\\extensions\\__init__.py -> build\\lib.win-amd64-3.8\\pandas\\api\\extensions\n",
            "  creating build\\lib.win-amd64-3.8\\pandas\\api\\types\n",
            "  copying pandas\\api\\types\\__init__.py -> build\\lib.win-amd64-3.8\\pandas\\api\\types\n",
            "  creating build\\lib.win-amd64-3.8\\pandas\\compat\\numpy\n",
            "  copying pandas\\compat\\numpy\\function.py -> build\\lib.win-amd64-3.8\\pandas\\compat\\numpy\n",
            "  copying pandas\\compat\\numpy\\__init__.py -> build\\lib.win-amd64-3.8\\pandas\\compat\\numpy\n",
            "  creating build\\lib.win-amd64-3.8\\pandas\\core\\arrays\n",
            "  copying pandas\\core\\arrays\\array_.py -> build\\lib.win-amd64-3.8\\pandas\\core\\arrays\n",
            "  copying pandas\\core\\arrays\\base.py -> build\\lib.win-amd64-3.8\\pandas\\core\\arrays\n",
            "  copying pandas\\core\\arrays\\categorical.py -> build\\lib.win-amd64-3.8\\pandas\\core\\arrays\n",
            "  copying pandas\\core\\arrays\\datetimelike.py -> build\\lib.win-amd64-3.8\\pandas\\core\\arrays\n",
            "  copying pandas\\core\\arrays\\datetimes.py -> build\\lib.win-amd64-3.8\\pandas\\core\\arrays\n",
            "  copying pandas\\core\\arrays\\integer.py -> build\\lib.win-amd64-3.8\\pandas\\core\\arrays\n",
            "  copying pandas\\core\\arrays\\interval.py -> build\\lib.win-amd64-3.8\\pandas\\core\\arrays\n",
            "  copying pandas\\core\\arrays\\numpy_.py -> build\\lib.win-amd64-3.8\\pandas\\core\\arrays\n",
            "  copying pandas\\core\\arrays\\period.py -> build\\lib.win-amd64-3.8\\pandas\\core\\arrays\n",
            "  copying pandas\\core\\arrays\\sparse.py -> build\\lib.win-amd64-3.8\\pandas\\core\\arrays\n",
            "  copying pandas\\core\\arrays\\timedeltas.py -> build\\lib.win-amd64-3.8\\pandas\\core\\arrays\n",
            "  copying pandas\\core\\arrays\\_ranges.py -> build\\lib.win-amd64-3.8\\pandas\\core\\arrays\n",
            "  copying pandas\\core\\arrays\\__init__.py -> build\\lib.win-amd64-3.8\\pandas\\core\\arrays\n",
            "  creating build\\lib.win-amd64-3.8\\pandas\\core\\computation\n",
            "  copying pandas\\core\\computation\\align.py -> build\\lib.win-amd64-3.8\\pandas\\core\\computation\n",
            "  copying pandas\\core\\computation\\api.py -> build\\lib.win-amd64-3.8\\pandas\\core\\computation\n",
            "  copying pandas\\core\\computation\\check.py -> build\\lib.win-amd64-3.8\\pandas\\core\\computation\n",
            "  copying pandas\\core\\computation\\common.py -> build\\lib.win-amd64-3.8\\pandas\\core\\computation\n",
            "  copying pandas\\core\\computation\\engines.py -> build\\lib.win-amd64-3.8\\pandas\\core\\computation\n",
            "  copying pandas\\core\\computation\\eval.py -> build\\lib.win-amd64-3.8\\pandas\\core\\computation\n",
            "  copying pandas\\core\\computation\\expr.py -> build\\lib.win-amd64-3.8\\pandas\\core\\computation\n",
            "  copying pandas\\core\\computation\\expressions.py -> build\\lib.win-amd64-3.8\\pandas\\core\\computation\n",
            "  copying pandas\\core\\computation\\ops.py -> build\\lib.win-amd64-3.8\\pandas\\core\\computation\n",
            "  copying pandas\\core\\computation\\pytables.py -> build\\lib.win-amd64-3.8\\pandas\\core\\computation\n",
            "  copying pandas\\core\\computation\\scope.py -> build\\lib.win-amd64-3.8\\pandas\\core\\computation\n",
            "  copying pandas\\core\\computation\\__init__.py -> build\\lib.win-amd64-3.8\\pandas\\core\\computation\n",
            "  creating build\\lib.win-amd64-3.8\\pandas\\core\\dtypes\n",
            "  copying pandas\\core\\dtypes\\api.py -> build\\lib.win-amd64-3.8\\pandas\\core\\dtypes\n",
            "  copying pandas\\core\\dtypes\\base.py -> build\\lib.win-amd64-3.8\\pandas\\core\\dtypes\n",
            "  copying pandas\\core\\dtypes\\cast.py -> build\\lib.win-amd64-3.8\\pandas\\core\\dtypes\n",
            "  copying pandas\\core\\dtypes\\common.py -> build\\lib.win-amd64-3.8\\pandas\\core\\dtypes\n",
            "  copying pandas\\core\\dtypes\\concat.py -> build\\lib.win-amd64-3.8\\pandas\\core\\dtypes\n",
            "  copying pandas\\core\\dtypes\\dtypes.py -> build\\lib.win-amd64-3.8\\pandas\\core\\dtypes\n",
            "  copying pandas\\core\\dtypes\\generic.py -> build\\lib.win-amd64-3.8\\pandas\\core\\dtypes\n",
            "  copying pandas\\core\\dtypes\\inference.py -> build\\lib.win-amd64-3.8\\pandas\\core\\dtypes\n",
            "  copying pandas\\core\\dtypes\\missing.py -> build\\lib.win-amd64-3.8\\pandas\\core\\dtypes\n",
            "  copying pandas\\core\\dtypes\\__init__.py -> build\\lib.win-amd64-3.8\\pandas\\core\\dtypes\n",
            "  creating build\\lib.win-amd64-3.8\\pandas\\core\\groupby\n",
            "  copying pandas\\core\\groupby\\base.py -> build\\lib.win-amd64-3.8\\pandas\\core\\groupby\n",
            "  copying pandas\\core\\groupby\\categorical.py -> build\\lib.win-amd64-3.8\\pandas\\core\\groupby\n",
            "  copying pandas\\core\\groupby\\generic.py -> build\\lib.win-amd64-3.8\\pandas\\core\\groupby\n",
            "  copying pandas\\core\\groupby\\groupby.py -> build\\lib.win-amd64-3.8\\pandas\\core\\groupby\n",
            "  copying pandas\\core\\groupby\\grouper.py -> build\\lib.win-amd64-3.8\\pandas\\core\\groupby\n",
            "  copying pandas\\core\\groupby\\ops.py -> build\\lib.win-amd64-3.8\\pandas\\core\\groupby\n",
            "  copying pandas\\core\\groupby\\__init__.py -> build\\lib.win-amd64-3.8\\pandas\\core\\groupby\n",
            "  creating build\\lib.win-amd64-3.8\\pandas\\core\\indexes\n",
            "  copying pandas\\core\\indexes\\accessors.py -> build\\lib.win-amd64-3.8\\pandas\\core\\indexes\n",
            "  copying pandas\\core\\indexes\\api.py -> build\\lib.win-amd64-3.8\\pandas\\core\\indexes\n",
            "  copying pandas\\core\\indexes\\base.py -> build\\lib.win-amd64-3.8\\pandas\\core\\indexes\n",
            "  copying pandas\\core\\indexes\\category.py -> build\\lib.win-amd64-3.8\\pandas\\core\\indexes\n",
            "  copying pandas\\core\\indexes\\datetimelike.py -> build\\lib.win-amd64-3.8\\pandas\\core\\indexes\n",
            "  copying pandas\\core\\indexes\\datetimes.py -> build\\lib.win-amd64-3.8\\pandas\\core\\indexes\n",
            "  copying pandas\\core\\indexes\\frozen.py -> build\\lib.win-amd64-3.8\\pandas\\core\\indexes\n",
            "  copying pandas\\core\\indexes\\interval.py -> build\\lib.win-amd64-3.8\\pandas\\core\\indexes\n",
            "  copying pandas\\core\\indexes\\multi.py -> build\\lib.win-amd64-3.8\\pandas\\core\\indexes\n",
            "  copying pandas\\core\\indexes\\numeric.py -> build\\lib.win-amd64-3.8\\pandas\\core\\indexes\n",
            "  copying pandas\\core\\indexes\\period.py -> build\\lib.win-amd64-3.8\\pandas\\core\\indexes\n",
            "  copying pandas\\core\\indexes\\range.py -> build\\lib.win-amd64-3.8\\pandas\\core\\indexes\n",
            "  copying pandas\\core\\indexes\\timedeltas.py -> build\\lib.win-amd64-3.8\\pandas\\core\\indexes\n",
            "  copying pandas\\core\\indexes\\__init__.py -> build\\lib.win-amd64-3.8\\pandas\\core\\indexes\n",
            "  creating build\\lib.win-amd64-3.8\\pandas\\core\\internals\n",
            "  copying pandas\\core\\internals\\arrays.py -> build\\lib.win-amd64-3.8\\pandas\\core\\internals\n",
            "  copying pandas\\core\\internals\\blocks.py -> build\\lib.win-amd64-3.8\\pandas\\core\\internals\n",
            "  copying pandas\\core\\internals\\concat.py -> build\\lib.win-amd64-3.8\\pandas\\core\\internals\n",
            "  copying pandas\\core\\internals\\construction.py -> build\\lib.win-amd64-3.8\\pandas\\core\\internals\n",
            "  copying pandas\\core\\internals\\managers.py -> build\\lib.win-amd64-3.8\\pandas\\core\\internals\n",
            "  copying pandas\\core\\internals\\__init__.py -> build\\lib.win-amd64-3.8\\pandas\\core\\internals\n",
            "  creating build\\lib.win-amd64-3.8\\pandas\\core\\ops\n",
            "  copying pandas\\core\\ops\\docstrings.py -> build\\lib.win-amd64-3.8\\pandas\\core\\ops\n",
            "  copying pandas\\core\\ops\\missing.py -> build\\lib.win-amd64-3.8\\pandas\\core\\ops\n",
            "  copying pandas\\core\\ops\\roperator.py -> build\\lib.win-amd64-3.8\\pandas\\core\\ops\n",
            "  copying pandas\\core\\ops\\__init__.py -> build\\lib.win-amd64-3.8\\pandas\\core\\ops\n",
            "  creating build\\lib.win-amd64-3.8\\pandas\\core\\reshape\n",
            "  copying pandas\\core\\reshape\\api.py -> build\\lib.win-amd64-3.8\\pandas\\core\\reshape\n",
            "  copying pandas\\core\\reshape\\concat.py -> build\\lib.win-amd64-3.8\\pandas\\core\\reshape\n",
            "  copying pandas\\core\\reshape\\melt.py -> build\\lib.win-amd64-3.8\\pandas\\core\\reshape\n",
            "  copying pandas\\core\\reshape\\merge.py -> build\\lib.win-amd64-3.8\\pandas\\core\\reshape\n",
            "  copying pandas\\core\\reshape\\pivot.py -> build\\lib.win-amd64-3.8\\pandas\\core\\reshape\n",
            "  copying pandas\\core\\reshape\\reshape.py -> build\\lib.win-amd64-3.8\\pandas\\core\\reshape\n",
            "  copying pandas\\core\\reshape\\tile.py -> build\\lib.win-amd64-3.8\\pandas\\core\\reshape\n",
            "  copying pandas\\core\\reshape\\util.py -> build\\lib.win-amd64-3.8\\pandas\\core\\reshape\n",
            "  copying pandas\\core\\reshape\\__init__.py -> build\\lib.win-amd64-3.8\\pandas\\core\\reshape\n",
            "  creating build\\lib.win-amd64-3.8\\pandas\\core\\sparse\n",
            "  copying pandas\\core\\sparse\\api.py -> build\\lib.win-amd64-3.8\\pandas\\core\\sparse\n",
            "  copying pandas\\core\\sparse\\frame.py -> build\\lib.win-amd64-3.8\\pandas\\core\\sparse\n",
            "  copying pandas\\core\\sparse\\scipy_sparse.py -> build\\lib.win-amd64-3.8\\pandas\\core\\sparse\n",
            "  copying pandas\\core\\sparse\\series.py -> build\\lib.win-amd64-3.8\\pandas\\core\\sparse\n",
            "  copying pandas\\core\\sparse\\__init__.py -> build\\lib.win-amd64-3.8\\pandas\\core\\sparse\n",
            "  creating build\\lib.win-amd64-3.8\\pandas\\core\\tools\n",
            "  copying pandas\\core\\tools\\datetimes.py -> build\\lib.win-amd64-3.8\\pandas\\core\\tools\n",
            "  copying pandas\\core\\tools\\numeric.py -> build\\lib.win-amd64-3.8\\pandas\\core\\tools\n",
            "  copying pandas\\core\\tools\\timedeltas.py -> build\\lib.win-amd64-3.8\\pandas\\core\\tools\n",
            "  copying pandas\\core\\tools\\__init__.py -> build\\lib.win-amd64-3.8\\pandas\\core\\tools\n",
            "  creating build\\lib.win-amd64-3.8\\pandas\\core\\util\n",
            "  copying pandas\\core\\util\\hashing.py -> build\\lib.win-amd64-3.8\\pandas\\core\\util\n",
            "  copying pandas\\core\\util\\__init__.py -> build\\lib.win-amd64-3.8\\pandas\\core\\util\n",
            "  creating build\\lib.win-amd64-3.8\\pandas\\io\\clipboard\n",
            "  copying pandas\\io\\clipboard\\clipboards.py -> build\\lib.win-amd64-3.8\\pandas\\io\\clipboard\n",
            "  copying pandas\\io\\clipboard\\exceptions.py -> build\\lib.win-amd64-3.8\\pandas\\io\\clipboard\n",
            "  copying pandas\\io\\clipboard\\windows.py -> build\\lib.win-amd64-3.8\\pandas\\io\\clipboard\n",
            "  copying pandas\\io\\clipboard\\__init__.py -> build\\lib.win-amd64-3.8\\pandas\\io\\clipboard\n",
            "  creating build\\lib.win-amd64-3.8\\pandas\\io\\excel\n",
            "  copying pandas\\io\\excel\\_base.py -> build\\lib.win-amd64-3.8\\pandas\\io\\excel\n",
            "  copying pandas\\io\\excel\\_odfreader.py -> build\\lib.win-amd64-3.8\\pandas\\io\\excel\n",
            "  copying pandas\\io\\excel\\_openpyxl.py -> build\\lib.win-amd64-3.8\\pandas\\io\\excel\n",
            "  copying pandas\\io\\excel\\_util.py -> build\\lib.win-amd64-3.8\\pandas\\io\\excel\n",
            "  copying pandas\\io\\excel\\_xlrd.py -> build\\lib.win-amd64-3.8\\pandas\\io\\excel\n",
            "  copying pandas\\io\\excel\\_xlsxwriter.py -> build\\lib.win-amd64-3.8\\pandas\\io\\excel\n",
            "  copying pandas\\io\\excel\\_xlwt.py -> build\\lib.win-amd64-3.8\\pandas\\io\\excel\n",
            "  copying pandas\\io\\excel\\__init__.py -> build\\lib.win-amd64-3.8\\pandas\\io\\excel\n",
            "  creating build\\lib.win-amd64-3.8\\pandas\\io\\formats\n",
            "  copying pandas\\io\\formats\\console.py -> build\\lib.win-amd64-3.8\\pandas\\io\\formats\n",
            "  copying pandas\\io\\formats\\css.py -> build\\lib.win-amd64-3.8\\pandas\\io\\formats\n",
            "  copying pandas\\io\\formats\\csvs.py -> build\\lib.win-amd64-3.8\\pandas\\io\\formats\n",
            "  copying pandas\\io\\formats\\excel.py -> build\\lib.win-amd64-3.8\\pandas\\io\\formats\n",
            "  copying pandas\\io\\formats\\format.py -> build\\lib.win-amd64-3.8\\pandas\\io\\formats\n",
            "  copying pandas\\io\\formats\\html.py -> build\\lib.win-amd64-3.8\\pandas\\io\\formats\n",
            "  copying pandas\\io\\formats\\latex.py -> build\\lib.win-amd64-3.8\\pandas\\io\\formats\n",
            "  copying pandas\\io\\formats\\printing.py -> build\\lib.win-amd64-3.8\\pandas\\io\\formats\n",
            "  copying pandas\\io\\formats\\style.py -> build\\lib.win-amd64-3.8\\pandas\\io\\formats\n",
            "  copying pandas\\io\\formats\\__init__.py -> build\\lib.win-amd64-3.8\\pandas\\io\\formats\n",
            "  creating build\\lib.win-amd64-3.8\\pandas\\io\\json\n",
            "  copying pandas\\io\\json\\_json.py -> build\\lib.win-amd64-3.8\\pandas\\io\\json\n",
            "  copying pandas\\io\\json\\_normalize.py -> build\\lib.win-amd64-3.8\\pandas\\io\\json\n",
            "  copying pandas\\io\\json\\_table_schema.py -> build\\lib.win-amd64-3.8\\pandas\\io\\json\n",
            "  copying pandas\\io\\json\\__init__.py -> build\\lib.win-amd64-3.8\\pandas\\io\\json\n"
          ]
        }
      ]
    },
    {
      "cell_type": "markdown",
      "metadata": {
        "id": "BfhQ7YSBrjxp"
      },
      "source": [
        "### 3.2. **Importing Packages** "
      ]
    },
    {
      "cell_type": "code",
      "metadata": {
        "id": "9KpckLk0gAio",
        "outputId": "9c5421b8-ea95-498c-c528-5af13eed3b08"
      },
      "source": [
        "#------------------------------------------------------------------------------------------------------------------------------\n",
        "import pandas as pd                                                 # Importing for panel data analysis\n",
        "from pandas_profiling import ProfileReport                          # Import Pandas Profiling (To generate Univariate Analysis) \n",
        "pd.set_option('display.max_columns', None)                          # Unfolding hidden features if the cardinality is high      \n",
        "pd.set_option('display.max_rows', None)                             # Unfolding hidden data points if the cardinality is high\n",
        "pd.set_option('mode.chained_assignment', None)                      # Removing restriction over chained assignments operations\n",
        "pd.set_option('display.float_format', lambda x: '%.5f' % x)         # To suppress scientific notation over exponential values\n",
        "#-------------------------------------------------------------------------------------------------------------------------------\n",
        "import numpy as np                                                  # Importing package numpys (For Numerical Python)\n",
        "#-------------------------------------------------------------------------------------------------------------------------------\n",
        "import matplotlib.pyplot as plt                                     # Importing pyplot interface using matplotlib\n",
        "import seaborn as sns                                               # Importin seaborm library for interactive visualization\n",
        "%matplotlib inline\n",
        "#-------------------------------------------------------------------------------------------------------------------------------\n",
        "from sklearn.model_selection import train_test_split                # To split the data in training and testing part     \n",
        "from sklearn.linear_model import LinearRegression\n",
        "#-------------------------------------------------------------------------------------------------------------------------------\n",
        "import warnings                                                     # Importing warning to disable runtime warnings\n",
        "warnings.filterwarnings(\"ignore\")                                   # Warnings will appear only once"
      ],
      "execution_count": null,
      "outputs": [
        {
          "name": "stderr",
          "output_type": "stream",
          "text": [
            "  creating build\\lib.win-amd64-3.8\\pandas\\io\\msgpack\n",
            "  copying pandas\\io\\msgpack\\exceptions.py -> build\\lib.win-amd64-3.8\\pandas\\io\\msgpack\n",
            "  copying pandas\\io\\msgpack\\_version.py -> build\\lib.win-amd64-3.8\\pandas\\io\\msgpack\n",
            "  copying pandas\\io\\msgpack\\__init__.py -> build\\lib.win-amd64-3.8\\pandas\\io\\msgpack\n",
            "  creating build\\lib.win-amd64-3.8\\pandas\\io\\sas\n",
            "  copying pandas\\io\\sas\\sas7bdat.py -> build\\lib.win-amd64-3.8\\pandas\\io\\sas\n",
            "  copying pandas\\io\\sas\\sasreader.py -> build\\lib.win-amd64-3.8\\pandas\\io\\sas\n",
            "  copying pandas\\io\\sas\\sas_constants.py -> build\\lib.win-amd64-3.8\\pandas\\io\\sas\n",
            "  copying pandas\\io\\sas\\sas_xport.py -> build\\lib.win-amd64-3.8\\pandas\\io\\sas\n",
            "  copying pandas\\io\\sas\\__init__.py -> build\\lib.win-amd64-3.8\\pandas\\io\\sas\n",
            "  creating build\\lib.win-amd64-3.8\\pandas\\plotting\\_matplotlib\n",
            "  copying pandas\\plotting\\_matplotlib\\boxplot.py -> build\\lib.win-amd64-3.8\\pandas\\plotting\\_matplotlib\n",
            "  copying pandas\\plotting\\_matplotlib\\compat.py -> build\\lib.win-amd64-3.8\\pandas\\plotting\\_matplotlib\n",
            "  copying pandas\\plotting\\_matplotlib\\converter.py -> build\\lib.win-amd64-3.8\\pandas\\plotting\\_matplotlib\n",
            "  copying pandas\\plotting\\_matplotlib\\core.py -> build\\lib.win-amd64-3.8\\pandas\\plotting\\_matplotlib\n",
            "  copying pandas\\plotting\\_matplotlib\\hist.py -> build\\lib.win-amd64-3.8\\pandas\\plotting\\_matplotlib\n",
            "  copying pandas\\plotting\\_matplotlib\\misc.py -> build\\lib.win-amd64-3.8\\pandas\\plotting\\_matplotlib\n",
            "  copying pandas\\plotting\\_matplotlib\\style.py -> build\\lib.win-amd64-3.8\\pandas\\plotting\\_matplotlib\n",
            "  copying pandas\\plotting\\_matplotlib\\timeseries.py -> build\\lib.win-amd64-3.8\\pandas\\plotting\\_matplotlib\n",
            "  copying pandas\\plotting\\_matplotlib\\tools.py -> build\\lib.win-amd64-3.8\\pandas\\plotting\\_matplotlib\n",
            "  copying pandas\\plotting\\_matplotlib\\__init__.py -> build\\lib.win-amd64-3.8\\pandas\\plotting\\_matplotlib\n",
            "  creating build\\lib.win-amd64-3.8\\pandas\\tests\\api\n",
            "  copying pandas\\tests\\api\\test_api.py -> build\\lib.win-amd64-3.8\\pandas\\tests\\api\n",
            "  copying pandas\\tests\\api\\test_types.py -> build\\lib.win-amd64-3.8\\pandas\\tests\\api\n",
            "  copying pandas\\tests\\api\\__init__.py -> build\\lib.win-amd64-3.8\\pandas\\tests\\api\n",
            "  creating build\\lib.win-amd64-3.8\\pandas\\tests\\arithmetic\n",
            "  copying pandas\\tests\\arithmetic\\conftest.py -> build\\lib.win-amd64-3.8\\pandas\\tests\\arithmetic\n",
            "  copying pandas\\tests\\arithmetic\\test_datetime64.py -> build\\lib.win-amd64-3.8\\pandas\\tests\\arithmetic\n",
            "  copying pandas\\tests\\arithmetic\\test_numeric.py -> build\\lib.win-amd64-3.8\\pandas\\tests\\arithmetic\n",
            "  copying pandas\\tests\\arithmetic\\test_object.py -> build\\lib.win-amd64-3.8\\pandas\\tests\\arithmetic\n",
            "  copying pandas\\tests\\arithmetic\\test_period.py -> build\\lib.win-amd64-3.8\\pandas\\tests\\arithmetic\n",
            "  copying pandas\\tests\\arithmetic\\test_timedelta64.py -> build\\lib.win-amd64-3.8\\pandas\\tests\\arithmetic\n",
            "  copying pandas\\tests\\arithmetic\\__init__.py -> build\\lib.win-amd64-3.8\\pandas\\tests\\arithmetic\n",
            "  creating build\\lib.win-amd64-3.8\\pandas\\tests\\arrays\n",
            "  copying pandas\\tests\\arrays\\test_array.py -> build\\lib.win-amd64-3.8\\pandas\\tests\\arrays\n",
            "  copying pandas\\tests\\arrays\\test_datetimelike.py -> build\\lib.win-amd64-3.8\\pandas\\tests\\arrays\n",
            "  copying pandas\\tests\\arrays\\test_datetimes.py -> build\\lib.win-amd64-3.8\\pandas\\tests\\arrays\n",
            "  copying pandas\\tests\\arrays\\test_integer.py -> build\\lib.win-amd64-3.8\\pandas\\tests\\arrays\n",
            "  copying pandas\\tests\\arrays\\test_numpy.py -> build\\lib.win-amd64-3.8\\pandas\\tests\\arrays\n",
            "  copying pandas\\tests\\arrays\\test_period.py -> build\\lib.win-amd64-3.8\\pandas\\tests\\arrays\n",
            "  copying pandas\\tests\\arrays\\test_timedeltas.py -> build\\lib.win-amd64-3.8\\pandas\\tests\\arrays\n",
            "  copying pandas\\tests\\arrays\\__init__.py -> build\\lib.win-amd64-3.8\\pandas\\tests\\arrays\n",
            "  creating build\\lib.win-amd64-3.8\\pandas\\tests\\computation\n",
            "  copying pandas\\tests\\computation\\test_compat.py -> build\\lib.win-amd64-3.8\\pandas\\tests\\computation\n",
            "  copying pandas\\tests\\computation\\test_eval.py -> build\\lib.win-amd64-3.8\\pandas\\tests\\computation\n",
            "  copying pandas\\tests\\computation\\__init__.py -> build\\lib.win-amd64-3.8\\pandas\\tests\\computation\n",
            "  creating build\\lib.win-amd64-3.8\\pandas\\tests\\config\n",
            "  copying pandas\\tests\\config\\test_config.py -> build\\lib.win-amd64-3.8\\pandas\\tests\\config\n",
            "  copying pandas\\tests\\config\\test_localization.py -> build\\lib.win-amd64-3.8\\pandas\\tests\\config\n",
            "  copying pandas\\tests\\config\\__init__.py -> build\\lib.win-amd64-3.8\\pandas\\tests\\config\n",
            "  creating build\\lib.win-amd64-3.8\\pandas\\tests\\dtypes\n",
            "  copying pandas\\tests\\dtypes\\test_common.py -> build\\lib.win-amd64-3.8\\pandas\\tests\\dtypes\n",
            "  copying pandas\\tests\\dtypes\\test_concat.py -> build\\lib.win-amd64-3.8\\pandas\\tests\\dtypes\n",
            "  copying pandas\\tests\\dtypes\\test_dtypes.py -> build\\lib.win-amd64-3.8\\pandas\\tests\\dtypes\n",
            "  copying pandas\\tests\\dtypes\\test_generic.py -> build\\lib.win-amd64-3.8\\pandas\\tests\\dtypes\n",
            "  copying pandas\\tests\\dtypes\\test_inference.py -> build\\lib.win-amd64-3.8\\pandas\\tests\\dtypes\n",
            "  copying pandas\\tests\\dtypes\\test_missing.py -> build\\lib.win-amd64-3.8\\pandas\\tests\\dtypes\n",
            "  copying pandas\\tests\\dtypes\\__init__.py -> build\\lib.win-amd64-3.8\\pandas\\tests\\dtypes\n",
            "  creating build\\lib.win-amd64-3.8\\pandas\\tests\\extension\n",
            "  copying pandas\\tests\\extension\\conftest.py -> build\\lib.win-amd64-3.8\\pandas\\tests\\extension\n",
            "  copying pandas\\tests\\extension\\test_categorical.py -> build\\lib.win-amd64-3.8\\pandas\\tests\\extension\n",
            "  copying pandas\\tests\\extension\\test_common.py -> build\\lib.win-amd64-3.8\\pandas\\tests\\extension\n",
            "  copying pandas\\tests\\extension\\test_datetime.py -> build\\lib.win-amd64-3.8\\pandas\\tests\\extension\n",
            "  copying pandas\\tests\\extension\\test_external_block.py -> build\\lib.win-amd64-3.8\\pandas\\tests\\extension\n",
            "  copying pandas\\tests\\extension\\test_integer.py -> build\\lib.win-amd64-3.8\\pandas\\tests\\extension\n",
            "  copying pandas\\tests\\extension\\test_interval.py -> build\\lib.win-amd64-3.8\\pandas\\tests\\extension\n",
            "  copying pandas\\tests\\extension\\test_numpy.py -> build\\lib.win-amd64-3.8\\pandas\\tests\\extension\n",
            "  copying pandas\\tests\\extension\\test_period.py -> build\\lib.win-amd64-3.8\\pandas\\tests\\extension\n",
            "  copying pandas\\tests\\extension\\test_sparse.py -> build\\lib.win-amd64-3.8\\pandas\\tests\\extension\n",
            "  copying pandas\\tests\\extension\\__init__.py -> build\\lib.win-amd64-3.8\\pandas\\tests\\extension\n",
            "  creating build\\lib.win-amd64-3.8\\pandas\\tests\\frame\n",
            "  copying pandas\\tests\\frame\\common.py -> build\\lib.win-amd64-3.8\\pandas\\tests\\frame\n",
            "  copying pandas\\tests\\frame\\conftest.py -> build\\lib.win-amd64-3.8\\pandas\\tests\\frame\n",
            "  copying pandas\\tests\\frame\\test_alter_axes.py -> build\\lib.win-amd64-3.8\\pandas\\tests\\frame\n",
            "  copying pandas\\tests\\frame\\test_analytics.py -> build\\lib.win-amd64-3.8\\pandas\\tests\\frame\n",
            "  copying pandas\\tests\\frame\\test_api.py -> build\\lib.win-amd64-3.8\\pandas\\tests\\frame\n",
            "  copying pandas\\tests\\frame\\test_apply.py -> build\\lib.win-amd64-3.8\\pandas\\tests\\frame\n",
            "  copying pandas\\tests\\frame\\test_arithmetic.py -> build\\lib.win-amd64-3.8\\pandas\\tests\\frame\n",
            "  copying pandas\\tests\\frame\\test_asof.py -> build\\lib.win-amd64-3.8\\pandas\\tests\\frame\n",
            "  copying pandas\\tests\\frame\\test_axis_select_reindex.py -> build\\lib.win-amd64-3.8\\pandas\\tests\\frame\n",
            "  copying pandas\\tests\\frame\\test_block_internals.py -> build\\lib.win-amd64-3.8\\pandas\\tests\\frame\n",
            "  copying pandas\\tests\\frame\\test_combine_concat.py -> build\\lib.win-amd64-3.8\\pandas\\tests\\frame\n",
            "  copying pandas\\tests\\frame\\test_constructors.py -> build\\lib.win-amd64-3.8\\pandas\\tests\\frame\n",
            "  copying pandas\\tests\\frame\\test_convert_to.py -> build\\lib.win-amd64-3.8\\pandas\\tests\\frame\n",
            "  copying pandas\\tests\\frame\\test_dtypes.py -> build\\lib.win-amd64-3.8\\pandas\\tests\\frame\n",
            "  copying pandas\\tests\\frame\\test_duplicates.py -> build\\lib.win-amd64-3.8\\pandas\\tests\\frame\n",
            "  copying pandas\\tests\\frame\\test_explode.py -> build\\lib.win-amd64-3.8\\pandas\\tests\\frame\n",
            "  copying pandas\\tests\\frame\\test_indexing.py -> build\\lib.win-amd64-3.8\\pandas\\tests\\frame\n",
            "  copying pandas\\tests\\frame\\test_join.py -> build\\lib.win-amd64-3.8\\pandas\\tests\\frame\n",
            "  copying pandas\\tests\\frame\\test_missing.py -> build\\lib.win-amd64-3.8\\pandas\\tests\\frame\n",
            "  copying pandas\\tests\\frame\\test_mutate_columns.py -> build\\lib.win-amd64-3.8\\pandas\\tests\\frame\n",
            "  copying pandas\\tests\\frame\\test_nonunique_indexes.py -> build\\lib.win-amd64-3.8\\pandas\\tests\\frame\n",
            "  copying pandas\\tests\\frame\\test_operators.py -> build\\lib.win-amd64-3.8\\pandas\\tests\\frame\n",
            "  copying pandas\\tests\\frame\\test_period.py -> build\\lib.win-amd64-3.8\\pandas\\tests\\frame\n",
            "  copying pandas\\tests\\frame\\test_quantile.py -> build\\lib.win-amd64-3.8\\pandas\\tests\\frame\n",
            "  copying pandas\\tests\\frame\\test_query_eval.py -> build\\lib.win-amd64-3.8\\pandas\\tests\\frame\n",
            "  copying pandas\\tests\\frame\\test_rank.py -> build\\lib.win-amd64-3.8\\pandas\\tests\\frame\n",
            "  copying pandas\\tests\\frame\\test_replace.py -> build\\lib.win-amd64-3.8\\pandas\\tests\\frame\n",
            "  copying pandas\\tests\\frame\\test_repr_info.py -> build\\lib.win-amd64-3.8\\pandas\\tests\\frame\n",
            "  copying pandas\\tests\\frame\\test_reshape.py -> build\\lib.win-amd64-3.8\\pandas\\tests\\frame\n",
            "  copying pandas\\tests\\frame\\test_sorting.py -> build\\lib.win-amd64-3.8\\pandas\\tests\\frame\n",
            "  copying pandas\\tests\\frame\\test_sort_values_level_as_str.py -> build\\lib.win-amd64-3.8\\pandas\\tests\\frame\n",
            "  copying pandas\\tests\\frame\\test_subclass.py -> build\\lib.win-amd64-3.8\\pandas\\tests\\frame\n",
            "  copying pandas\\tests\\frame\\test_timeseries.py -> build\\lib.win-amd64-3.8\\pandas\\tests\\frame\n",
            "  copying pandas\\tests\\frame\\test_timezones.py -> build\\lib.win-amd64-3.8\\pandas\\tests\\frame\n",
            "  copying pandas\\tests\\frame\\test_to_csv.py -> build\\lib.win-amd64-3.8\\pandas\\tests\\frame\n",
            "  copying pandas\\tests\\frame\\test_validate.py -> build\\lib.win-amd64-3.8\\pandas\\tests\\frame\n",
            "  copying pandas\\tests\\frame\\__init__.py -> build\\lib.win-amd64-3.8\\pandas\\tests\\frame\n",
            "  creating build\\lib.win-amd64-3.8\\pandas\\tests\\generic\n",
            "  copying pandas\\tests\\generic\\test_frame.py -> build\\lib.win-amd64-3.8\\pandas\\tests\\generic\n",
            "  copying pandas\\tests\\generic\\test_generic.py -> build\\lib.win-amd64-3.8\\pandas\\tests\\generic\n",
            "  copying pandas\\tests\\generic\\test_label_or_level_utils.py -> build\\lib.win-amd64-3.8\\pandas\\tests\\generic\n",
            "  copying pandas\\tests\\generic\\test_series.py -> build\\lib.win-amd64-3.8\\pandas\\tests\\generic\n",
            "  copying pandas\\tests\\generic\\__init__.py -> build\\lib.win-amd64-3.8\\pandas\\tests\\generic\n",
            "  creating build\\lib.win-amd64-3.8\\pandas\\tests\\groupby\n",
            "  copying pandas\\tests\\groupby\\conftest.py -> build\\lib.win-amd64-3.8\\pandas\\tests\\groupby\n",
            "  copying pandas\\tests\\groupby\\test_apply.py -> build\\lib.win-amd64-3.8\\pandas\\tests\\groupby\n",
            "  copying pandas\\tests\\groupby\\test_bin_groupby.py -> build\\lib.win-amd64-3.8\\pandas\\tests\\groupby\n",
            "  copying pandas\\tests\\groupby\\test_categorical.py -> build\\lib.win-amd64-3.8\\pandas\\tests\\groupby\n",
            "  copying pandas\\tests\\groupby\\test_counting.py -> build\\lib.win-amd64-3.8\\pandas\\tests\\groupby\n",
            "  copying pandas\\tests\\groupby\\test_filters.py -> build\\lib.win-amd64-3.8\\pandas\\tests\\groupby\n",
            "  copying pandas\\tests\\groupby\\test_function.py -> build\\lib.win-amd64-3.8\\pandas\\tests\\groupby\n",
            "  copying pandas\\tests\\groupby\\test_groupby.py -> build\\lib.win-amd64-3.8\\pandas\\tests\\groupby\n",
            "  copying pandas\\tests\\groupby\\test_grouping.py -> build\\lib.win-amd64-3.8\\pandas\\tests\\groupby\n",
            "  copying pandas\\tests\\groupby\\test_index_as_string.py -> build\\lib.win-amd64-3.8\\pandas\\tests\\groupby\n",
            "  copying pandas\\tests\\groupby\\test_nth.py -> build\\lib.win-amd64-3.8\\pandas\\tests\\groupby\n",
            "  copying pandas\\tests\\groupby\\test_rank.py -> build\\lib.win-amd64-3.8\\pandas\\tests\\groupby\n",
            "  copying pandas\\tests\\groupby\\test_timegrouper.py -> build\\lib.win-amd64-3.8\\pandas\\tests\\groupby\n",
            "  copying pandas\\tests\\groupby\\test_transform.py -> build\\lib.win-amd64-3.8\\pandas\\tests\\groupby\n",
            "  copying pandas\\tests\\groupby\\test_value_counts.py -> build\\lib.win-amd64-3.8\\pandas\\tests\\groupby\n",
            "  copying pandas\\tests\\groupby\\test_whitelist.py -> build\\lib.win-amd64-3.8\\pandas\\tests\\groupby\n",
            "  copying pandas\\tests\\groupby\\__init__.py -> build\\lib.win-amd64-3.8\\pandas\\tests\\groupby\n",
            "  creating build\\lib.win-amd64-3.8\\pandas\\tests\\indexes\n",
            "  copying pandas\\tests\\indexes\\common.py -> build\\lib.win-amd64-3.8\\pandas\\tests\\indexes\n",
            "  copying pandas\\tests\\indexes\\conftest.py -> build\\lib.win-amd64-3.8\\pandas\\tests\\indexes\n",
            "  copying pandas\\tests\\indexes\\datetimelike.py -> build\\lib.win-amd64-3.8\\pandas\\tests\\indexes\n",
            "  copying pandas\\tests\\indexes\\test_base.py -> build\\lib.win-amd64-3.8\\pandas\\tests\\indexes\n",
            "  copying pandas\\tests\\indexes\\test_category.py -> build\\lib.win-amd64-3.8\\pandas\\tests\\indexes\n",
            "  copying pandas\\tests\\indexes\\test_common.py -> build\\lib.win-amd64-3.8\\pandas\\tests\\indexes\n",
            "  copying pandas\\tests\\indexes\\test_frozen.py -> build\\lib.win-amd64-3.8\\pandas\\tests\\indexes\n",
            "  copying pandas\\tests\\indexes\\test_numeric.py -> build\\lib.win-amd64-3.8\\pandas\\tests\\indexes\n",
            "  copying pandas\\tests\\indexes\\test_numpy_compat.py -> build\\lib.win-amd64-3.8\\pandas\\tests\\indexes\n",
            "  copying pandas\\tests\\indexes\\test_range.py -> build\\lib.win-amd64-3.8\\pandas\\tests\\indexes\n",
            "  copying pandas\\tests\\indexes\\test_setops.py -> build\\lib.win-amd64-3.8\\pandas\\tests\\indexes\n",
            "  copying pandas\\tests\\indexes\\__init__.py -> build\\lib.win-amd64-3.8\\pandas\\tests\\indexes\n",
            "  creating build\\lib.win-amd64-3.8\\pandas\\tests\\indexing\n",
            "  copying pandas\\tests\\indexing\\common.py -> build\\lib.win-amd64-3.8\\pandas\\tests\\indexing\n",
            "  copying pandas\\tests\\indexing\\conftest.py -> build\\lib.win-amd64-3.8\\pandas\\tests\\indexing\n",
            "  copying pandas\\tests\\indexing\\test_callable.py -> build\\lib.win-amd64-3.8\\pandas\\tests\\indexing\n",
            "  copying pandas\\tests\\indexing\\test_categorical.py -> build\\lib.win-amd64-3.8\\pandas\\tests\\indexing\n",
            "  copying pandas\\tests\\indexing\\test_chaining_and_caching.py -> build\\lib.win-amd64-3.8\\pandas\\tests\\indexing\n",
            "  copying pandas\\tests\\indexing\\test_coercion.py -> build\\lib.win-amd64-3.8\\pandas\\tests\\indexing\n",
            "  copying pandas\\tests\\indexing\\test_datetime.py -> build\\lib.win-amd64-3.8\\pandas\\tests\\indexing\n",
            "  copying pandas\\tests\\indexing\\test_floats.py -> build\\lib.win-amd64-3.8\\pandas\\tests\\indexing\n",
            "  copying pandas\\tests\\indexing\\test_iloc.py -> build\\lib.win-amd64-3.8\\pandas\\tests\\indexing\n",
            "  copying pandas\\tests\\indexing\\test_indexing.py -> build\\lib.win-amd64-3.8\\pandas\\tests\\indexing\n",
            "  copying pandas\\tests\\indexing\\test_indexing_engines.py -> build\\lib.win-amd64-3.8\\pandas\\tests\\indexing\n",
            "  copying pandas\\tests\\indexing\\test_indexing_slow.py -> build\\lib.win-amd64-3.8\\pandas\\tests\\indexing\n",
            "  copying pandas\\tests\\indexing\\test_ix.py -> build\\lib.win-amd64-3.8\\pandas\\tests\\indexing\n",
            "  copying pandas\\tests\\indexing\\test_loc.py -> build\\lib.win-amd64-3.8\\pandas\\tests\\indexing\n",
            "  copying pandas\\tests\\indexing\\test_partial.py -> build\\lib.win-amd64-3.8\\pandas\\tests\\indexing\n",
            "  copying pandas\\tests\\indexing\\test_scalar.py -> build\\lib.win-amd64-3.8\\pandas\\tests\\indexing\n",
            "  copying pandas\\tests\\indexing\\test_timedelta.py -> build\\lib.win-amd64-3.8\\pandas\\tests\\indexing\n",
            "  copying pandas\\tests\\indexing\\__init__.py -> build\\lib.win-amd64-3.8\\pandas\\tests\\indexing\n",
            "  creating build\\lib.win-amd64-3.8\\pandas\\tests\\internals\n",
            "  copying pandas\\tests\\internals\\test_internals.py -> build\\lib.win-amd64-3.8\\pandas\\tests\\internals\n",
            "  copying pandas\\tests\\internals\\__init__.py -> build\\lib.win-amd64-3.8\\pandas\\tests\\internals\n",
            "  creating build\\lib.win-amd64-3.8\\pandas\\tests\\io\n",
            "  copying pandas\\tests\\io\\conftest.py -> build\\lib.win-amd64-3.8\\pandas\\tests\\io\n",
            "  copying pandas\\tests\\io\\generate_legacy_storage_files.py -> build\\lib.win-amd64-3.8\\pandas\\tests\\io\n",
            "  copying pandas\\tests\\io\\test_clipboard.py -> build\\lib.win-amd64-3.8\\pandas\\tests\\io\n",
            "  copying pandas\\tests\\io\\test_common.py -> build\\lib.win-amd64-3.8\\pandas\\tests\\io\n",
            "  copying pandas\\tests\\io\\test_compression.py -> build\\lib.win-amd64-3.8\\pandas\\tests\\io\n",
            "  copying pandas\\tests\\io\\test_date_converters.py -> build\\lib.win-amd64-3.8\\pandas\\tests\\io\n",
            "  copying pandas\\tests\\io\\test_feather.py -> build\\lib.win-amd64-3.8\\pandas\\tests\\io\n",
            "  copying pandas\\tests\\io\\test_gbq.py -> build\\lib.win-amd64-3.8\\pandas\\tests\\io\n",
            "  copying pandas\\tests\\io\\test_gcs.py -> build\\lib.win-amd64-3.8\\pandas\\tests\\io\n",
            "  copying pandas\\tests\\io\\test_html.py -> build\\lib.win-amd64-3.8\\pandas\\tests\\io\n",
            "  copying pandas\\tests\\io\\test_packers.py -> build\\lib.win-amd64-3.8\\pandas\\tests\\io\n",
            "  copying pandas\\tests\\io\\test_parquet.py -> build\\lib.win-amd64-3.8\\pandas\\tests\\io\n",
            "  copying pandas\\tests\\io\\test_pickle.py -> build\\lib.win-amd64-3.8\\pandas\\tests\\io\n",
            "  copying pandas\\tests\\io\\test_s3.py -> build\\lib.win-amd64-3.8\\pandas\\tests\\io\n",
            "  copying pandas\\tests\\io\\test_spss.py -> build\\lib.win-amd64-3.8\\pandas\\tests\\io\n",
            "  copying pandas\\tests\\io\\test_sql.py -> build\\lib.win-amd64-3.8\\pandas\\tests\\io\n",
            "  copying pandas\\tests\\io\\test_stata.py -> build\\lib.win-amd64-3.8\\pandas\\tests\\io\n",
            "  copying pandas\\tests\\io\\__init__.py -> build\\lib.win-amd64-3.8\\pandas\\tests\\io\n",
            "  creating build\\lib.win-amd64-3.8\\pandas\\tests\\plotting\n",
            "  copying pandas\\tests\\plotting\\common.py -> build\\lib.win-amd64-3.8\\pandas\\tests\\plotting\n",
            "  copying pandas\\tests\\plotting\\test_backend.py -> build\\lib.win-amd64-3.8\\pandas\\tests\\plotting\n",
            "  copying pandas\\tests\\plotting\\test_boxplot_method.py -> build\\lib.win-amd64-3.8\\pandas\\tests\\plotting\n",
            "  copying pandas\\tests\\plotting\\test_converter.py -> build\\lib.win-amd64-3.8\\pandas\\tests\\plotting\n",
            "  copying pandas\\tests\\plotting\\test_datetimelike.py -> build\\lib.win-amd64-3.8\\pandas\\tests\\plotting\n",
            "  copying pandas\\tests\\plotting\\test_frame.py -> build\\lib.win-amd64-3.8\\pandas\\tests\\plotting\n",
            "  copying pandas\\tests\\plotting\\test_groupby.py -> build\\lib.win-amd64-3.8\\pandas\\tests\\plotting\n",
            "  copying pandas\\tests\\plotting\\test_hist_method.py -> build\\lib.win-amd64-3.8\\pandas\\tests\\plotting\n",
            "  copying pandas\\tests\\plotting\\test_misc.py -> build\\lib.win-amd64-3.8\\pandas\\tests\\plotting\n",
            "  copying pandas\\tests\\plotting\\test_series.py -> build\\lib.win-amd64-3.8\\pandas\\tests\\plotting\n",
            "  copying pandas\\tests\\plotting\\__init__.py -> build\\lib.win-amd64-3.8\\pandas\\tests\\plotting\n",
            "  creating build\\lib.win-amd64-3.8\\pandas\\tests\\reductions\n",
            "  copying pandas\\tests\\reductions\\test_reductions.py -> build\\lib.win-amd64-3.8\\pandas\\tests\\reductions\n",
            "  copying pandas\\tests\\reductions\\test_stat_reductions.py -> build\\lib.win-amd64-3.8\\pandas\\tests\\reductions\n",
            "  copying pandas\\tests\\reductions\\__init__.py -> build\\lib.win-amd64-3.8\\pandas\\tests\\reductions\n",
            "  creating build\\lib.win-amd64-3.8\\pandas\\tests\\resample\n",
            "  copying pandas\\tests\\resample\\conftest.py -> build\\lib.win-amd64-3.8\\pandas\\tests\\resample\n",
            "  copying pandas\\tests\\resample\\test_base.py -> build\\lib.win-amd64-3.8\\pandas\\tests\\resample\n",
            "  copying pandas\\tests\\resample\\test_datetime_index.py -> build\\lib.win-amd64-3.8\\pandas\\tests\\resample\n",
            "  copying pandas\\tests\\resample\\test_period_index.py -> build\\lib.win-amd64-3.8\\pandas\\tests\\resample\n",
            "  copying pandas\\tests\\resample\\test_resampler_grouper.py -> build\\lib.win-amd64-3.8\\pandas\\tests\\resample\n",
            "  copying pandas\\tests\\resample\\test_resample_api.py -> build\\lib.win-amd64-3.8\\pandas\\tests\\resample\n",
            "  copying pandas\\tests\\resample\\test_timedelta.py -> build\\lib.win-amd64-3.8\\pandas\\tests\\resample\n",
            "  copying pandas\\tests\\resample\\test_time_grouper.py -> build\\lib.win-amd64-3.8\\pandas\\tests\\resample\n",
            "  copying pandas\\tests\\resample\\__init__.py -> build\\lib.win-amd64-3.8\\pandas\\tests\\resample\n",
            "  creating build\\lib.win-amd64-3.8\\pandas\\tests\\reshape\n",
            "  copying pandas\\tests\\reshape\\test_concat.py -> build\\lib.win-amd64-3.8\\pandas\\tests\\reshape\n",
            "  copying pandas\\tests\\reshape\\test_cut.py -> build\\lib.win-amd64-3.8\\pandas\\tests\\reshape\n"
          ]
        },
        {
          "name": "stderr",
          "output_type": "stream",
          "text": [
            "  copying pandas\\tests\\reshape\\test_melt.py -> build\\lib.win-amd64-3.8\\pandas\\tests\\reshape\n",
            "  copying pandas\\tests\\reshape\\test_pivot.py -> build\\lib.win-amd64-3.8\\pandas\\tests\\reshape\n",
            "  copying pandas\\tests\\reshape\\test_qcut.py -> build\\lib.win-amd64-3.8\\pandas\\tests\\reshape\n",
            "  copying pandas\\tests\\reshape\\test_reshape.py -> build\\lib.win-amd64-3.8\\pandas\\tests\\reshape\n",
            "  copying pandas\\tests\\reshape\\test_union_categoricals.py -> build\\lib.win-amd64-3.8\\pandas\\tests\\reshape\n",
            "  copying pandas\\tests\\reshape\\test_util.py -> build\\lib.win-amd64-3.8\\pandas\\tests\\reshape\n",
            "  copying pandas\\tests\\reshape\\__init__.py -> build\\lib.win-amd64-3.8\\pandas\\tests\\reshape\n",
            "  creating build\\lib.win-amd64-3.8\\pandas\\tests\\scalar\n",
            "  copying pandas\\tests\\scalar\\test_nat.py -> build\\lib.win-amd64-3.8\\pandas\\tests\\scalar\n",
            "  copying pandas\\tests\\scalar\\__init__.py -> build\\lib.win-amd64-3.8\\pandas\\tests\\scalar\n",
            "  creating build\\lib.win-amd64-3.8\\pandas\\tests\\series\n",
            "  copying pandas\\tests\\series\\common.py -> build\\lib.win-amd64-3.8\\pandas\\tests\\series\n",
            "  copying pandas\\tests\\series\\conftest.py -> build\\lib.win-amd64-3.8\\pandas\\tests\\series\n",
            "  copying pandas\\tests\\series\\test_alter_axes.py -> build\\lib.win-amd64-3.8\\pandas\\tests\\series\n",
            "  copying pandas\\tests\\series\\test_analytics.py -> build\\lib.win-amd64-3.8\\pandas\\tests\\series\n",
            "  copying pandas\\tests\\series\\test_api.py -> build\\lib.win-amd64-3.8\\pandas\\tests\\series\n",
            "  copying pandas\\tests\\series\\test_apply.py -> build\\lib.win-amd64-3.8\\pandas\\tests\\series\n",
            "  copying pandas\\tests\\series\\test_arithmetic.py -> build\\lib.win-amd64-3.8\\pandas\\tests\\series\n",
            "  copying pandas\\tests\\series\\test_asof.py -> build\\lib.win-amd64-3.8\\pandas\\tests\\series\n",
            "  copying pandas\\tests\\series\\test_block_internals.py -> build\\lib.win-amd64-3.8\\pandas\\tests\\series\n",
            "  copying pandas\\tests\\series\\test_combine_concat.py -> build\\lib.win-amd64-3.8\\pandas\\tests\\series\n",
            "  copying pandas\\tests\\series\\test_constructors.py -> build\\lib.win-amd64-3.8\\pandas\\tests\\series\n",
            "  copying pandas\\tests\\series\\test_datetime_values.py -> build\\lib.win-amd64-3.8\\pandas\\tests\\series\n",
            "  copying pandas\\tests\\series\\test_dtypes.py -> build\\lib.win-amd64-3.8\\pandas\\tests\\series\n",
            "  copying pandas\\tests\\series\\test_duplicates.py -> build\\lib.win-amd64-3.8\\pandas\\tests\\series\n",
            "  copying pandas\\tests\\series\\test_explode.py -> build\\lib.win-amd64-3.8\\pandas\\tests\\series\n",
            "  copying pandas\\tests\\series\\test_internals.py -> build\\lib.win-amd64-3.8\\pandas\\tests\\series\n",
            "  copying pandas\\tests\\series\\test_io.py -> build\\lib.win-amd64-3.8\\pandas\\tests\\series\n",
            "  copying pandas\\tests\\series\\test_missing.py -> build\\lib.win-amd64-3.8\\pandas\\tests\\series\n",
            "  copying pandas\\tests\\series\\test_operators.py -> build\\lib.win-amd64-3.8\\pandas\\tests\\series\n",
            "  copying pandas\\tests\\series\\test_period.py -> build\\lib.win-amd64-3.8\\pandas\\tests\\series\n",
            "  copying pandas\\tests\\series\\test_quantile.py -> build\\lib.win-amd64-3.8\\pandas\\tests\\series\n",
            "  copying pandas\\tests\\series\\test_rank.py -> build\\lib.win-amd64-3.8\\pandas\\tests\\series\n",
            "  copying pandas\\tests\\series\\test_replace.py -> build\\lib.win-amd64-3.8\\pandas\\tests\\series\n",
            "  copying pandas\\tests\\series\\test_repr.py -> build\\lib.win-amd64-3.8\\pandas\\tests\\series\n",
            "  copying pandas\\tests\\series\\test_sorting.py -> build\\lib.win-amd64-3.8\\pandas\\tests\\series\n",
            "  copying pandas\\tests\\series\\test_subclass.py -> build\\lib.win-amd64-3.8\\pandas\\tests\\series\n",
            "  copying pandas\\tests\\series\\test_timeseries.py -> build\\lib.win-amd64-3.8\\pandas\\tests\\series\n",
            "  copying pandas\\tests\\series\\test_timezones.py -> build\\lib.win-amd64-3.8\\pandas\\tests\\series\n",
            "  copying pandas\\tests\\series\\test_ufunc.py -> build\\lib.win-amd64-3.8\\pandas\\tests\\series\n",
            "  copying pandas\\tests\\series\\test_validate.py -> build\\lib.win-amd64-3.8\\pandas\\tests\\series\n",
            "  copying pandas\\tests\\series\\__init__.py -> build\\lib.win-amd64-3.8\\pandas\\tests\\series\n",
            "  creating build\\lib.win-amd64-3.8\\pandas\\tests\\sparse\n",
            "  copying pandas\\tests\\sparse\\common.py -> build\\lib.win-amd64-3.8\\pandas\\tests\\sparse\n",
            "  copying pandas\\tests\\sparse\\test_combine_concat.py -> build\\lib.win-amd64-3.8\\pandas\\tests\\sparse\n",
            "  copying pandas\\tests\\sparse\\test_format.py -> build\\lib.win-amd64-3.8\\pandas\\tests\\sparse\n",
            "  copying pandas\\tests\\sparse\\test_groupby.py -> build\\lib.win-amd64-3.8\\pandas\\tests\\sparse\n",
            "  copying pandas\\tests\\sparse\\test_indexing.py -> build\\lib.win-amd64-3.8\\pandas\\tests\\sparse\n",
            "  copying pandas\\tests\\sparse\\test_pivot.py -> build\\lib.win-amd64-3.8\\pandas\\tests\\sparse\n",
            "  copying pandas\\tests\\sparse\\test_reshape.py -> build\\lib.win-amd64-3.8\\pandas\\tests\\sparse\n",
            "  copying pandas\\tests\\sparse\\__init__.py -> build\\lib.win-amd64-3.8\\pandas\\tests\\sparse\n",
            "  creating build\\lib.win-amd64-3.8\\pandas\\tests\\tools\n",
            "  copying pandas\\tests\\tools\\test_numeric.py -> build\\lib.win-amd64-3.8\\pandas\\tests\\tools\n",
            "  copying pandas\\tests\\tools\\__init__.py -> build\\lib.win-amd64-3.8\\pandas\\tests\\tools\n",
            "  creating build\\lib.win-amd64-3.8\\pandas\\tests\\tseries\n",
            "  copying pandas\\tests\\tseries\\__init__.py -> build\\lib.win-amd64-3.8\\pandas\\tests\\tseries\n",
            "  creating build\\lib.win-amd64-3.8\\pandas\\tests\\tslibs\n",
            "  copying pandas\\tests\\tslibs\\test_api.py -> build\\lib.win-amd64-3.8\\pandas\\tests\\tslibs\n",
            "  copying pandas\\tests\\tslibs\\test_array_to_datetime.py -> build\\lib.win-amd64-3.8\\pandas\\tests\\tslibs\n",
            "  copying pandas\\tests\\tslibs\\test_ccalendar.py -> build\\lib.win-amd64-3.8\\pandas\\tests\\tslibs\n",
            "  copying pandas\\tests\\tslibs\\test_conversion.py -> build\\lib.win-amd64-3.8\\pandas\\tests\\tslibs\n",
            "  copying pandas\\tests\\tslibs\\test_libfrequencies.py -> build\\lib.win-amd64-3.8\\pandas\\tests\\tslibs\n",
            "  copying pandas\\tests\\tslibs\\test_liboffsets.py -> build\\lib.win-amd64-3.8\\pandas\\tests\\tslibs\n",
            "  copying pandas\\tests\\tslibs\\test_normalize_date.py -> build\\lib.win-amd64-3.8\\pandas\\tests\\tslibs\n",
            "  copying pandas\\tests\\tslibs\\test_parse_iso8601.py -> build\\lib.win-amd64-3.8\\pandas\\tests\\tslibs\n",
            "  copying pandas\\tests\\tslibs\\test_parsing.py -> build\\lib.win-amd64-3.8\\pandas\\tests\\tslibs\n",
            "  copying pandas\\tests\\tslibs\\test_period_asfreq.py -> build\\lib.win-amd64-3.8\\pandas\\tests\\tslibs\n",
            "  copying pandas\\tests\\tslibs\\test_timedeltas.py -> build\\lib.win-amd64-3.8\\pandas\\tests\\tslibs\n",
            "  copying pandas\\tests\\tslibs\\test_timezones.py -> build\\lib.win-amd64-3.8\\pandas\\tests\\tslibs\n",
            "  copying pandas\\tests\\tslibs\\__init__.py -> build\\lib.win-amd64-3.8\\pandas\\tests\\tslibs\n",
            "  creating build\\lib.win-amd64-3.8\\pandas\\tests\\util\n",
            "  copying pandas\\tests\\util\\conftest.py -> build\\lib.win-amd64-3.8\\pandas\\tests\\util\n",
            "  copying pandas\\tests\\util\\test_assert_almost_equal.py -> build\\lib.win-amd64-3.8\\pandas\\tests\\util\n",
            "  copying pandas\\tests\\util\\test_assert_categorical_equal.py -> build\\lib.win-amd64-3.8\\pandas\\tests\\util\n",
            "  copying pandas\\tests\\util\\test_assert_extension_array_equal.py -> build\\lib.win-amd64-3.8\\pandas\\tests\\util\n",
            "  copying pandas\\tests\\util\\test_assert_frame_equal.py -> build\\lib.win-amd64-3.8\\pandas\\tests\\util\n",
            "  copying pandas\\tests\\util\\test_assert_index_equal.py -> build\\lib.win-amd64-3.8\\pandas\\tests\\util\n",
            "  copying pandas\\tests\\util\\test_assert_interval_array_equal.py -> build\\lib.win-amd64-3.8\\pandas\\tests\\util\n",
            "  copying pandas\\tests\\util\\test_assert_numpy_array_equal.py -> build\\lib.win-amd64-3.8\\pandas\\tests\\util\n",
            "  copying pandas\\tests\\util\\test_assert_produces_warning.py -> build\\lib.win-amd64-3.8\\pandas\\tests\\util\n",
            "  copying pandas\\tests\\util\\test_assert_series_equal.py -> build\\lib.win-amd64-3.8\\pandas\\tests\\util\n",
            "  copying pandas\\tests\\util\\test_deprecate.py -> build\\lib.win-amd64-3.8\\pandas\\tests\\util\n",
            "  copying pandas\\tests\\util\\test_deprecate_kwarg.py -> build\\lib.win-amd64-3.8\\pandas\\tests\\util\n",
            "  copying pandas\\tests\\util\\test_hashing.py -> build\\lib.win-amd64-3.8\\pandas\\tests\\util\n",
            "  copying pandas\\tests\\util\\test_move.py -> build\\lib.win-amd64-3.8\\pandas\\tests\\util\n",
            "  copying pandas\\tests\\util\\test_safe_import.py -> build\\lib.win-amd64-3.8\\pandas\\tests\\util\n",
            "  copying pandas\\tests\\util\\test_util.py -> build\\lib.win-amd64-3.8\\pandas\\tests\\util\n",
            "  copying pandas\\tests\\util\\test_validate_args.py -> build\\lib.win-amd64-3.8\\pandas\\tests\\util\n",
            "  copying pandas\\tests\\util\\test_validate_args_and_kwargs.py -> build\\lib.win-amd64-3.8\\pandas\\tests\\util\n",
            "  copying pandas\\tests\\util\\test_validate_kwargs.py -> build\\lib.win-amd64-3.8\\pandas\\tests\\util\n",
            "  copying pandas\\tests\\util\\__init__.py -> build\\lib.win-amd64-3.8\\pandas\\tests\\util\n",
            "  creating build\\lib.win-amd64-3.8\\pandas\\tests\\window\n",
            "  copying pandas\\tests\\window\\common.py -> build\\lib.win-amd64-3.8\\pandas\\tests\\window\n",
            "  copying pandas\\tests\\window\\conftest.py -> build\\lib.win-amd64-3.8\\pandas\\tests\\window\n",
            "  copying pandas\\tests\\window\\test_api.py -> build\\lib.win-amd64-3.8\\pandas\\tests\\window\n",
            "  copying pandas\\tests\\window\\test_dtypes.py -> build\\lib.win-amd64-3.8\\pandas\\tests\\window\n",
            "  copying pandas\\tests\\window\\test_ewm.py -> build\\lib.win-amd64-3.8\\pandas\\tests\\window\n",
            "  copying pandas\\tests\\window\\test_expanding.py -> build\\lib.win-amd64-3.8\\pandas\\tests\\window\n",
            "  copying pandas\\tests\\window\\test_grouper.py -> build\\lib.win-amd64-3.8\\pandas\\tests\\window\n",
            "  copying pandas\\tests\\window\\test_moments.py -> build\\lib.win-amd64-3.8\\pandas\\tests\\window\n",
            "  copying pandas\\tests\\window\\test_pairwise.py -> build\\lib.win-amd64-3.8\\pandas\\tests\\window\n",
            "  copying pandas\\tests\\window\\test_rolling.py -> build\\lib.win-amd64-3.8\\pandas\\tests\\window\n",
            "  copying pandas\\tests\\window\\test_timeseries_window.py -> build\\lib.win-amd64-3.8\\pandas\\tests\\window\n",
            "  copying pandas\\tests\\window\\test_window.py -> build\\lib.win-amd64-3.8\\pandas\\tests\\window\n",
            "  copying pandas\\tests\\window\\__init__.py -> build\\lib.win-amd64-3.8\\pandas\\tests\\window\n",
            "  creating build\\lib.win-amd64-3.8\\pandas\\tests\\arrays\\categorical\n",
            "  copying pandas\\tests\\arrays\\categorical\\common.py -> build\\lib.win-amd64-3.8\\pandas\\tests\\arrays\\categorical\n",
            "  copying pandas\\tests\\arrays\\categorical\\conftest.py -> build\\lib.win-amd64-3.8\\pandas\\tests\\arrays\\categorical\n",
            "  copying pandas\\tests\\arrays\\categorical\\test_algos.py -> build\\lib.win-amd64-3.8\\pandas\\tests\\arrays\\categorical\n",
            "  copying pandas\\tests\\arrays\\categorical\\test_analytics.py -> build\\lib.win-amd64-3.8\\pandas\\tests\\arrays\\categorical\n",
            "  copying pandas\\tests\\arrays\\categorical\\test_api.py -> build\\lib.win-amd64-3.8\\pandas\\tests\\arrays\\categorical\n",
            "  copying pandas\\tests\\arrays\\categorical\\test_constructors.py -> build\\lib.win-amd64-3.8\\pandas\\tests\\arrays\\categorical\n",
            "  copying pandas\\tests\\arrays\\categorical\\test_dtypes.py -> build\\lib.win-amd64-3.8\\pandas\\tests\\arrays\\categorical\n",
            "  copying pandas\\tests\\arrays\\categorical\\test_indexing.py -> build\\lib.win-amd64-3.8\\pandas\\tests\\arrays\\categorical\n",
            "  copying pandas\\tests\\arrays\\categorical\\test_missing.py -> build\\lib.win-amd64-3.8\\pandas\\tests\\arrays\\categorical\n",
            "  copying pandas\\tests\\arrays\\categorical\\test_operators.py -> build\\lib.win-amd64-3.8\\pandas\\tests\\arrays\\categorical\n",
            "  copying pandas\\tests\\arrays\\categorical\\test_repr.py -> build\\lib.win-amd64-3.8\\pandas\\tests\\arrays\\categorical\n",
            "  copying pandas\\tests\\arrays\\categorical\\test_sorting.py -> build\\lib.win-amd64-3.8\\pandas\\tests\\arrays\\categorical\n",
            "  copying pandas\\tests\\arrays\\categorical\\test_subclass.py -> build\\lib.win-amd64-3.8\\pandas\\tests\\arrays\\categorical\n",
            "  copying pandas\\tests\\arrays\\categorical\\test_warnings.py -> build\\lib.win-amd64-3.8\\pandas\\tests\\arrays\\categorical\n",
            "  copying pandas\\tests\\arrays\\categorical\\__init__.py -> build\\lib.win-amd64-3.8\\pandas\\tests\\arrays\\categorical\n",
            "  creating build\\lib.win-amd64-3.8\\pandas\\tests\\arrays\\interval\n",
            "  copying pandas\\tests\\arrays\\interval\\test_interval.py -> build\\lib.win-amd64-3.8\\pandas\\tests\\arrays\\interval\n",
            "  copying pandas\\tests\\arrays\\interval\\test_ops.py -> build\\lib.win-amd64-3.8\\pandas\\tests\\arrays\\interval\n",
            "  copying pandas\\tests\\arrays\\interval\\__init__.py -> build\\lib.win-amd64-3.8\\pandas\\tests\\arrays\\interval\n",
            "  creating build\\lib.win-amd64-3.8\\pandas\\tests\\arrays\\sparse\n",
            "  copying pandas\\tests\\arrays\\sparse\\test_accessor.py -> build\\lib.win-amd64-3.8\\pandas\\tests\\arrays\\sparse\n",
            "  copying pandas\\tests\\arrays\\sparse\\test_arithmetics.py -> build\\lib.win-amd64-3.8\\pandas\\tests\\arrays\\sparse\n",
            "  copying pandas\\tests\\arrays\\sparse\\test_array.py -> build\\lib.win-amd64-3.8\\pandas\\tests\\arrays\\sparse\n",
            "  copying pandas\\tests\\arrays\\sparse\\test_dtype.py -> build\\lib.win-amd64-3.8\\pandas\\tests\\arrays\\sparse\n",
            "  copying pandas\\tests\\arrays\\sparse\\test_libsparse.py -> build\\lib.win-amd64-3.8\\pandas\\tests\\arrays\\sparse\n",
            "  copying pandas\\tests\\arrays\\sparse\\__init__.py -> build\\lib.win-amd64-3.8\\pandas\\tests\\arrays\\sparse\n",
            "  creating build\\lib.win-amd64-3.8\\pandas\\tests\\dtypes\\cast\n",
            "  copying pandas\\tests\\dtypes\\cast\\test_construct_from_scalar.py -> build\\lib.win-amd64-3.8\\pandas\\tests\\dtypes\\cast\n",
            "  copying pandas\\tests\\dtypes\\cast\\test_construct_ndarray.py -> build\\lib.win-amd64-3.8\\pandas\\tests\\dtypes\\cast\n",
            "  copying pandas\\tests\\dtypes\\cast\\test_construct_object_arr.py -> build\\lib.win-amd64-3.8\\pandas\\tests\\dtypes\\cast\n",
            "  copying pandas\\tests\\dtypes\\cast\\test_convert_objects.py -> build\\lib.win-amd64-3.8\\pandas\\tests\\dtypes\\cast\n",
            "  copying pandas\\tests\\dtypes\\cast\\test_downcast.py -> build\\lib.win-amd64-3.8\\pandas\\tests\\dtypes\\cast\n",
            "  copying pandas\\tests\\dtypes\\cast\\test_find_common_type.py -> build\\lib.win-amd64-3.8\\pandas\\tests\\dtypes\\cast\n",
            "  copying pandas\\tests\\dtypes\\cast\\test_infer_datetimelike.py -> build\\lib.win-amd64-3.8\\pandas\\tests\\dtypes\\cast\n",
            "  copying pandas\\tests\\dtypes\\cast\\test_infer_dtype.py -> build\\lib.win-amd64-3.8\\pandas\\tests\\dtypes\\cast\n",
            "  copying pandas\\tests\\dtypes\\cast\\test_promote.py -> build\\lib.win-amd64-3.8\\pandas\\tests\\dtypes\\cast\n",
            "  copying pandas\\tests\\dtypes\\cast\\test_upcast.py -> build\\lib.win-amd64-3.8\\pandas\\tests\\dtypes\\cast\n",
            "  copying pandas\\tests\\dtypes\\cast\\__init__.py -> build\\lib.win-amd64-3.8\\pandas\\tests\\dtypes\\cast\n",
            "  creating build\\lib.win-amd64-3.8\\pandas\\tests\\extension\\arrow\n",
            "  copying pandas\\tests\\extension\\arrow\\bool.py -> build\\lib.win-amd64-3.8\\pandas\\tests\\extension\\arrow\n",
            "  copying pandas\\tests\\extension\\arrow\\test_bool.py -> build\\lib.win-amd64-3.8\\pandas\\tests\\extension\\arrow\n",
            "  copying pandas\\tests\\extension\\arrow\\__init__.py -> build\\lib.win-amd64-3.8\\pandas\\tests\\extension\\arrow\n",
            "  creating build\\lib.win-amd64-3.8\\pandas\\tests\\extension\\base\n",
            "  copying pandas\\tests\\extension\\base\\base.py -> build\\lib.win-amd64-3.8\\pandas\\tests\\extension\\base\n",
            "  copying pandas\\tests\\extension\\base\\casting.py -> build\\lib.win-amd64-3.8\\pandas\\tests\\extension\\base\n",
            "  copying pandas\\tests\\extension\\base\\constructors.py -> build\\lib.win-amd64-3.8\\pandas\\tests\\extension\\base\n",
            "  copying pandas\\tests\\extension\\base\\dtype.py -> build\\lib.win-amd64-3.8\\pandas\\tests\\extension\\base\n",
            "  copying pandas\\tests\\extension\\base\\getitem.py -> build\\lib.win-amd64-3.8\\pandas\\tests\\extension\\base\n",
            "  copying pandas\\tests\\extension\\base\\groupby.py -> build\\lib.win-amd64-3.8\\pandas\\tests\\extension\\base\n",
            "  copying pandas\\tests\\extension\\base\\interface.py -> build\\lib.win-amd64-3.8\\pandas\\tests\\extension\\base\n",
            "  copying pandas\\tests\\extension\\base\\io.py -> build\\lib.win-amd64-3.8\\pandas\\tests\\extension\\base\n",
            "  copying pandas\\tests\\extension\\base\\methods.py -> build\\lib.win-amd64-3.8\\pandas\\tests\\extension\\base\n",
            "  copying pandas\\tests\\extension\\base\\missing.py -> build\\lib.win-amd64-3.8\\pandas\\tests\\extension\\base\n",
            "  copying pandas\\tests\\extension\\base\\ops.py -> build\\lib.win-amd64-3.8\\pandas\\tests\\extension\\base\n",
            "  copying pandas\\tests\\extension\\base\\printing.py -> build\\lib.win-amd64-3.8\\pandas\\tests\\extension\\base\n",
            "  copying pandas\\tests\\extension\\base\\reduce.py -> build\\lib.win-amd64-3.8\\pandas\\tests\\extension\\base\n",
            "  copying pandas\\tests\\extension\\base\\reshaping.py -> build\\lib.win-amd64-3.8\\pandas\\tests\\extension\\base\n",
            "  copying pandas\\tests\\extension\\base\\setitem.py -> build\\lib.win-amd64-3.8\\pandas\\tests\\extension\\base\n",
            "  copying pandas\\tests\\extension\\base\\__init__.py -> build\\lib.win-amd64-3.8\\pandas\\tests\\extension\\base\n",
            "  creating build\\lib.win-amd64-3.8\\pandas\\tests\\extension\\decimal\n",
            "  copying pandas\\tests\\extension\\decimal\\array.py -> build\\lib.win-amd64-3.8\\pandas\\tests\\extension\\decimal\n",
            "  copying pandas\\tests\\extension\\decimal\\test_decimal.py -> build\\lib.win-amd64-3.8\\pandas\\tests\\extension\\decimal\n",
            "  copying pandas\\tests\\extension\\decimal\\__init__.py -> build\\lib.win-amd64-3.8\\pandas\\tests\\extension\\decimal\n",
            "  creating build\\lib.win-amd64-3.8\\pandas\\tests\\extension\\json\n",
            "  copying pandas\\tests\\extension\\json\\array.py -> build\\lib.win-amd64-3.8\\pandas\\tests\\extension\\json\n",
            "  copying pandas\\tests\\extension\\json\\test_json.py -> build\\lib.win-amd64-3.8\\pandas\\tests\\extension\\json\n",
            "  copying pandas\\tests\\extension\\json\\__init__.py -> build\\lib.win-amd64-3.8\\pandas\\tests\\extension\\json\n",
            "  creating build\\lib.win-amd64-3.8\\pandas\\tests\\groupby\\aggregate\n",
            "  copying pandas\\tests\\groupby\\aggregate\\test_aggregate.py -> build\\lib.win-amd64-3.8\\pandas\\tests\\groupby\\aggregate\n",
            "  copying pandas\\tests\\groupby\\aggregate\\test_cython.py -> build\\lib.win-amd64-3.8\\pandas\\tests\\groupby\\aggregate\n",
            "  copying pandas\\tests\\groupby\\aggregate\\test_other.py -> build\\lib.win-amd64-3.8\\pandas\\tests\\groupby\\aggregate\n",
            "  copying pandas\\tests\\groupby\\aggregate\\__init__.py -> build\\lib.win-amd64-3.8\\pandas\\tests\\groupby\\aggregate\n",
            "  creating build\\lib.win-amd64-3.8\\pandas\\tests\\indexes\\datetimes\n",
            "  copying pandas\\tests\\indexes\\datetimes\\test_arithmetic.py -> build\\lib.win-amd64-3.8\\pandas\\tests\\indexes\\datetimes\n",
            "  copying pandas\\tests\\indexes\\datetimes\\test_astype.py -> build\\lib.win-amd64-3.8\\pandas\\tests\\indexes\\datetimes\n",
            "  copying pandas\\tests\\indexes\\datetimes\\test_construction.py -> build\\lib.win-amd64-3.8\\pandas\\tests\\indexes\\datetimes\n",
            "  copying pandas\\tests\\indexes\\datetimes\\test_datetime.py -> build\\lib.win-amd64-3.8\\pandas\\tests\\indexes\\datetimes\n",
            "  copying pandas\\tests\\indexes\\datetimes\\test_datetimelike.py -> build\\lib.win-amd64-3.8\\pandas\\tests\\indexes\\datetimes\n",
            "  copying pandas\\tests\\indexes\\datetimes\\test_date_range.py -> build\\lib.win-amd64-3.8\\pandas\\tests\\indexes\\datetimes\n",
            "  copying pandas\\tests\\indexes\\datetimes\\test_formats.py -> build\\lib.win-amd64-3.8\\pandas\\tests\\indexes\\datetimes\n",
            "  copying pandas\\tests\\indexes\\datetimes\\test_indexing.py -> build\\lib.win-amd64-3.8\\pandas\\tests\\indexes\\datetimes\n",
            "  copying pandas\\tests\\indexes\\datetimes\\test_misc.py -> build\\lib.win-amd64-3.8\\pandas\\tests\\indexes\\datetimes\n",
            "  copying pandas\\tests\\indexes\\datetimes\\test_missing.py -> build\\lib.win-amd64-3.8\\pandas\\tests\\indexes\\datetimes\n",
            "  copying pandas\\tests\\indexes\\datetimes\\test_ops.py -> build\\lib.win-amd64-3.8\\pandas\\tests\\indexes\\datetimes\n",
            "  copying pandas\\tests\\indexes\\datetimes\\test_partial_slicing.py -> build\\lib.win-amd64-3.8\\pandas\\tests\\indexes\\datetimes\n",
            "  copying pandas\\tests\\indexes\\datetimes\\test_scalar_compat.py -> build\\lib.win-amd64-3.8\\pandas\\tests\\indexes\\datetimes\n",
            "  copying pandas\\tests\\indexes\\datetimes\\test_setops.py -> build\\lib.win-amd64-3.8\\pandas\\tests\\indexes\\datetimes\n",
            "  copying pandas\\tests\\indexes\\datetimes\\test_timezones.py -> build\\lib.win-amd64-3.8\\pandas\\tests\\indexes\\datetimes\n",
            "  copying pandas\\tests\\indexes\\datetimes\\test_tools.py -> build\\lib.win-amd64-3.8\\pandas\\tests\\indexes\\datetimes\n",
            "  copying pandas\\tests\\indexes\\datetimes\\__init__.py -> build\\lib.win-amd64-3.8\\pandas\\tests\\indexes\\datetimes\n",
            "  creating build\\lib.win-amd64-3.8\\pandas\\tests\\indexes\\interval\n",
            "  copying pandas\\tests\\indexes\\interval\\test_astype.py -> build\\lib.win-amd64-3.8\\pandas\\tests\\indexes\\interval\n",
            "  copying pandas\\tests\\indexes\\interval\\test_construction.py -> build\\lib.win-amd64-3.8\\pandas\\tests\\indexes\\interval\n",
            "  copying pandas\\tests\\indexes\\interval\\test_interval.py -> build\\lib.win-amd64-3.8\\pandas\\tests\\indexes\\interval\n",
            "  copying pandas\\tests\\indexes\\interval\\test_interval_new.py -> build\\lib.win-amd64-3.8\\pandas\\tests\\indexes\\interval\n",
            "  copying pandas\\tests\\indexes\\interval\\test_interval_range.py -> build\\lib.win-amd64-3.8\\pandas\\tests\\indexes\\interval\n",
            "  copying pandas\\tests\\indexes\\interval\\test_interval_tree.py -> build\\lib.win-amd64-3.8\\pandas\\tests\\indexes\\interval\n",
            "  copying pandas\\tests\\indexes\\interval\\test_setops.py -> build\\lib.win-amd64-3.8\\pandas\\tests\\indexes\\interval\n",
            "  copying pandas\\tests\\indexes\\interval\\__init__.py -> build\\lib.win-amd64-3.8\\pandas\\tests\\indexes\\interval\n",
            "  creating build\\lib.win-amd64-3.8\\pandas\\tests\\indexes\\multi\n",
            "  copying pandas\\tests\\indexes\\multi\\conftest.py -> build\\lib.win-amd64-3.8\\pandas\\tests\\indexes\\multi\n",
            "  copying pandas\\tests\\indexes\\multi\\test_analytics.py -> build\\lib.win-amd64-3.8\\pandas\\tests\\indexes\\multi\n",
            "  copying pandas\\tests\\indexes\\multi\\test_astype.py -> build\\lib.win-amd64-3.8\\pandas\\tests\\indexes\\multi\n",
            "  copying pandas\\tests\\indexes\\multi\\test_compat.py -> build\\lib.win-amd64-3.8\\pandas\\tests\\indexes\\multi\n",
            "  copying pandas\\tests\\indexes\\multi\\test_constructor.py -> build\\lib.win-amd64-3.8\\pandas\\tests\\indexes\\multi\n",
            "  copying pandas\\tests\\indexes\\multi\\test_contains.py -> build\\lib.win-amd64-3.8\\pandas\\tests\\indexes\\multi\n",
            "  copying pandas\\tests\\indexes\\multi\\test_conversion.py -> build\\lib.win-amd64-3.8\\pandas\\tests\\indexes\\multi\n",
            "  copying pandas\\tests\\indexes\\multi\\test_copy.py -> build\\lib.win-amd64-3.8\\pandas\\tests\\indexes\\multi\n",
            "  copying pandas\\tests\\indexes\\multi\\test_drop.py -> build\\lib.win-amd64-3.8\\pandas\\tests\\indexes\\multi\n",
            "  copying pandas\\tests\\indexes\\multi\\test_duplicates.py -> build\\lib.win-amd64-3.8\\pandas\\tests\\indexes\\multi\n",
            "  copying pandas\\tests\\indexes\\multi\\test_equivalence.py -> build\\lib.win-amd64-3.8\\pandas\\tests\\indexes\\multi\n",
            "  copying pandas\\tests\\indexes\\multi\\test_format.py -> build\\lib.win-amd64-3.8\\pandas\\tests\\indexes\\multi\n",
            "  copying pandas\\tests\\indexes\\multi\\test_get_set.py -> build\\lib.win-amd64-3.8\\pandas\\tests\\indexes\\multi\n",
            "  copying pandas\\tests\\indexes\\multi\\test_indexing.py -> build\\lib.win-amd64-3.8\\pandas\\tests\\indexes\\multi\n",
            "  copying pandas\\tests\\indexes\\multi\\test_integrity.py -> build\\lib.win-amd64-3.8\\pandas\\tests\\indexes\\multi\n",
            "  copying pandas\\tests\\indexes\\multi\\test_join.py -> build\\lib.win-amd64-3.8\\pandas\\tests\\indexes\\multi\n",
            "  copying pandas\\tests\\indexes\\multi\\test_missing.py -> build\\lib.win-amd64-3.8\\pandas\\tests\\indexes\\multi\n",
            "  copying pandas\\tests\\indexes\\multi\\test_monotonic.py -> build\\lib.win-amd64-3.8\\pandas\\tests\\indexes\\multi\n",
            "  copying pandas\\tests\\indexes\\multi\\test_names.py -> build\\lib.win-amd64-3.8\\pandas\\tests\\indexes\\multi\n",
            "  copying pandas\\tests\\indexes\\multi\\test_partial_indexing.py -> build\\lib.win-amd64-3.8\\pandas\\tests\\indexes\\multi\n",
            "  copying pandas\\tests\\indexes\\multi\\test_reindex.py -> build\\lib.win-amd64-3.8\\pandas\\tests\\indexes\\multi\n",
            "  copying pandas\\tests\\indexes\\multi\\test_reshape.py -> build\\lib.win-amd64-3.8\\pandas\\tests\\indexes\\multi\n",
            "  copying pandas\\tests\\indexes\\multi\\test_set_ops.py -> build\\lib.win-amd64-3.8\\pandas\\tests\\indexes\\multi\n",
            "  copying pandas\\tests\\indexes\\multi\\test_sorting.py -> build\\lib.win-amd64-3.8\\pandas\\tests\\indexes\\multi\n",
            "  copying pandas\\tests\\indexes\\multi\\__init__.py -> build\\lib.win-amd64-3.8\\pandas\\tests\\indexes\\multi\n",
            "  creating build\\lib.win-amd64-3.8\\pandas\\tests\\indexes\\period\n",
            "  copying pandas\\tests\\indexes\\period\\test_arithmetic.py -> build\\lib.win-amd64-3.8\\pandas\\tests\\indexes\\period\n",
            "  copying pandas\\tests\\indexes\\period\\test_asfreq.py -> build\\lib.win-amd64-3.8\\pandas\\tests\\indexes\\period\n",
            "  copying pandas\\tests\\indexes\\period\\test_astype.py -> build\\lib.win-amd64-3.8\\pandas\\tests\\indexes\\period\n",
            "  copying pandas\\tests\\indexes\\period\\test_construction.py -> build\\lib.win-amd64-3.8\\pandas\\tests\\indexes\\period\n",
            "  copying pandas\\tests\\indexes\\period\\test_formats.py -> build\\lib.win-amd64-3.8\\pandas\\tests\\indexes\\period\n",
            "  copying pandas\\tests\\indexes\\period\\test_indexing.py -> build\\lib.win-amd64-3.8\\pandas\\tests\\indexes\\period\n",
            "  copying pandas\\tests\\indexes\\period\\test_ops.py -> build\\lib.win-amd64-3.8\\pandas\\tests\\indexes\\period\n",
            "  copying pandas\\tests\\indexes\\period\\test_partial_slicing.py -> build\\lib.win-amd64-3.8\\pandas\\tests\\indexes\\period\n",
            "  copying pandas\\tests\\indexes\\period\\test_period.py -> build\\lib.win-amd64-3.8\\pandas\\tests\\indexes\\period\n",
            "  copying pandas\\tests\\indexes\\period\\test_period_range.py -> build\\lib.win-amd64-3.8\\pandas\\tests\\indexes\\period\n",
            "  copying pandas\\tests\\indexes\\period\\test_scalar_compat.py -> build\\lib.win-amd64-3.8\\pandas\\tests\\indexes\\period\n",
            "  copying pandas\\tests\\indexes\\period\\test_setops.py -> build\\lib.win-amd64-3.8\\pandas\\tests\\indexes\\period\n",
            "  copying pandas\\tests\\indexes\\period\\test_tools.py -> build\\lib.win-amd64-3.8\\pandas\\tests\\indexes\\period\n",
            "  copying pandas\\tests\\indexes\\period\\__init__.py -> build\\lib.win-amd64-3.8\\pandas\\tests\\indexes\\period\n",
            "  creating build\\lib.win-amd64-3.8\\pandas\\tests\\indexes\\timedeltas\n",
            "  copying pandas\\tests\\indexes\\timedeltas\\test_arithmetic.py -> build\\lib.win-amd64-3.8\\pandas\\tests\\indexes\\timedeltas\n",
            "  copying pandas\\tests\\indexes\\timedeltas\\test_astype.py -> build\\lib.win-amd64-3.8\\pandas\\tests\\indexes\\timedeltas\n",
            "  copying pandas\\tests\\indexes\\timedeltas\\test_construction.py -> build\\lib.win-amd64-3.8\\pandas\\tests\\indexes\\timedeltas\n",
            "  copying pandas\\tests\\indexes\\timedeltas\\test_formats.py -> build\\lib.win-amd64-3.8\\pandas\\tests\\indexes\\timedeltas\n",
            "  copying pandas\\tests\\indexes\\timedeltas\\test_indexing.py -> build\\lib.win-amd64-3.8\\pandas\\tests\\indexes\\timedeltas\n",
            "  copying pandas\\tests\\indexes\\timedeltas\\test_ops.py -> build\\lib.win-amd64-3.8\\pandas\\tests\\indexes\\timedeltas\n",
            "  copying pandas\\tests\\indexes\\timedeltas\\test_partial_slicing.py -> build\\lib.win-amd64-3.8\\pandas\\tests\\indexes\\timedeltas\n",
            "  copying pandas\\tests\\indexes\\timedeltas\\test_scalar_compat.py -> build\\lib.win-amd64-3.8\\pandas\\tests\\indexes\\timedeltas\n",
            "  copying pandas\\tests\\indexes\\timedeltas\\test_setops.py -> build\\lib.win-amd64-3.8\\pandas\\tests\\indexes\\timedeltas\n",
            "  copying pandas\\tests\\indexes\\timedeltas\\test_timedelta.py -> build\\lib.win-amd64-3.8\\pandas\\tests\\indexes\\timedeltas\n",
            "  copying pandas\\tests\\indexes\\timedeltas\\test_timedelta_range.py -> build\\lib.win-amd64-3.8\\pandas\\tests\\indexes\\timedeltas\n",
            "  copying pandas\\tests\\indexes\\timedeltas\\test_tools.py -> build\\lib.win-amd64-3.8\\pandas\\tests\\indexes\\timedeltas\n",
            "  copying pandas\\tests\\indexes\\timedeltas\\__init__.py -> build\\lib.win-amd64-3.8\\pandas\\tests\\indexes\\timedeltas\n",
            "  creating build\\lib.win-amd64-3.8\\pandas\\tests\\indexing\\interval\n",
            "  copying pandas\\tests\\indexing\\interval\\test_interval.py -> build\\lib.win-amd64-3.8\\pandas\\tests\\indexing\\interval\n",
            "  copying pandas\\tests\\indexing\\interval\\test_interval_new.py -> build\\lib.win-amd64-3.8\\pandas\\tests\\indexing\\interval\n",
            "  copying pandas\\tests\\indexing\\interval\\__init__.py -> build\\lib.win-amd64-3.8\\pandas\\tests\\indexing\\interval\n",
            "  creating build\\lib.win-amd64-3.8\\pandas\\tests\\indexing\\multiindex\n",
            "  copying pandas\\tests\\indexing\\multiindex\\conftest.py -> build\\lib.win-amd64-3.8\\pandas\\tests\\indexing\\multiindex\n",
            "  copying pandas\\tests\\indexing\\multiindex\\test_chaining_and_caching.py -> build\\lib.win-amd64-3.8\\pandas\\tests\\indexing\\multiindex\n",
            "  copying pandas\\tests\\indexing\\multiindex\\test_datetime.py -> build\\lib.win-amd64-3.8\\pandas\\tests\\indexing\\multiindex\n",
            "  copying pandas\\tests\\indexing\\multiindex\\test_getitem.py -> build\\lib.win-amd64-3.8\\pandas\\tests\\indexing\\multiindex\n",
            "  copying pandas\\tests\\indexing\\multiindex\\test_iloc.py -> build\\lib.win-amd64-3.8\\pandas\\tests\\indexing\\multiindex\n",
            "  copying pandas\\tests\\indexing\\multiindex\\test_indexing_slow.py -> build\\lib.win-amd64-3.8\\pandas\\tests\\indexing\\multiindex\n",
            "  copying pandas\\tests\\indexing\\multiindex\\test_ix.py -> build\\lib.win-amd64-3.8\\pandas\\tests\\indexing\\multiindex\n",
            "  copying pandas\\tests\\indexing\\multiindex\\test_loc.py -> build\\lib.win-amd64-3.8\\pandas\\tests\\indexing\\multiindex\n",
            "  copying pandas\\tests\\indexing\\multiindex\\test_multiindex.py -> build\\lib.win-amd64-3.8\\pandas\\tests\\indexing\\multiindex\n",
            "  copying pandas\\tests\\indexing\\multiindex\\test_partial.py -> build\\lib.win-amd64-3.8\\pandas\\tests\\indexing\\multiindex\n",
            "  copying pandas\\tests\\indexing\\multiindex\\test_setitem.py -> build\\lib.win-amd64-3.8\\pandas\\tests\\indexing\\multiindex\n",
            "  copying pandas\\tests\\indexing\\multiindex\\test_set_ops.py -> build\\lib.win-amd64-3.8\\pandas\\tests\\indexing\\multiindex\n",
            "  copying pandas\\tests\\indexing\\multiindex\\test_slice.py -> build\\lib.win-amd64-3.8\\pandas\\tests\\indexing\\multiindex\n",
            "  copying pandas\\tests\\indexing\\multiindex\\test_sorted.py -> build\\lib.win-amd64-3.8\\pandas\\tests\\indexing\\multiindex\n",
            "  copying pandas\\tests\\indexing\\multiindex\\test_xs.py -> build\\lib.win-amd64-3.8\\pandas\\tests\\indexing\\multiindex\n",
            "  copying pandas\\tests\\indexing\\multiindex\\__init__.py -> build\\lib.win-amd64-3.8\\pandas\\tests\\indexing\\multiindex\n",
            "  creating build\\lib.win-amd64-3.8\\pandas\\tests\\io\\excel\n",
            "  copying pandas\\tests\\io\\excel\\conftest.py -> build\\lib.win-amd64-3.8\\pandas\\tests\\io\\excel\n",
            "  copying pandas\\tests\\io\\excel\\test_odf.py -> build\\lib.win-amd64-3.8\\pandas\\tests\\io\\excel\n",
            "  copying pandas\\tests\\io\\excel\\test_openpyxl.py -> build\\lib.win-amd64-3.8\\pandas\\tests\\io\\excel\n",
            "  copying pandas\\tests\\io\\excel\\test_readers.py -> build\\lib.win-amd64-3.8\\pandas\\tests\\io\\excel\n",
            "  copying pandas\\tests\\io\\excel\\test_style.py -> build\\lib.win-amd64-3.8\\pandas\\tests\\io\\excel\n",
            "  copying pandas\\tests\\io\\excel\\test_writers.py -> build\\lib.win-amd64-3.8\\pandas\\tests\\io\\excel\n",
            "  copying pandas\\tests\\io\\excel\\test_xlrd.py -> build\\lib.win-amd64-3.8\\pandas\\tests\\io\\excel\n",
            "  copying pandas\\tests\\io\\excel\\test_xlsxwriter.py -> build\\lib.win-amd64-3.8\\pandas\\tests\\io\\excel\n",
            "  copying pandas\\tests\\io\\excel\\test_xlwt.py -> build\\lib.win-amd64-3.8\\pandas\\tests\\io\\excel\n",
            "  copying pandas\\tests\\io\\excel\\__init__.py -> build\\lib.win-amd64-3.8\\pandas\\tests\\io\\excel\n",
            "  creating build\\lib.win-amd64-3.8\\pandas\\tests\\io\\formats\n",
            "  copying pandas\\tests\\io\\formats\\test_console.py -> build\\lib.win-amd64-3.8\\pandas\\tests\\io\\formats\n",
            "  copying pandas\\tests\\io\\formats\\test_css.py -> build\\lib.win-amd64-3.8\\pandas\\tests\\io\\formats\n",
            "  copying pandas\\tests\\io\\formats\\test_eng_formatting.py -> build\\lib.win-amd64-3.8\\pandas\\tests\\io\\formats\n",
            "  copying pandas\\tests\\io\\formats\\test_format.py -> build\\lib.win-amd64-3.8\\pandas\\tests\\io\\formats\n",
            "  copying pandas\\tests\\io\\formats\\test_printing.py -> build\\lib.win-amd64-3.8\\pandas\\tests\\io\\formats\n",
            "  copying pandas\\tests\\io\\formats\\test_style.py -> build\\lib.win-amd64-3.8\\pandas\\tests\\io\\formats\n",
            "  copying pandas\\tests\\io\\formats\\test_to_csv.py -> build\\lib.win-amd64-3.8\\pandas\\tests\\io\\formats\n",
            "  copying pandas\\tests\\io\\formats\\test_to_excel.py -> build\\lib.win-amd64-3.8\\pandas\\tests\\io\\formats\n",
            "  copying pandas\\tests\\io\\formats\\test_to_html.py -> build\\lib.win-amd64-3.8\\pandas\\tests\\io\\formats\n",
            "  copying pandas\\tests\\io\\formats\\test_to_latex.py -> build\\lib.win-amd64-3.8\\pandas\\tests\\io\\formats\n",
            "  copying pandas\\tests\\io\\formats\\__init__.py -> build\\lib.win-amd64-3.8\\pandas\\tests\\io\\formats\n",
            "  creating build\\lib.win-amd64-3.8\\pandas\\tests\\io\\json\n",
            "  copying pandas\\tests\\io\\json\\test_compression.py -> build\\lib.win-amd64-3.8\\pandas\\tests\\io\\json\n",
            "  copying pandas\\tests\\io\\json\\test_json_table_schema.py -> build\\lib.win-amd64-3.8\\pandas\\tests\\io\\json\n",
            "  copying pandas\\tests\\io\\json\\test_normalize.py -> build\\lib.win-amd64-3.8\\pandas\\tests\\io\\json\n",
            "  copying pandas\\tests\\io\\json\\test_pandas.py -> build\\lib.win-amd64-3.8\\pandas\\tests\\io\\json\n",
            "  copying pandas\\tests\\io\\json\\test_readlines.py -> build\\lib.win-amd64-3.8\\pandas\\tests\\io\\json\n",
            "  copying pandas\\tests\\io\\json\\test_ujson.py -> build\\lib.win-amd64-3.8\\pandas\\tests\\io\\json\n",
            "  copying pandas\\tests\\io\\json\\__init__.py -> build\\lib.win-amd64-3.8\\pandas\\tests\\io\\json\n",
            "  creating build\\lib.win-amd64-3.8\\pandas\\tests\\io\\msgpack\n",
            "  copying pandas\\tests\\io\\msgpack\\common.py -> build\\lib.win-amd64-3.8\\pandas\\tests\\io\\msgpack\n",
            "  copying pandas\\tests\\io\\msgpack\\test_buffer.py -> build\\lib.win-amd64-3.8\\pandas\\tests\\io\\msgpack\n",
            "  copying pandas\\tests\\io\\msgpack\\test_case.py -> build\\lib.win-amd64-3.8\\pandas\\tests\\io\\msgpack\n",
            "  copying pandas\\tests\\io\\msgpack\\test_except.py -> build\\lib.win-amd64-3.8\\pandas\\tests\\io\\msgpack\n",
            "  copying pandas\\tests\\io\\msgpack\\test_extension.py -> build\\lib.win-amd64-3.8\\pandas\\tests\\io\\msgpack\n",
            "  copying pandas\\tests\\io\\msgpack\\test_format.py -> build\\lib.win-amd64-3.8\\pandas\\tests\\io\\msgpack\n",
            "  copying pandas\\tests\\io\\msgpack\\test_limits.py -> build\\lib.win-amd64-3.8\\pandas\\tests\\io\\msgpack\n",
            "  copying pandas\\tests\\io\\msgpack\\test_newspec.py -> build\\lib.win-amd64-3.8\\pandas\\tests\\io\\msgpack\n",
            "  copying pandas\\tests\\io\\msgpack\\test_obj.py -> build\\lib.win-amd64-3.8\\pandas\\tests\\io\\msgpack\n",
            "  copying pandas\\tests\\io\\msgpack\\test_pack.py -> build\\lib.win-amd64-3.8\\pandas\\tests\\io\\msgpack\n",
            "  copying pandas\\tests\\io\\msgpack\\test_read_size.py -> build\\lib.win-amd64-3.8\\pandas\\tests\\io\\msgpack\n",
            "  copying pandas\\tests\\io\\msgpack\\test_seq.py -> build\\lib.win-amd64-3.8\\pandas\\tests\\io\\msgpack\n",
            "  copying pandas\\tests\\io\\msgpack\\test_sequnpack.py -> build\\lib.win-amd64-3.8\\pandas\\tests\\io\\msgpack\n",
            "  copying pandas\\tests\\io\\msgpack\\test_subtype.py -> build\\lib.win-amd64-3.8\\pandas\\tests\\io\\msgpack\n",
            "  copying pandas\\tests\\io\\msgpack\\test_unpack.py -> build\\lib.win-amd64-3.8\\pandas\\tests\\io\\msgpack\n",
            "  copying pandas\\tests\\io\\msgpack\\test_unpack_raw.py -> build\\lib.win-amd64-3.8\\pandas\\tests\\io\\msgpack\n",
            "  copying pandas\\tests\\io\\msgpack\\__init__.py -> build\\lib.win-amd64-3.8\\pandas\\tests\\io\\msgpack\n",
            "  creating build\\lib.win-amd64-3.8\\pandas\\tests\\io\\parser\n",
            "  copying pandas\\tests\\io\\parser\\conftest.py -> build\\lib.win-amd64-3.8\\pandas\\tests\\io\\parser\n",
            "  copying pandas\\tests\\io\\parser\\test_comment.py -> build\\lib.win-amd64-3.8\\pandas\\tests\\io\\parser\n",
            "  copying pandas\\tests\\io\\parser\\test_common.py -> build\\lib.win-amd64-3.8\\pandas\\tests\\io\\parser\n",
            "  copying pandas\\tests\\io\\parser\\test_compression.py -> build\\lib.win-amd64-3.8\\pandas\\tests\\io\\parser\n",
            "  copying pandas\\tests\\io\\parser\\test_converters.py -> build\\lib.win-amd64-3.8\\pandas\\tests\\io\\parser\n",
            "  copying pandas\\tests\\io\\parser\\test_c_parser_only.py -> build\\lib.win-amd64-3.8\\pandas\\tests\\io\\parser\n",
            "  copying pandas\\tests\\io\\parser\\test_dialect.py -> build\\lib.win-amd64-3.8\\pandas\\tests\\io\\parser\n",
            "  copying pandas\\tests\\io\\parser\\test_dtypes.py -> build\\lib.win-amd64-3.8\\pandas\\tests\\io\\parser\n",
            "  copying pandas\\tests\\io\\parser\\test_header.py -> build\\lib.win-amd64-3.8\\pandas\\tests\\io\\parser\n",
            "  copying pandas\\tests\\io\\parser\\test_index_col.py -> build\\lib.win-amd64-3.8\\pandas\\tests\\io\\parser\n",
            "  copying pandas\\tests\\io\\parser\\test_mangle_dupes.py -> build\\lib.win-amd64-3.8\\pandas\\tests\\io\\parser\n",
            "  copying pandas\\tests\\io\\parser\\test_multi_thread.py -> build\\lib.win-amd64-3.8\\pandas\\tests\\io\\parser\n",
            "  copying pandas\\tests\\io\\parser\\test_na_values.py -> build\\lib.win-amd64-3.8\\pandas\\tests\\io\\parser\n",
            "  copying pandas\\tests\\io\\parser\\test_network.py -> build\\lib.win-amd64-3.8\\pandas\\tests\\io\\parser\n",
            "  copying pandas\\tests\\io\\parser\\test_parse_dates.py -> build\\lib.win-amd64-3.8\\pandas\\tests\\io\\parser\n",
            "  copying pandas\\tests\\io\\parser\\test_python_parser_only.py -> build\\lib.win-amd64-3.8\\pandas\\tests\\io\\parser\n",
            "  copying pandas\\tests\\io\\parser\\test_quoting.py -> build\\lib.win-amd64-3.8\\pandas\\tests\\io\\parser\n",
            "  copying pandas\\tests\\io\\parser\\test_read_fwf.py -> build\\lib.win-amd64-3.8\\pandas\\tests\\io\\parser\n",
            "  copying pandas\\tests\\io\\parser\\test_skiprows.py -> build\\lib.win-amd64-3.8\\pandas\\tests\\io\\parser\n",
            "  copying pandas\\tests\\io\\parser\\test_textreader.py -> build\\lib.win-amd64-3.8\\pandas\\tests\\io\\parser\n",
            "  copying pandas\\tests\\io\\parser\\test_unsupported.py -> build\\lib.win-amd64-3.8\\pandas\\tests\\io\\parser\n",
            "  copying pandas\\tests\\io\\parser\\test_usecols.py -> build\\lib.win-amd64-3.8\\pandas\\tests\\io\\parser\n",
            "  copying pandas\\tests\\io\\parser\\__init__.py -> build\\lib.win-amd64-3.8\\pandas\\tests\\io\\parser\n",
            "  creating build\\lib.win-amd64-3.8\\pandas\\tests\\io\\pytables\n",
            "  copying pandas\\tests\\io\\pytables\\test_compat.py -> build\\lib.win-amd64-3.8\\pandas\\tests\\io\\pytables\n",
            "  copying pandas\\tests\\io\\pytables\\test_pytables.py -> build\\lib.win-amd64-3.8\\pandas\\tests\\io\\pytables\n",
            "  copying pandas\\tests\\io\\pytables\\test_pytables_missing.py -> build\\lib.win-amd64-3.8\\pandas\\tests\\io\\pytables\n",
            "  copying pandas\\tests\\io\\pytables\\__init__.py -> build\\lib.win-amd64-3.8\\pandas\\tests\\io\\pytables\n",
            "  creating build\\lib.win-amd64-3.8\\pandas\\tests\\io\\sas\n",
            "  copying pandas\\tests\\io\\sas\\test_sas.py -> build\\lib.win-amd64-3.8\\pandas\\tests\\io\\sas\n",
            "  copying pandas\\tests\\io\\sas\\test_sas7bdat.py -> build\\lib.win-amd64-3.8\\pandas\\tests\\io\\sas\n",
            "  copying pandas\\tests\\io\\sas\\test_xport.py -> build\\lib.win-amd64-3.8\\pandas\\tests\\io\\sas\n",
            "  copying pandas\\tests\\io\\sas\\__init__.py -> build\\lib.win-amd64-3.8\\pandas\\tests\\io\\sas\n",
            "  creating build\\lib.win-amd64-3.8\\pandas\\tests\\reshape\\merge\n",
            "  copying pandas\\tests\\reshape\\merge\\test_join.py -> build\\lib.win-amd64-3.8\\pandas\\tests\\reshape\\merge\n",
            "  copying pandas\\tests\\reshape\\merge\\test_merge.py -> build\\lib.win-amd64-3.8\\pandas\\tests\\reshape\\merge\n",
            "  copying pandas\\tests\\reshape\\merge\\test_merge_asof.py -> build\\lib.win-amd64-3.8\\pandas\\tests\\reshape\\merge\n",
            "  copying pandas\\tests\\reshape\\merge\\test_merge_index_as_string.py -> build\\lib.win-amd64-3.8\\pandas\\tests\\reshape\\merge\n",
            "  copying pandas\\tests\\reshape\\merge\\test_merge_ordered.py -> build\\lib.win-amd64-3.8\\pandas\\tests\\reshape\\merge\n",
            "  copying pandas\\tests\\reshape\\merge\\test_multi.py -> build\\lib.win-amd64-3.8\\pandas\\tests\\reshape\\merge\n",
            "  copying pandas\\tests\\reshape\\merge\\__init__.py -> build\\lib.win-amd64-3.8\\pandas\\tests\\reshape\\merge\n",
            "  creating build\\lib.win-amd64-3.8\\pandas\\tests\\scalar\\interval\n",
            "  copying pandas\\tests\\scalar\\interval\\test_interval.py -> build\\lib.win-amd64-3.8\\pandas\\tests\\scalar\\interval\n",
            "  copying pandas\\tests\\scalar\\interval\\test_ops.py -> build\\lib.win-amd64-3.8\\pandas\\tests\\scalar\\interval\n",
            "  copying pandas\\tests\\scalar\\interval\\__init__.py -> build\\lib.win-amd64-3.8\\pandas\\tests\\scalar\\interval\n",
            "  creating build\\lib.win-amd64-3.8\\pandas\\tests\\scalar\\period\n",
            "  copying pandas\\tests\\scalar\\period\\test_asfreq.py -> build\\lib.win-amd64-3.8\\pandas\\tests\\scalar\\period\n",
            "  copying pandas\\tests\\scalar\\period\\test_period.py -> build\\lib.win-amd64-3.8\\pandas\\tests\\scalar\\period\n",
            "  copying pandas\\tests\\scalar\\period\\__init__.py -> build\\lib.win-amd64-3.8\\pandas\\tests\\scalar\\period\n",
            "  creating build\\lib.win-amd64-3.8\\pandas\\tests\\scalar\\timedelta\n",
            "  copying pandas\\tests\\scalar\\timedelta\\test_arithmetic.py -> build\\lib.win-amd64-3.8\\pandas\\tests\\scalar\\timedelta\n",
            "  copying pandas\\tests\\scalar\\timedelta\\test_construction.py -> build\\lib.win-amd64-3.8\\pandas\\tests\\scalar\\timedelta\n",
            "  copying pandas\\tests\\scalar\\timedelta\\test_formats.py -> build\\lib.win-amd64-3.8\\pandas\\tests\\scalar\\timedelta\n",
            "  copying pandas\\tests\\scalar\\timedelta\\test_timedelta.py -> build\\lib.win-amd64-3.8\\pandas\\tests\\scalar\\timedelta\n",
            "  copying pandas\\tests\\scalar\\timedelta\\__init__.py -> build\\lib.win-amd64-3.8\\pandas\\tests\\scalar\\timedelta\n",
            "  creating build\\lib.win-amd64-3.8\\pandas\\tests\\scalar\\timestamp\n",
            "  copying pandas\\tests\\scalar\\timestamp\\test_arithmetic.py -> build\\lib.win-amd64-3.8\\pandas\\tests\\scalar\\timestamp\n",
            "  copying pandas\\tests\\scalar\\timestamp\\test_comparisons.py -> build\\lib.win-amd64-3.8\\pandas\\tests\\scalar\\timestamp\n",
            "  copying pandas\\tests\\scalar\\timestamp\\test_rendering.py -> build\\lib.win-amd64-3.8\\pandas\\tests\\scalar\\timestamp\n",
            "  copying pandas\\tests\\scalar\\timestamp\\test_timestamp.py -> build\\lib.win-amd64-3.8\\pandas\\tests\\scalar\\timestamp\n",
            "  copying pandas\\tests\\scalar\\timestamp\\test_timezones.py -> build\\lib.win-amd64-3.8\\pandas\\tests\\scalar\\timestamp\n",
            "  copying pandas\\tests\\scalar\\timestamp\\test_unary_ops.py -> build\\lib.win-amd64-3.8\\pandas\\tests\\scalar\\timestamp\n",
            "  copying pandas\\tests\\scalar\\timestamp\\__init__.py -> build\\lib.win-amd64-3.8\\pandas\\tests\\scalar\\timestamp\n",
            "  creating build\\lib.win-amd64-3.8\\pandas\\tests\\series\\indexing\n",
            "  copying pandas\\tests\\series\\indexing\\conftest.py -> build\\lib.win-amd64-3.8\\pandas\\tests\\series\\indexing\n",
            "  copying pandas\\tests\\series\\indexing\\test_alter_index.py -> build\\lib.win-amd64-3.8\\pandas\\tests\\series\\indexing\n",
            "  copying pandas\\tests\\series\\indexing\\test_boolean.py -> build\\lib.win-amd64-3.8\\pandas\\tests\\series\\indexing\n",
            "  copying pandas\\tests\\series\\indexing\\test_callable.py -> build\\lib.win-amd64-3.8\\pandas\\tests\\series\\indexing\n",
            "  copying pandas\\tests\\series\\indexing\\test_datetime.py -> build\\lib.win-amd64-3.8\\pandas\\tests\\series\\indexing\n",
            "  copying pandas\\tests\\series\\indexing\\test_iloc.py -> build\\lib.win-amd64-3.8\\pandas\\tests\\series\\indexing\n",
            "  copying pandas\\tests\\series\\indexing\\test_indexing.py -> build\\lib.win-amd64-3.8\\pandas\\tests\\series\\indexing\n",
            "  copying pandas\\tests\\series\\indexing\\test_loc.py -> build\\lib.win-amd64-3.8\\pandas\\tests\\series\\indexing\n",
            "  copying pandas\\tests\\series\\indexing\\test_numeric.py -> build\\lib.win-amd64-3.8\\pandas\\tests\\series\\indexing\n",
            "  copying pandas\\tests\\series\\indexing\\__init__.py -> build\\lib.win-amd64-3.8\\pandas\\tests\\series\\indexing\n",
            "  creating build\\lib.win-amd64-3.8\\pandas\\tests\\sparse\\frame\n",
            "  copying pandas\\tests\\sparse\\frame\\conftest.py -> build\\lib.win-amd64-3.8\\pandas\\tests\\sparse\\frame\n",
            "  copying pandas\\tests\\sparse\\frame\\test_analytics.py -> build\\lib.win-amd64-3.8\\pandas\\tests\\sparse\\frame\n",
            "  copying pandas\\tests\\sparse\\frame\\test_apply.py -> build\\lib.win-amd64-3.8\\pandas\\tests\\sparse\\frame\n",
            "  copying pandas\\tests\\sparse\\frame\\test_frame.py -> build\\lib.win-amd64-3.8\\pandas\\tests\\sparse\\frame\n",
            "  copying pandas\\tests\\sparse\\frame\\test_indexing.py -> build\\lib.win-amd64-3.8\\pandas\\tests\\sparse\\frame\n",
            "  copying pandas\\tests\\sparse\\frame\\test_to_csv.py -> build\\lib.win-amd64-3.8\\pandas\\tests\\sparse\\frame\n",
            "  copying pandas\\tests\\sparse\\frame\\test_to_from_scipy.py -> build\\lib.win-amd64-3.8\\pandas\\tests\\sparse\\frame\n",
            "  copying pandas\\tests\\sparse\\frame\\__init__.py -> build\\lib.win-amd64-3.8\\pandas\\tests\\sparse\\frame\n",
            "  creating build\\lib.win-amd64-3.8\\pandas\\tests\\sparse\\series\n",
            "  copying pandas\\tests\\sparse\\series\\test_indexing.py -> build\\lib.win-amd64-3.8\\pandas\\tests\\sparse\\series\n",
            "  copying pandas\\tests\\sparse\\series\\test_series.py -> build\\lib.win-amd64-3.8\\pandas\\tests\\sparse\\series\n",
            "  copying pandas\\tests\\sparse\\series\\__init__.py -> build\\lib.win-amd64-3.8\\pandas\\tests\\sparse\\series\n",
            "  creating build\\lib.win-amd64-3.8\\pandas\\tests\\tseries\\frequencies\n",
            "  copying pandas\\tests\\tseries\\frequencies\\test_freq_code.py -> build\\lib.win-amd64-3.8\\pandas\\tests\\tseries\\frequencies\n",
            "  copying pandas\\tests\\tseries\\frequencies\\test_inference.py -> build\\lib.win-amd64-3.8\\pandas\\tests\\tseries\\frequencies\n",
            "  copying pandas\\tests\\tseries\\frequencies\\test_to_offset.py -> build\\lib.win-amd64-3.8\\pandas\\tests\\tseries\\frequencies\n",
            "  copying pandas\\tests\\tseries\\frequencies\\__init__.py -> build\\lib.win-amd64-3.8\\pandas\\tests\\tseries\\frequencies\n",
            "  creating build\\lib.win-amd64-3.8\\pandas\\tests\\tseries\\holiday\n",
            "  copying pandas\\tests\\tseries\\holiday\\test_calendar.py -> build\\lib.win-amd64-3.8\\pandas\\tests\\tseries\\holiday\n",
            "  copying pandas\\tests\\tseries\\holiday\\test_federal.py -> build\\lib.win-amd64-3.8\\pandas\\tests\\tseries\\holiday\n",
            "  copying pandas\\tests\\tseries\\holiday\\test_holiday.py -> build\\lib.win-amd64-3.8\\pandas\\tests\\tseries\\holiday\n",
            "  copying pandas\\tests\\tseries\\holiday\\test_observance.py -> build\\lib.win-amd64-3.8\\pandas\\tests\\tseries\\holiday\n",
            "  copying pandas\\tests\\tseries\\holiday\\__init__.py -> build\\lib.win-amd64-3.8\\pandas\\tests\\tseries\\holiday\n",
            "  creating build\\lib.win-amd64-3.8\\pandas\\tests\\tseries\\offsets\n",
            "  copying pandas\\tests\\tseries\\offsets\\common.py -> build\\lib.win-amd64-3.8\\pandas\\tests\\tseries\\offsets\n",
            "  copying pandas\\tests\\tseries\\offsets\\conftest.py -> build\\lib.win-amd64-3.8\\pandas\\tests\\tseries\\offsets\n",
            "  copying pandas\\tests\\tseries\\offsets\\test_fiscal.py -> build\\lib.win-amd64-3.8\\pandas\\tests\\tseries\\offsets\n",
            "  copying pandas\\tests\\tseries\\offsets\\test_offsets.py -> build\\lib.win-amd64-3.8\\pandas\\tests\\tseries\\offsets\n",
            "  copying pandas\\tests\\tseries\\offsets\\test_offsets_properties.py -> build\\lib.win-amd64-3.8\\pandas\\tests\\tseries\\offsets\n",
            "  copying pandas\\tests\\tseries\\offsets\\test_ticks.py -> build\\lib.win-amd64-3.8\\pandas\\tests\\tseries\\offsets\n",
            "  copying pandas\\tests\\tseries\\offsets\\test_yqm_offsets.py -> build\\lib.win-amd64-3.8\\pandas\\tests\\tseries\\offsets\n",
            "  copying pandas\\tests\\tseries\\offsets\\__init__.py -> build\\lib.win-amd64-3.8\\pandas\\tests\\tseries\\offsets\n",
            "  creating build\\lib.win-amd64-3.8\\pandas\\_libs\\tslibs\n",
            "  copying pandas\\_libs\\tslibs\\__init__.py -> build\\lib.win-amd64-3.8\\pandas\\_libs\\tslibs\n",
            "  creating build\\lib.win-amd64-3.8\\pandas\\io\\formats\\templates\n",
            "  copying pandas\\io\\formats\\templates\\html.tpl -> build\\lib.win-amd64-3.8\\pandas\\io\\formats\\templates\n",
            "  UPDATING build\\lib.win-amd64-3.8\\pandas/_version.py\n",
            "  set build\\lib.win-amd64-3.8\\pandas/_version.py to '0.25.0'\n",
            "  running build_ext\n",
            "  building 'pandas._libs.algos' extension\n",
            "  error: Microsoft Visual C++ 14.0 or greater is required. Get it with \"Microsoft C++ Build Tools\": https://visualstudio.microsoft.com/visual-cpp-build-tools/\n",
            "  ----------------------------------------\n",
            "  ERROR: Failed building wheel for pandas\n",
            "    ERROR: Command errored out with exit status 1:\n",
            "     command: 'C:\\Users\\ITQLAP\\anaconda3\\python.exe' -u -c 'import sys, setuptools, tokenize; sys.argv[0] = '\"'\"'C:\\\\Users\\\\ITQLAP\\\\AppData\\\\Local\\\\Temp\\\\pip-install-s8vznsxb\\\\pandas\\\\setup.py'\"'\"'; __file__='\"'\"'C:\\\\Users\\\\ITQLAP\\\\AppData\\\\Local\\\\Temp\\\\pip-install-s8vznsxb\\\\pandas\\\\setup.py'\"'\"';f=getattr(tokenize, '\"'\"'open'\"'\"', open)(__file__);code=f.read().replace('\"'\"'\\r\\n'\"'\"', '\"'\"'\\n'\"'\"');f.close();exec(compile(code, __file__, '\"'\"'exec'\"'\"'))' install --record 'C:\\Users\\ITQLAP\\AppData\\Local\\Temp\\pip-record-4tp11ac7\\install-record.txt' --single-version-externally-managed --compile --install-headers 'C:\\Users\\ITQLAP\\anaconda3\\Include\\pandas'\n",
            "         cwd: C:\\Users\\ITQLAP\\AppData\\Local\\Temp\\pip-install-s8vznsxb\\pandas\\\n",
            "    Complete output (984 lines):\n",
            "    Compiling pandas\\_libs/algos.pyx because it changed.\n",
            "    Compiling pandas\\_libs/groupby.pyx because it changed.\n",
            "    Compiling pandas\\_libs/hashing.pyx because it changed.\n",
            "    Compiling pandas\\_libs/hashtable.pyx because it changed.\n",
            "    Compiling pandas\\_libs/index.pyx because it changed.\n",
            "    Compiling pandas\\_libs/indexing.pyx because it changed.\n",
            "    Compiling pandas\\_libs/internals.pyx because it changed.\n",
            "    Compiling pandas\\_libs/interval.pyx because it changed.\n",
            "    Compiling pandas\\_libs/join.pyx because it changed.\n",
            "    Compiling pandas\\_libs/lib.pyx because it changed.\n",
            "    Compiling pandas\\_libs/missing.pyx because it changed.\n",
            "    Compiling pandas\\_libs/parsers.pyx because it changed.\n",
            "    Compiling pandas\\_libs/reduction.pyx because it changed.\n",
            "    Compiling pandas\\_libs/ops.pyx because it changed.\n",
            "    Compiling pandas\\_libs/properties.pyx because it changed.\n",
            "    Compiling pandas\\_libs/reshape.pyx because it changed.\n",
            "    Compiling pandas\\_libs/skiplist.pyx because it changed.\n",
            "    Compiling pandas\\_libs/sparse.pyx because it changed.\n",
            "    Compiling pandas\\_libs/tslib.pyx because it changed.\n",
            "    Compiling pandas\\_libs/tslibs/c_timestamp.pyx because it changed.\n",
            "    Compiling pandas\\_libs/tslibs/ccalendar.pyx because it changed.\n",
            "    Compiling pandas\\_libs/tslibs/conversion.pyx because it changed.\n",
            "    Compiling pandas\\_libs/tslibs/fields.pyx because it changed.\n",
            "    Compiling pandas\\_libs/tslibs/frequencies.pyx because it changed.\n",
            "    Compiling pandas\\_libs/tslibs/nattype.pyx because it changed.\n",
            "    Compiling pandas\\_libs/tslibs/np_datetime.pyx because it changed.\n",
            "    Compiling pandas\\_libs/tslibs/offsets.pyx because it changed.\n",
            "    Compiling pandas\\_libs/tslibs/parsing.pyx because it changed.\n",
            "    Compiling pandas\\_libs/tslibs/period.pyx because it changed.\n",
            "    Compiling pandas\\_libs/tslibs/resolution.pyx because it changed.\n",
            "    Compiling pandas\\_libs/tslibs/strptime.pyx because it changed.\n",
            "    Compiling pandas\\_libs/tslibs/timedeltas.pyx because it changed.\n",
            "    Compiling pandas\\_libs/tslibs/timestamps.pyx because it changed.\n",
            "    Compiling pandas\\_libs/tslibs/timezones.pyx because it changed.\n",
            "    Compiling pandas\\_libs/tslibs/tzconversion.pyx because it changed.\n",
            "    Compiling pandas\\_libs/testing.pyx because it changed.\n",
            "    Compiling pandas\\_libs/writers.pyx because it changed.\n",
            "    Compiling pandas\\io/sas/sas.pyx because it changed.\n",
            "    [ 1/38] Cythonizing pandas\\_libs/algos.pyx\n",
            "    [ 2/38] Cythonizing pandas\\_libs/groupby.pyx\n",
            "    [ 3/38] Cythonizing pandas\\_libs/hashing.pyx\n",
            "    [ 4/38] Cythonizing pandas\\_libs/hashtable.pyx\n",
            "    [ 5/38] Cythonizing pandas\\_libs/index.pyx\n",
            "    [ 6/38] Cythonizing pandas\\_libs/indexing.pyx\n",
            "    [ 7/38] Cythonizing pandas\\_libs/internals.pyx\n",
            "    [ 8/38] Cythonizing pandas\\_libs/interval.pyx\n",
            "    [ 9/38] Cythonizing pandas\\_libs/join.pyx\n",
            "    [10/38] Cythonizing pandas\\_libs/lib.pyx\n",
            "    [11/38] Cythonizing pandas\\_libs/missing.pyx\n",
            "    [12/38] Cythonizing pandas\\_libs/ops.pyx\n",
            "    [13/38] Cythonizing pandas\\_libs/parsers.pyx\n",
            "    warning: pandas\\_libs\\parsers.pyx:1724:34: Casting a GIL-requiring function into a nogil function circumvents GIL validation\n",
            "    [14/38] Cythonizing pandas\\_libs/properties.pyx\n",
            "    [15/38] Cythonizing pandas\\_libs/reduction.pyx\n",
            "    [16/38] Cythonizing pandas\\_libs/reshape.pyx\n",
            "    [17/38] Cythonizing pandas\\_libs/skiplist.pyx\n",
            "    [18/38] Cythonizing pandas\\_libs/sparse.pyx\n",
            "    [19/38] Cythonizing pandas\\_libs/testing.pyx\n",
            "    [20/38] Cythonizing pandas\\_libs/tslib.pyx\n",
            "    [21/38] Cythonizing pandas\\_libs/tslibs/c_timestamp.pyx\n",
            "    [22/38] Cythonizing pandas\\_libs/tslibs/ccalendar.pyx\n",
            "    [23/38] Cythonizing pandas\\_libs/tslibs/conversion.pyx\n",
            "    [24/38] Cythonizing pandas\\_libs/tslibs/fields.pyx\n",
            "    [25/38] Cythonizing pandas\\_libs/tslibs/frequencies.pyx\n",
            "    [26/38] Cythonizing pandas\\_libs/tslibs/nattype.pyx\n",
            "    [27/38] Cythonizing pandas\\_libs/tslibs/np_datetime.pyx\n",
            "    [28/38] Cythonizing pandas\\_libs/tslibs/offsets.pyx\n",
            "    [29/38] Cythonizing pandas\\_libs/tslibs/parsing.pyx\n",
            "    [30/38] Cythonizing pandas\\_libs/tslibs/period.pyx\n",
            "    [31/38] Cythonizing pandas\\_libs/tslibs/resolution.pyx\n",
            "    [32/38] Cythonizing pandas\\_libs/tslibs/strptime.pyx\n",
            "    [33/38] Cythonizing pandas\\_libs/tslibs/timedeltas.pyx\n",
            "    [34/38] Cythonizing pandas\\_libs/tslibs/timestamps.pyx\n",
            "    [35/38] Cythonizing pandas\\_libs/tslibs/timezones.pyx\n",
            "    [36/38] Cythonizing pandas\\_libs/tslibs/tzconversion.pyx\n",
            "    [37/38] Cythonizing pandas\\_libs/writers.pyx\n",
            "    [38/38] Cythonizing pandas\\io/sas/sas.pyx\n",
            "    running install\n",
            "    running build\n"
          ]
        },
        {
          "name": "stderr",
          "output_type": "stream",
          "text": [
            "    running build_py\n",
            "    creating build\n",
            "    creating build\\lib.win-amd64-3.8\n",
            "    creating build\\lib.win-amd64-3.8\\pandas\n",
            "    copying pandas\\conftest.py -> build\\lib.win-amd64-3.8\\pandas\n",
            "    copying pandas\\testing.py -> build\\lib.win-amd64-3.8\\pandas\n",
            "    copying pandas\\_typing.py -> build\\lib.win-amd64-3.8\\pandas\n",
            "    copying pandas\\_version.py -> build\\lib.win-amd64-3.8\\pandas\n",
            "    copying pandas\\__init__.py -> build\\lib.win-amd64-3.8\\pandas\n",
            "    creating build\\lib.win-amd64-3.8\\pandas\\api\n",
            "    copying pandas\\api\\__init__.py -> build\\lib.win-amd64-3.8\\pandas\\api\n",
            "    creating build\\lib.win-amd64-3.8\\pandas\\arrays\n",
            "    copying pandas\\arrays\\__init__.py -> build\\lib.win-amd64-3.8\\pandas\\arrays\n",
            "    creating build\\lib.win-amd64-3.8\\pandas\\compat\n",
            "    copying pandas\\compat\\chainmap.py -> build\\lib.win-amd64-3.8\\pandas\\compat\n",
            "    copying pandas\\compat\\pickle_compat.py -> build\\lib.win-amd64-3.8\\pandas\\compat\n",
            "    copying pandas\\compat\\_optional.py -> build\\lib.win-amd64-3.8\\pandas\\compat\n",
            "    copying pandas\\compat\\__init__.py -> build\\lib.win-amd64-3.8\\pandas\\compat\n",
            "    creating build\\lib.win-amd64-3.8\\pandas\\core\n",
            "    copying pandas\\core\\accessor.py -> build\\lib.win-amd64-3.8\\pandas\\core\n",
            "    copying pandas\\core\\algorithms.py -> build\\lib.win-amd64-3.8\\pandas\\core\n",
            "    copying pandas\\core\\api.py -> build\\lib.win-amd64-3.8\\pandas\\core\n",
            "    copying pandas\\core\\apply.py -> build\\lib.win-amd64-3.8\\pandas\\core\n",
            "    copying pandas\\core\\base.py -> build\\lib.win-amd64-3.8\\pandas\\core\n",
            "    copying pandas\\core\\common.py -> build\\lib.win-amd64-3.8\\pandas\\core\n",
            "    copying pandas\\core\\config_init.py -> build\\lib.win-amd64-3.8\\pandas\\core\n",
            "    copying pandas\\core\\frame.py -> build\\lib.win-amd64-3.8\\pandas\\core\n",
            "    copying pandas\\core\\generic.py -> build\\lib.win-amd64-3.8\\pandas\\core\n",
            "    copying pandas\\core\\index.py -> build\\lib.win-amd64-3.8\\pandas\\core\n",
            "    copying pandas\\core\\indexers.py -> build\\lib.win-amd64-3.8\\pandas\\core\n",
            "    copying pandas\\core\\indexing.py -> build\\lib.win-amd64-3.8\\pandas\\core\n",
            "    copying pandas\\core\\missing.py -> build\\lib.win-amd64-3.8\\pandas\\core\n",
            "    copying pandas\\core\\nanops.py -> build\\lib.win-amd64-3.8\\pandas\\core\n",
            "    copying pandas\\core\\resample.py -> build\\lib.win-amd64-3.8\\pandas\\core\n",
            "    copying pandas\\core\\series.py -> build\\lib.win-amd64-3.8\\pandas\\core\n",
            "    copying pandas\\core\\sorting.py -> build\\lib.win-amd64-3.8\\pandas\\core\n",
            "    copying pandas\\core\\strings.py -> build\\lib.win-amd64-3.8\\pandas\\core\n",
            "    copying pandas\\core\\window.py -> build\\lib.win-amd64-3.8\\pandas\\core\n",
            "    copying pandas\\core\\__init__.py -> build\\lib.win-amd64-3.8\\pandas\\core\n",
            "    creating build\\lib.win-amd64-3.8\\pandas\\errors\n",
            "    copying pandas\\errors\\__init__.py -> build\\lib.win-amd64-3.8\\pandas\\errors\n",
            "    creating build\\lib.win-amd64-3.8\\pandas\\io\n",
            "    copying pandas\\io\\api.py -> build\\lib.win-amd64-3.8\\pandas\\io\n",
            "    copying pandas\\io\\clipboards.py -> build\\lib.win-amd64-3.8\\pandas\\io\n",
            "    copying pandas\\io\\common.py -> build\\lib.win-amd64-3.8\\pandas\\io\n",
            "    copying pandas\\io\\date_converters.py -> build\\lib.win-amd64-3.8\\pandas\\io\n",
            "    copying pandas\\io\\feather_format.py -> build\\lib.win-amd64-3.8\\pandas\\io\n",
            "    copying pandas\\io\\gbq.py -> build\\lib.win-amd64-3.8\\pandas\\io\n",
            "    copying pandas\\io\\gcs.py -> build\\lib.win-amd64-3.8\\pandas\\io\n",
            "    copying pandas\\io\\html.py -> build\\lib.win-amd64-3.8\\pandas\\io\n",
            "    copying pandas\\io\\packers.py -> build\\lib.win-amd64-3.8\\pandas\\io\n",
            "    copying pandas\\io\\parquet.py -> build\\lib.win-amd64-3.8\\pandas\\io\n",
            "    copying pandas\\io\\parsers.py -> build\\lib.win-amd64-3.8\\pandas\\io\n",
            "    copying pandas\\io\\pickle.py -> build\\lib.win-amd64-3.8\\pandas\\io\n",
            "    copying pandas\\io\\pytables.py -> build\\lib.win-amd64-3.8\\pandas\\io\n",
            "    copying pandas\\io\\s3.py -> build\\lib.win-amd64-3.8\\pandas\\io\n",
            "    copying pandas\\io\\spss.py -> build\\lib.win-amd64-3.8\\pandas\\io\n",
            "    copying pandas\\io\\sql.py -> build\\lib.win-amd64-3.8\\pandas\\io\n",
            "    copying pandas\\io\\stata.py -> build\\lib.win-amd64-3.8\\pandas\\io\n",
            "    copying pandas\\io\\__init__.py -> build\\lib.win-amd64-3.8\\pandas\\io\n",
            "    creating build\\lib.win-amd64-3.8\\pandas\\plotting\n",
            "    copying pandas\\plotting\\_core.py -> build\\lib.win-amd64-3.8\\pandas\\plotting\n",
            "    copying pandas\\plotting\\_misc.py -> build\\lib.win-amd64-3.8\\pandas\\plotting\n",
            "    copying pandas\\plotting\\__init__.py -> build\\lib.win-amd64-3.8\\pandas\\plotting\n",
            "    creating build\\lib.win-amd64-3.8\\pandas\\tests\n",
            "    copying pandas\\tests\\test_algos.py -> build\\lib.win-amd64-3.8\\pandas\\tests\n",
            "    copying pandas\\tests\\test_base.py -> build\\lib.win-amd64-3.8\\pandas\\tests\n",
            "    copying pandas\\tests\\test_common.py -> build\\lib.win-amd64-3.8\\pandas\\tests\n",
            "    copying pandas\\tests\\test_compat.py -> build\\lib.win-amd64-3.8\\pandas\\tests\n",
            "    copying pandas\\tests\\test_downstream.py -> build\\lib.win-amd64-3.8\\pandas\\tests\n",
            "    copying pandas\\tests\\test_errors.py -> build\\lib.win-amd64-3.8\\pandas\\tests\n",
            "    copying pandas\\tests\\test_expressions.py -> build\\lib.win-amd64-3.8\\pandas\\tests\n",
            "    copying pandas\\tests\\test_join.py -> build\\lib.win-amd64-3.8\\pandas\\tests\n",
            "    copying pandas\\tests\\test_lib.py -> build\\lib.win-amd64-3.8\\pandas\\tests\n",
            "    copying pandas\\tests\\test_multilevel.py -> build\\lib.win-amd64-3.8\\pandas\\tests\n",
            "    copying pandas\\tests\\test_nanops.py -> build\\lib.win-amd64-3.8\\pandas\\tests\n",
            "    copying pandas\\tests\\test_optional_dependency.py -> build\\lib.win-amd64-3.8\\pandas\\tests\n",
            "    copying pandas\\tests\\test_register_accessor.py -> build\\lib.win-amd64-3.8\\pandas\\tests\n",
            "    copying pandas\\tests\\test_sorting.py -> build\\lib.win-amd64-3.8\\pandas\\tests\n",
            "    copying pandas\\tests\\test_strings.py -> build\\lib.win-amd64-3.8\\pandas\\tests\n",
            "    copying pandas\\tests\\test_take.py -> build\\lib.win-amd64-3.8\\pandas\\tests\n",
            "    copying pandas\\tests\\__init__.py -> build\\lib.win-amd64-3.8\\pandas\\tests\n",
            "    creating build\\lib.win-amd64-3.8\\pandas\\tseries\n",
            "    copying pandas\\tseries\\api.py -> build\\lib.win-amd64-3.8\\pandas\\tseries\n",
            "    copying pandas\\tseries\\converter.py -> build\\lib.win-amd64-3.8\\pandas\\tseries\n",
            "    copying pandas\\tseries\\frequencies.py -> build\\lib.win-amd64-3.8\\pandas\\tseries\n",
            "    copying pandas\\tseries\\holiday.py -> build\\lib.win-amd64-3.8\\pandas\\tseries\n",
            "    copying pandas\\tseries\\offsets.py -> build\\lib.win-amd64-3.8\\pandas\\tseries\n",
            "    copying pandas\\tseries\\plotting.py -> build\\lib.win-amd64-3.8\\pandas\\tseries\n",
            "    copying pandas\\tseries\\__init__.py -> build\\lib.win-amd64-3.8\\pandas\\tseries\n",
            "    creating build\\lib.win-amd64-3.8\\pandas\\util\n",
            "    copying pandas\\util\\testing.py -> build\\lib.win-amd64-3.8\\pandas\\util\n",
            "    copying pandas\\util\\_decorators.py -> build\\lib.win-amd64-3.8\\pandas\\util\n",
            "    copying pandas\\util\\_depr_module.py -> build\\lib.win-amd64-3.8\\pandas\\util\n",
            "    copying pandas\\util\\_doctools.py -> build\\lib.win-amd64-3.8\\pandas\\util\n",
            "    copying pandas\\util\\_exceptions.py -> build\\lib.win-amd64-3.8\\pandas\\util\n",
            "    copying pandas\\util\\_print_versions.py -> build\\lib.win-amd64-3.8\\pandas\\util\n",
            "    copying pandas\\util\\_tester.py -> build\\lib.win-amd64-3.8\\pandas\\util\n",
            "    copying pandas\\util\\_test_decorators.py -> build\\lib.win-amd64-3.8\\pandas\\util\n",
            "    copying pandas\\util\\_validators.py -> build\\lib.win-amd64-3.8\\pandas\\util\n",
            "    copying pandas\\util\\__init__.py -> build\\lib.win-amd64-3.8\\pandas\\util\n",
            "    creating build\\lib.win-amd64-3.8\\pandas\\_config\n",
            "    copying pandas\\_config\\config.py -> build\\lib.win-amd64-3.8\\pandas\\_config\n",
            "    copying pandas\\_config\\dates.py -> build\\lib.win-amd64-3.8\\pandas\\_config\n",
            "    copying pandas\\_config\\display.py -> build\\lib.win-amd64-3.8\\pandas\\_config\n",
            "    copying pandas\\_config\\localization.py -> build\\lib.win-amd64-3.8\\pandas\\_config\n",
            "    copying pandas\\_config\\__init__.py -> build\\lib.win-amd64-3.8\\pandas\\_config\n",
            "    creating build\\lib.win-amd64-3.8\\pandas\\_libs\n",
            "    copying pandas\\_libs\\__init__.py -> build\\lib.win-amd64-3.8\\pandas\\_libs\n",
            "    creating build\\lib.win-amd64-3.8\\pandas\\api\\extensions\n",
            "    copying pandas\\api\\extensions\\__init__.py -> build\\lib.win-amd64-3.8\\pandas\\api\\extensions\n",
            "    creating build\\lib.win-amd64-3.8\\pandas\\api\\types\n",
            "    copying pandas\\api\\types\\__init__.py -> build\\lib.win-amd64-3.8\\pandas\\api\\types\n",
            "    creating build\\lib.win-amd64-3.8\\pandas\\compat\\numpy\n",
            "    copying pandas\\compat\\numpy\\function.py -> build\\lib.win-amd64-3.8\\pandas\\compat\\numpy\n",
            "    copying pandas\\compat\\numpy\\__init__.py -> build\\lib.win-amd64-3.8\\pandas\\compat\\numpy\n",
            "    creating build\\lib.win-amd64-3.8\\pandas\\core\\arrays\n",
            "    copying pandas\\core\\arrays\\array_.py -> build\\lib.win-amd64-3.8\\pandas\\core\\arrays\n",
            "    copying pandas\\core\\arrays\\base.py -> build\\lib.win-amd64-3.8\\pandas\\core\\arrays\n",
            "    copying pandas\\core\\arrays\\categorical.py -> build\\lib.win-amd64-3.8\\pandas\\core\\arrays\n",
            "    copying pandas\\core\\arrays\\datetimelike.py -> build\\lib.win-amd64-3.8\\pandas\\core\\arrays\n",
            "    copying pandas\\core\\arrays\\datetimes.py -> build\\lib.win-amd64-3.8\\pandas\\core\\arrays\n",
            "    copying pandas\\core\\arrays\\integer.py -> build\\lib.win-amd64-3.8\\pandas\\core\\arrays\n",
            "    copying pandas\\core\\arrays\\interval.py -> build\\lib.win-amd64-3.8\\pandas\\core\\arrays\n",
            "    copying pandas\\core\\arrays\\numpy_.py -> build\\lib.win-amd64-3.8\\pandas\\core\\arrays\n",
            "    copying pandas\\core\\arrays\\period.py -> build\\lib.win-amd64-3.8\\pandas\\core\\arrays\n",
            "    copying pandas\\core\\arrays\\sparse.py -> build\\lib.win-amd64-3.8\\pandas\\core\\arrays\n",
            "    copying pandas\\core\\arrays\\timedeltas.py -> build\\lib.win-amd64-3.8\\pandas\\core\\arrays\n",
            "    copying pandas\\core\\arrays\\_ranges.py -> build\\lib.win-amd64-3.8\\pandas\\core\\arrays\n",
            "    copying pandas\\core\\arrays\\__init__.py -> build\\lib.win-amd64-3.8\\pandas\\core\\arrays\n",
            "    creating build\\lib.win-amd64-3.8\\pandas\\core\\computation\n",
            "    copying pandas\\core\\computation\\align.py -> build\\lib.win-amd64-3.8\\pandas\\core\\computation\n",
            "    copying pandas\\core\\computation\\api.py -> build\\lib.win-amd64-3.8\\pandas\\core\\computation\n",
            "    copying pandas\\core\\computation\\check.py -> build\\lib.win-amd64-3.8\\pandas\\core\\computation\n",
            "    copying pandas\\core\\computation\\common.py -> build\\lib.win-amd64-3.8\\pandas\\core\\computation\n",
            "    copying pandas\\core\\computation\\engines.py -> build\\lib.win-amd64-3.8\\pandas\\core\\computation\n",
            "    copying pandas\\core\\computation\\eval.py -> build\\lib.win-amd64-3.8\\pandas\\core\\computation\n",
            "    copying pandas\\core\\computation\\expr.py -> build\\lib.win-amd64-3.8\\pandas\\core\\computation\n",
            "    copying pandas\\core\\computation\\expressions.py -> build\\lib.win-amd64-3.8\\pandas\\core\\computation\n",
            "    copying pandas\\core\\computation\\ops.py -> build\\lib.win-amd64-3.8\\pandas\\core\\computation\n",
            "    copying pandas\\core\\computation\\pytables.py -> build\\lib.win-amd64-3.8\\pandas\\core\\computation\n",
            "    copying pandas\\core\\computation\\scope.py -> build\\lib.win-amd64-3.8\\pandas\\core\\computation\n",
            "    copying pandas\\core\\computation\\__init__.py -> build\\lib.win-amd64-3.8\\pandas\\core\\computation\n",
            "    creating build\\lib.win-amd64-3.8\\pandas\\core\\dtypes\n",
            "    copying pandas\\core\\dtypes\\api.py -> build\\lib.win-amd64-3.8\\pandas\\core\\dtypes\n",
            "    copying pandas\\core\\dtypes\\base.py -> build\\lib.win-amd64-3.8\\pandas\\core\\dtypes\n",
            "    copying pandas\\core\\dtypes\\cast.py -> build\\lib.win-amd64-3.8\\pandas\\core\\dtypes\n",
            "    copying pandas\\core\\dtypes\\common.py -> build\\lib.win-amd64-3.8\\pandas\\core\\dtypes\n",
            "    copying pandas\\core\\dtypes\\concat.py -> build\\lib.win-amd64-3.8\\pandas\\core\\dtypes\n",
            "    copying pandas\\core\\dtypes\\dtypes.py -> build\\lib.win-amd64-3.8\\pandas\\core\\dtypes\n",
            "    copying pandas\\core\\dtypes\\generic.py -> build\\lib.win-amd64-3.8\\pandas\\core\\dtypes\n",
            "    copying pandas\\core\\dtypes\\inference.py -> build\\lib.win-amd64-3.8\\pandas\\core\\dtypes\n",
            "    copying pandas\\core\\dtypes\\missing.py -> build\\lib.win-amd64-3.8\\pandas\\core\\dtypes\n",
            "    copying pandas\\core\\dtypes\\__init__.py -> build\\lib.win-amd64-3.8\\pandas\\core\\dtypes\n",
            "    creating build\\lib.win-amd64-3.8\\pandas\\core\\groupby\n",
            "    copying pandas\\core\\groupby\\base.py -> build\\lib.win-amd64-3.8\\pandas\\core\\groupby\n",
            "    copying pandas\\core\\groupby\\categorical.py -> build\\lib.win-amd64-3.8\\pandas\\core\\groupby\n",
            "    copying pandas\\core\\groupby\\generic.py -> build\\lib.win-amd64-3.8\\pandas\\core\\groupby\n",
            "    copying pandas\\core\\groupby\\groupby.py -> build\\lib.win-amd64-3.8\\pandas\\core\\groupby\n",
            "    copying pandas\\core\\groupby\\grouper.py -> build\\lib.win-amd64-3.8\\pandas\\core\\groupby\n",
            "    copying pandas\\core\\groupby\\ops.py -> build\\lib.win-amd64-3.8\\pandas\\core\\groupby\n",
            "    copying pandas\\core\\groupby\\__init__.py -> build\\lib.win-amd64-3.8\\pandas\\core\\groupby\n",
            "    creating build\\lib.win-amd64-3.8\\pandas\\core\\indexes\n",
            "    copying pandas\\core\\indexes\\accessors.py -> build\\lib.win-amd64-3.8\\pandas\\core\\indexes\n",
            "    copying pandas\\core\\indexes\\api.py -> build\\lib.win-amd64-3.8\\pandas\\core\\indexes\n",
            "    copying pandas\\core\\indexes\\base.py -> build\\lib.win-amd64-3.8\\pandas\\core\\indexes\n",
            "    copying pandas\\core\\indexes\\category.py -> build\\lib.win-amd64-3.8\\pandas\\core\\indexes\n",
            "    copying pandas\\core\\indexes\\datetimelike.py -> build\\lib.win-amd64-3.8\\pandas\\core\\indexes\n",
            "    copying pandas\\core\\indexes\\datetimes.py -> build\\lib.win-amd64-3.8\\pandas\\core\\indexes\n",
            "    copying pandas\\core\\indexes\\frozen.py -> build\\lib.win-amd64-3.8\\pandas\\core\\indexes\n",
            "    copying pandas\\core\\indexes\\interval.py -> build\\lib.win-amd64-3.8\\pandas\\core\\indexes\n",
            "    copying pandas\\core\\indexes\\multi.py -> build\\lib.win-amd64-3.8\\pandas\\core\\indexes\n",
            "    copying pandas\\core\\indexes\\numeric.py -> build\\lib.win-amd64-3.8\\pandas\\core\\indexes\n",
            "    copying pandas\\core\\indexes\\period.py -> build\\lib.win-amd64-3.8\\pandas\\core\\indexes\n",
            "    copying pandas\\core\\indexes\\range.py -> build\\lib.win-amd64-3.8\\pandas\\core\\indexes\n",
            "    copying pandas\\core\\indexes\\timedeltas.py -> build\\lib.win-amd64-3.8\\pandas\\core\\indexes\n",
            "    copying pandas\\core\\indexes\\__init__.py -> build\\lib.win-amd64-3.8\\pandas\\core\\indexes\n",
            "    creating build\\lib.win-amd64-3.8\\pandas\\core\\internals\n",
            "    copying pandas\\core\\internals\\arrays.py -> build\\lib.win-amd64-3.8\\pandas\\core\\internals\n",
            "    copying pandas\\core\\internals\\blocks.py -> build\\lib.win-amd64-3.8\\pandas\\core\\internals\n",
            "    copying pandas\\core\\internals\\concat.py -> build\\lib.win-amd64-3.8\\pandas\\core\\internals\n",
            "    copying pandas\\core\\internals\\construction.py -> build\\lib.win-amd64-3.8\\pandas\\core\\internals\n",
            "    copying pandas\\core\\internals\\managers.py -> build\\lib.win-amd64-3.8\\pandas\\core\\internals\n",
            "    copying pandas\\core\\internals\\__init__.py -> build\\lib.win-amd64-3.8\\pandas\\core\\internals\n",
            "    creating build\\lib.win-amd64-3.8\\pandas\\core\\ops\n",
            "    copying pandas\\core\\ops\\docstrings.py -> build\\lib.win-amd64-3.8\\pandas\\core\\ops\n",
            "    copying pandas\\core\\ops\\missing.py -> build\\lib.win-amd64-3.8\\pandas\\core\\ops\n",
            "    copying pandas\\core\\ops\\roperator.py -> build\\lib.win-amd64-3.8\\pandas\\core\\ops\n",
            "    copying pandas\\core\\ops\\__init__.py -> build\\lib.win-amd64-3.8\\pandas\\core\\ops\n",
            "    creating build\\lib.win-amd64-3.8\\pandas\\core\\reshape\n",
            "    copying pandas\\core\\reshape\\api.py -> build\\lib.win-amd64-3.8\\pandas\\core\\reshape\n",
            "    copying pandas\\core\\reshape\\concat.py -> build\\lib.win-amd64-3.8\\pandas\\core\\reshape\n",
            "    copying pandas\\core\\reshape\\melt.py -> build\\lib.win-amd64-3.8\\pandas\\core\\reshape\n",
            "    copying pandas\\core\\reshape\\merge.py -> build\\lib.win-amd64-3.8\\pandas\\core\\reshape\n",
            "    copying pandas\\core\\reshape\\pivot.py -> build\\lib.win-amd64-3.8\\pandas\\core\\reshape\n",
            "    copying pandas\\core\\reshape\\reshape.py -> build\\lib.win-amd64-3.8\\pandas\\core\\reshape\n",
            "    copying pandas\\core\\reshape\\tile.py -> build\\lib.win-amd64-3.8\\pandas\\core\\reshape\n",
            "    copying pandas\\core\\reshape\\util.py -> build\\lib.win-amd64-3.8\\pandas\\core\\reshape\n",
            "    copying pandas\\core\\reshape\\__init__.py -> build\\lib.win-amd64-3.8\\pandas\\core\\reshape\n",
            "    creating build\\lib.win-amd64-3.8\\pandas\\core\\sparse\n",
            "    copying pandas\\core\\sparse\\api.py -> build\\lib.win-amd64-3.8\\pandas\\core\\sparse\n",
            "    copying pandas\\core\\sparse\\frame.py -> build\\lib.win-amd64-3.8\\pandas\\core\\sparse\n",
            "    copying pandas\\core\\sparse\\scipy_sparse.py -> build\\lib.win-amd64-3.8\\pandas\\core\\sparse\n",
            "    copying pandas\\core\\sparse\\series.py -> build\\lib.win-amd64-3.8\\pandas\\core\\sparse\n",
            "    copying pandas\\core\\sparse\\__init__.py -> build\\lib.win-amd64-3.8\\pandas\\core\\sparse\n",
            "    creating build\\lib.win-amd64-3.8\\pandas\\core\\tools\n",
            "    copying pandas\\core\\tools\\datetimes.py -> build\\lib.win-amd64-3.8\\pandas\\core\\tools\n",
            "    copying pandas\\core\\tools\\numeric.py -> build\\lib.win-amd64-3.8\\pandas\\core\\tools\n",
            "    copying pandas\\core\\tools\\timedeltas.py -> build\\lib.win-amd64-3.8\\pandas\\core\\tools\n",
            "    copying pandas\\core\\tools\\__init__.py -> build\\lib.win-amd64-3.8\\pandas\\core\\tools\n",
            "    creating build\\lib.win-amd64-3.8\\pandas\\core\\util\n",
            "    copying pandas\\core\\util\\hashing.py -> build\\lib.win-amd64-3.8\\pandas\\core\\util\n",
            "    copying pandas\\core\\util\\__init__.py -> build\\lib.win-amd64-3.8\\pandas\\core\\util\n",
            "    creating build\\lib.win-amd64-3.8\\pandas\\io\\clipboard\n",
            "    copying pandas\\io\\clipboard\\clipboards.py -> build\\lib.win-amd64-3.8\\pandas\\io\\clipboard\n",
            "    copying pandas\\io\\clipboard\\exceptions.py -> build\\lib.win-amd64-3.8\\pandas\\io\\clipboard\n",
            "    copying pandas\\io\\clipboard\\windows.py -> build\\lib.win-amd64-3.8\\pandas\\io\\clipboard\n",
            "    copying pandas\\io\\clipboard\\__init__.py -> build\\lib.win-amd64-3.8\\pandas\\io\\clipboard\n",
            "    creating build\\lib.win-amd64-3.8\\pandas\\io\\excel\n",
            "    copying pandas\\io\\excel\\_base.py -> build\\lib.win-amd64-3.8\\pandas\\io\\excel\n",
            "    copying pandas\\io\\excel\\_odfreader.py -> build\\lib.win-amd64-3.8\\pandas\\io\\excel\n",
            "    copying pandas\\io\\excel\\_openpyxl.py -> build\\lib.win-amd64-3.8\\pandas\\io\\excel\n",
            "    copying pandas\\io\\excel\\_util.py -> build\\lib.win-amd64-3.8\\pandas\\io\\excel\n",
            "    copying pandas\\io\\excel\\_xlrd.py -> build\\lib.win-amd64-3.8\\pandas\\io\\excel\n",
            "    copying pandas\\io\\excel\\_xlsxwriter.py -> build\\lib.win-amd64-3.8\\pandas\\io\\excel\n",
            "    copying pandas\\io\\excel\\_xlwt.py -> build\\lib.win-amd64-3.8\\pandas\\io\\excel\n",
            "    copying pandas\\io\\excel\\__init__.py -> build\\lib.win-amd64-3.8\\pandas\\io\\excel\n",
            "    creating build\\lib.win-amd64-3.8\\pandas\\io\\formats\n",
            "    copying pandas\\io\\formats\\console.py -> build\\lib.win-amd64-3.8\\pandas\\io\\formats\n",
            "    copying pandas\\io\\formats\\css.py -> build\\lib.win-amd64-3.8\\pandas\\io\\formats\n",
            "    copying pandas\\io\\formats\\csvs.py -> build\\lib.win-amd64-3.8\\pandas\\io\\formats\n",
            "    copying pandas\\io\\formats\\excel.py -> build\\lib.win-amd64-3.8\\pandas\\io\\formats\n",
            "    copying pandas\\io\\formats\\format.py -> build\\lib.win-amd64-3.8\\pandas\\io\\formats\n",
            "    copying pandas\\io\\formats\\html.py -> build\\lib.win-amd64-3.8\\pandas\\io\\formats\n",
            "    copying pandas\\io\\formats\\latex.py -> build\\lib.win-amd64-3.8\\pandas\\io\\formats\n",
            "    copying pandas\\io\\formats\\printing.py -> build\\lib.win-amd64-3.8\\pandas\\io\\formats\n",
            "    copying pandas\\io\\formats\\style.py -> build\\lib.win-amd64-3.8\\pandas\\io\\formats\n",
            "    copying pandas\\io\\formats\\__init__.py -> build\\lib.win-amd64-3.8\\pandas\\io\\formats\n",
            "    creating build\\lib.win-amd64-3.8\\pandas\\io\\json\n",
            "    copying pandas\\io\\json\\_json.py -> build\\lib.win-amd64-3.8\\pandas\\io\\json\n",
            "    copying pandas\\io\\json\\_normalize.py -> build\\lib.win-amd64-3.8\\pandas\\io\\json\n",
            "    copying pandas\\io\\json\\_table_schema.py -> build\\lib.win-amd64-3.8\\pandas\\io\\json\n",
            "    copying pandas\\io\\json\\__init__.py -> build\\lib.win-amd64-3.8\\pandas\\io\\json\n",
            "    creating build\\lib.win-amd64-3.8\\pandas\\io\\msgpack\n",
            "    copying pandas\\io\\msgpack\\exceptions.py -> build\\lib.win-amd64-3.8\\pandas\\io\\msgpack\n",
            "    copying pandas\\io\\msgpack\\_version.py -> build\\lib.win-amd64-3.8\\pandas\\io\\msgpack\n",
            "    copying pandas\\io\\msgpack\\__init__.py -> build\\lib.win-amd64-3.8\\pandas\\io\\msgpack\n",
            "    creating build\\lib.win-amd64-3.8\\pandas\\io\\sas\n",
            "    copying pandas\\io\\sas\\sas7bdat.py -> build\\lib.win-amd64-3.8\\pandas\\io\\sas\n",
            "    copying pandas\\io\\sas\\sasreader.py -> build\\lib.win-amd64-3.8\\pandas\\io\\sas\n",
            "    copying pandas\\io\\sas\\sas_constants.py -> build\\lib.win-amd64-3.8\\pandas\\io\\sas\n",
            "    copying pandas\\io\\sas\\sas_xport.py -> build\\lib.win-amd64-3.8\\pandas\\io\\sas\n",
            "    copying pandas\\io\\sas\\__init__.py -> build\\lib.win-amd64-3.8\\pandas\\io\\sas\n",
            "    creating build\\lib.win-amd64-3.8\\pandas\\plotting\\_matplotlib\n",
            "    copying pandas\\plotting\\_matplotlib\\boxplot.py -> build\\lib.win-amd64-3.8\\pandas\\plotting\\_matplotlib\n",
            "    copying pandas\\plotting\\_matplotlib\\compat.py -> build\\lib.win-amd64-3.8\\pandas\\plotting\\_matplotlib\n",
            "    copying pandas\\plotting\\_matplotlib\\converter.py -> build\\lib.win-amd64-3.8\\pandas\\plotting\\_matplotlib\n",
            "    copying pandas\\plotting\\_matplotlib\\core.py -> build\\lib.win-amd64-3.8\\pandas\\plotting\\_matplotlib\n",
            "    copying pandas\\plotting\\_matplotlib\\hist.py -> build\\lib.win-amd64-3.8\\pandas\\plotting\\_matplotlib\n",
            "    copying pandas\\plotting\\_matplotlib\\misc.py -> build\\lib.win-amd64-3.8\\pandas\\plotting\\_matplotlib\n",
            "    copying pandas\\plotting\\_matplotlib\\style.py -> build\\lib.win-amd64-3.8\\pandas\\plotting\\_matplotlib\n",
            "    copying pandas\\plotting\\_matplotlib\\timeseries.py -> build\\lib.win-amd64-3.8\\pandas\\plotting\\_matplotlib\n",
            "    copying pandas\\plotting\\_matplotlib\\tools.py -> build\\lib.win-amd64-3.8\\pandas\\plotting\\_matplotlib\n",
            "    copying pandas\\plotting\\_matplotlib\\__init__.py -> build\\lib.win-amd64-3.8\\pandas\\plotting\\_matplotlib\n",
            "    creating build\\lib.win-amd64-3.8\\pandas\\tests\\api\n",
            "    copying pandas\\tests\\api\\test_api.py -> build\\lib.win-amd64-3.8\\pandas\\tests\\api\n",
            "    copying pandas\\tests\\api\\test_types.py -> build\\lib.win-amd64-3.8\\pandas\\tests\\api\n",
            "    copying pandas\\tests\\api\\__init__.py -> build\\lib.win-amd64-3.8\\pandas\\tests\\api\n",
            "    creating build\\lib.win-amd64-3.8\\pandas\\tests\\arithmetic\n",
            "    copying pandas\\tests\\arithmetic\\conftest.py -> build\\lib.win-amd64-3.8\\pandas\\tests\\arithmetic\n",
            "    copying pandas\\tests\\arithmetic\\test_datetime64.py -> build\\lib.win-amd64-3.8\\pandas\\tests\\arithmetic\n",
            "    copying pandas\\tests\\arithmetic\\test_numeric.py -> build\\lib.win-amd64-3.8\\pandas\\tests\\arithmetic\n",
            "    copying pandas\\tests\\arithmetic\\test_object.py -> build\\lib.win-amd64-3.8\\pandas\\tests\\arithmetic\n",
            "    copying pandas\\tests\\arithmetic\\test_period.py -> build\\lib.win-amd64-3.8\\pandas\\tests\\arithmetic\n",
            "    copying pandas\\tests\\arithmetic\\test_timedelta64.py -> build\\lib.win-amd64-3.8\\pandas\\tests\\arithmetic\n",
            "    copying pandas\\tests\\arithmetic\\__init__.py -> build\\lib.win-amd64-3.8\\pandas\\tests\\arithmetic\n",
            "    creating build\\lib.win-amd64-3.8\\pandas\\tests\\arrays\n",
            "    copying pandas\\tests\\arrays\\test_array.py -> build\\lib.win-amd64-3.8\\pandas\\tests\\arrays\n",
            "    copying pandas\\tests\\arrays\\test_datetimelike.py -> build\\lib.win-amd64-3.8\\pandas\\tests\\arrays\n",
            "    copying pandas\\tests\\arrays\\test_datetimes.py -> build\\lib.win-amd64-3.8\\pandas\\tests\\arrays\n",
            "    copying pandas\\tests\\arrays\\test_integer.py -> build\\lib.win-amd64-3.8\\pandas\\tests\\arrays\n",
            "    copying pandas\\tests\\arrays\\test_numpy.py -> build\\lib.win-amd64-3.8\\pandas\\tests\\arrays\n",
            "    copying pandas\\tests\\arrays\\test_period.py -> build\\lib.win-amd64-3.8\\pandas\\tests\\arrays\n",
            "    copying pandas\\tests\\arrays\\test_timedeltas.py -> build\\lib.win-amd64-3.8\\pandas\\tests\\arrays\n",
            "    copying pandas\\tests\\arrays\\__init__.py -> build\\lib.win-amd64-3.8\\pandas\\tests\\arrays\n",
            "    creating build\\lib.win-amd64-3.8\\pandas\\tests\\computation\n",
            "    copying pandas\\tests\\computation\\test_compat.py -> build\\lib.win-amd64-3.8\\pandas\\tests\\computation\n",
            "    copying pandas\\tests\\computation\\test_eval.py -> build\\lib.win-amd64-3.8\\pandas\\tests\\computation\n",
            "    copying pandas\\tests\\computation\\__init__.py -> build\\lib.win-amd64-3.8\\pandas\\tests\\computation\n",
            "    creating build\\lib.win-amd64-3.8\\pandas\\tests\\config\n",
            "    copying pandas\\tests\\config\\test_config.py -> build\\lib.win-amd64-3.8\\pandas\\tests\\config\n",
            "    copying pandas\\tests\\config\\test_localization.py -> build\\lib.win-amd64-3.8\\pandas\\tests\\config\n",
            "    copying pandas\\tests\\config\\__init__.py -> build\\lib.win-amd64-3.8\\pandas\\tests\\config\n",
            "    creating build\\lib.win-amd64-3.8\\pandas\\tests\\dtypes\n",
            "    copying pandas\\tests\\dtypes\\test_common.py -> build\\lib.win-amd64-3.8\\pandas\\tests\\dtypes\n",
            "    copying pandas\\tests\\dtypes\\test_concat.py -> build\\lib.win-amd64-3.8\\pandas\\tests\\dtypes\n",
            "    copying pandas\\tests\\dtypes\\test_dtypes.py -> build\\lib.win-amd64-3.8\\pandas\\tests\\dtypes\n",
            "    copying pandas\\tests\\dtypes\\test_generic.py -> build\\lib.win-amd64-3.8\\pandas\\tests\\dtypes\n",
            "    copying pandas\\tests\\dtypes\\test_inference.py -> build\\lib.win-amd64-3.8\\pandas\\tests\\dtypes\n",
            "    copying pandas\\tests\\dtypes\\test_missing.py -> build\\lib.win-amd64-3.8\\pandas\\tests\\dtypes\n",
            "    copying pandas\\tests\\dtypes\\__init__.py -> build\\lib.win-amd64-3.8\\pandas\\tests\\dtypes\n",
            "    creating build\\lib.win-amd64-3.8\\pandas\\tests\\extension\n",
            "    copying pandas\\tests\\extension\\conftest.py -> build\\lib.win-amd64-3.8\\pandas\\tests\\extension\n",
            "    copying pandas\\tests\\extension\\test_categorical.py -> build\\lib.win-amd64-3.8\\pandas\\tests\\extension\n",
            "    copying pandas\\tests\\extension\\test_common.py -> build\\lib.win-amd64-3.8\\pandas\\tests\\extension\n",
            "    copying pandas\\tests\\extension\\test_datetime.py -> build\\lib.win-amd64-3.8\\pandas\\tests\\extension\n",
            "    copying pandas\\tests\\extension\\test_external_block.py -> build\\lib.win-amd64-3.8\\pandas\\tests\\extension\n",
            "    copying pandas\\tests\\extension\\test_integer.py -> build\\lib.win-amd64-3.8\\pandas\\tests\\extension\n",
            "    copying pandas\\tests\\extension\\test_interval.py -> build\\lib.win-amd64-3.8\\pandas\\tests\\extension\n",
            "    copying pandas\\tests\\extension\\test_numpy.py -> build\\lib.win-amd64-3.8\\pandas\\tests\\extension\n",
            "    copying pandas\\tests\\extension\\test_period.py -> build\\lib.win-amd64-3.8\\pandas\\tests\\extension\n",
            "    copying pandas\\tests\\extension\\test_sparse.py -> build\\lib.win-amd64-3.8\\pandas\\tests\\extension\n",
            "    copying pandas\\tests\\extension\\__init__.py -> build\\lib.win-amd64-3.8\\pandas\\tests\\extension\n",
            "    creating build\\lib.win-amd64-3.8\\pandas\\tests\\frame\n",
            "    copying pandas\\tests\\frame\\common.py -> build\\lib.win-amd64-3.8\\pandas\\tests\\frame\n",
            "    copying pandas\\tests\\frame\\conftest.py -> build\\lib.win-amd64-3.8\\pandas\\tests\\frame\n",
            "    copying pandas\\tests\\frame\\test_alter_axes.py -> build\\lib.win-amd64-3.8\\pandas\\tests\\frame\n",
            "    copying pandas\\tests\\frame\\test_analytics.py -> build\\lib.win-amd64-3.8\\pandas\\tests\\frame\n",
            "    copying pandas\\tests\\frame\\test_api.py -> build\\lib.win-amd64-3.8\\pandas\\tests\\frame\n",
            "    copying pandas\\tests\\frame\\test_apply.py -> build\\lib.win-amd64-3.8\\pandas\\tests\\frame\n",
            "    copying pandas\\tests\\frame\\test_arithmetic.py -> build\\lib.win-amd64-3.8\\pandas\\tests\\frame\n",
            "    copying pandas\\tests\\frame\\test_asof.py -> build\\lib.win-amd64-3.8\\pandas\\tests\\frame\n",
            "    copying pandas\\tests\\frame\\test_axis_select_reindex.py -> build\\lib.win-amd64-3.8\\pandas\\tests\\frame\n",
            "    copying pandas\\tests\\frame\\test_block_internals.py -> build\\lib.win-amd64-3.8\\pandas\\tests\\frame\n",
            "    copying pandas\\tests\\frame\\test_combine_concat.py -> build\\lib.win-amd64-3.8\\pandas\\tests\\frame\n",
            "    copying pandas\\tests\\frame\\test_constructors.py -> build\\lib.win-amd64-3.8\\pandas\\tests\\frame\n",
            "    copying pandas\\tests\\frame\\test_convert_to.py -> build\\lib.win-amd64-3.8\\pandas\\tests\\frame\n",
            "    copying pandas\\tests\\frame\\test_dtypes.py -> build\\lib.win-amd64-3.8\\pandas\\tests\\frame\n",
            "    copying pandas\\tests\\frame\\test_duplicates.py -> build\\lib.win-amd64-3.8\\pandas\\tests\\frame\n",
            "    copying pandas\\tests\\frame\\test_explode.py -> build\\lib.win-amd64-3.8\\pandas\\tests\\frame\n",
            "    copying pandas\\tests\\frame\\test_indexing.py -> build\\lib.win-amd64-3.8\\pandas\\tests\\frame\n",
            "    copying pandas\\tests\\frame\\test_join.py -> build\\lib.win-amd64-3.8\\pandas\\tests\\frame\n",
            "    copying pandas\\tests\\frame\\test_missing.py -> build\\lib.win-amd64-3.8\\pandas\\tests\\frame\n",
            "    copying pandas\\tests\\frame\\test_mutate_columns.py -> build\\lib.win-amd64-3.8\\pandas\\tests\\frame\n",
            "    copying pandas\\tests\\frame\\test_nonunique_indexes.py -> build\\lib.win-amd64-3.8\\pandas\\tests\\frame\n",
            "    copying pandas\\tests\\frame\\test_operators.py -> build\\lib.win-amd64-3.8\\pandas\\tests\\frame\n",
            "    copying pandas\\tests\\frame\\test_period.py -> build\\lib.win-amd64-3.8\\pandas\\tests\\frame\n",
            "    copying pandas\\tests\\frame\\test_quantile.py -> build\\lib.win-amd64-3.8\\pandas\\tests\\frame\n",
            "    copying pandas\\tests\\frame\\test_query_eval.py -> build\\lib.win-amd64-3.8\\pandas\\tests\\frame\n",
            "    copying pandas\\tests\\frame\\test_rank.py -> build\\lib.win-amd64-3.8\\pandas\\tests\\frame\n",
            "    copying pandas\\tests\\frame\\test_replace.py -> build\\lib.win-amd64-3.8\\pandas\\tests\\frame\n",
            "    copying pandas\\tests\\frame\\test_repr_info.py -> build\\lib.win-amd64-3.8\\pandas\\tests\\frame\n",
            "    copying pandas\\tests\\frame\\test_reshape.py -> build\\lib.win-amd64-3.8\\pandas\\tests\\frame\n",
            "    copying pandas\\tests\\frame\\test_sorting.py -> build\\lib.win-amd64-3.8\\pandas\\tests\\frame\n",
            "    copying pandas\\tests\\frame\\test_sort_values_level_as_str.py -> build\\lib.win-amd64-3.8\\pandas\\tests\\frame\n",
            "    copying pandas\\tests\\frame\\test_subclass.py -> build\\lib.win-amd64-3.8\\pandas\\tests\\frame\n",
            "    copying pandas\\tests\\frame\\test_timeseries.py -> build\\lib.win-amd64-3.8\\pandas\\tests\\frame\n",
            "    copying pandas\\tests\\frame\\test_timezones.py -> build\\lib.win-amd64-3.8\\pandas\\tests\\frame\n",
            "    copying pandas\\tests\\frame\\test_to_csv.py -> build\\lib.win-amd64-3.8\\pandas\\tests\\frame\n",
            "    copying pandas\\tests\\frame\\test_validate.py -> build\\lib.win-amd64-3.8\\pandas\\tests\\frame\n",
            "    copying pandas\\tests\\frame\\__init__.py -> build\\lib.win-amd64-3.8\\pandas\\tests\\frame\n",
            "    creating build\\lib.win-amd64-3.8\\pandas\\tests\\generic\n",
            "    copying pandas\\tests\\generic\\test_frame.py -> build\\lib.win-amd64-3.8\\pandas\\tests\\generic\n",
            "    copying pandas\\tests\\generic\\test_generic.py -> build\\lib.win-amd64-3.8\\pandas\\tests\\generic\n",
            "    copying pandas\\tests\\generic\\test_label_or_level_utils.py -> build\\lib.win-amd64-3.8\\pandas\\tests\\generic\n",
            "    copying pandas\\tests\\generic\\test_series.py -> build\\lib.win-amd64-3.8\\pandas\\tests\\generic\n",
            "    copying pandas\\tests\\generic\\__init__.py -> build\\lib.win-amd64-3.8\\pandas\\tests\\generic\n",
            "    creating build\\lib.win-amd64-3.8\\pandas\\tests\\groupby\n",
            "    copying pandas\\tests\\groupby\\conftest.py -> build\\lib.win-amd64-3.8\\pandas\\tests\\groupby\n",
            "    copying pandas\\tests\\groupby\\test_apply.py -> build\\lib.win-amd64-3.8\\pandas\\tests\\groupby\n",
            "    copying pandas\\tests\\groupby\\test_bin_groupby.py -> build\\lib.win-amd64-3.8\\pandas\\tests\\groupby\n",
            "    copying pandas\\tests\\groupby\\test_categorical.py -> build\\lib.win-amd64-3.8\\pandas\\tests\\groupby\n",
            "    copying pandas\\tests\\groupby\\test_counting.py -> build\\lib.win-amd64-3.8\\pandas\\tests\\groupby\n",
            "    copying pandas\\tests\\groupby\\test_filters.py -> build\\lib.win-amd64-3.8\\pandas\\tests\\groupby\n",
            "    copying pandas\\tests\\groupby\\test_function.py -> build\\lib.win-amd64-3.8\\pandas\\tests\\groupby\n",
            "    copying pandas\\tests\\groupby\\test_groupby.py -> build\\lib.win-amd64-3.8\\pandas\\tests\\groupby\n",
            "    copying pandas\\tests\\groupby\\test_grouping.py -> build\\lib.win-amd64-3.8\\pandas\\tests\\groupby\n",
            "    copying pandas\\tests\\groupby\\test_index_as_string.py -> build\\lib.win-amd64-3.8\\pandas\\tests\\groupby\n",
            "    copying pandas\\tests\\groupby\\test_nth.py -> build\\lib.win-amd64-3.8\\pandas\\tests\\groupby\n",
            "    copying pandas\\tests\\groupby\\test_rank.py -> build\\lib.win-amd64-3.8\\pandas\\tests\\groupby\n",
            "    copying pandas\\tests\\groupby\\test_timegrouper.py -> build\\lib.win-amd64-3.8\\pandas\\tests\\groupby\n",
            "    copying pandas\\tests\\groupby\\test_transform.py -> build\\lib.win-amd64-3.8\\pandas\\tests\\groupby\n",
            "    copying pandas\\tests\\groupby\\test_value_counts.py -> build\\lib.win-amd64-3.8\\pandas\\tests\\groupby\n",
            "    copying pandas\\tests\\groupby\\test_whitelist.py -> build\\lib.win-amd64-3.8\\pandas\\tests\\groupby\n",
            "    copying pandas\\tests\\groupby\\__init__.py -> build\\lib.win-amd64-3.8\\pandas\\tests\\groupby\n",
            "    creating build\\lib.win-amd64-3.8\\pandas\\tests\\indexes\n",
            "    copying pandas\\tests\\indexes\\common.py -> build\\lib.win-amd64-3.8\\pandas\\tests\\indexes\n",
            "    copying pandas\\tests\\indexes\\conftest.py -> build\\lib.win-amd64-3.8\\pandas\\tests\\indexes\n",
            "    copying pandas\\tests\\indexes\\datetimelike.py -> build\\lib.win-amd64-3.8\\pandas\\tests\\indexes\n",
            "    copying pandas\\tests\\indexes\\test_base.py -> build\\lib.win-amd64-3.8\\pandas\\tests\\indexes\n",
            "    copying pandas\\tests\\indexes\\test_category.py -> build\\lib.win-amd64-3.8\\pandas\\tests\\indexes\n",
            "    copying pandas\\tests\\indexes\\test_common.py -> build\\lib.win-amd64-3.8\\pandas\\tests\\indexes\n",
            "    copying pandas\\tests\\indexes\\test_frozen.py -> build\\lib.win-amd64-3.8\\pandas\\tests\\indexes\n",
            "    copying pandas\\tests\\indexes\\test_numeric.py -> build\\lib.win-amd64-3.8\\pandas\\tests\\indexes\n",
            "    copying pandas\\tests\\indexes\\test_numpy_compat.py -> build\\lib.win-amd64-3.8\\pandas\\tests\\indexes\n",
            "    copying pandas\\tests\\indexes\\test_range.py -> build\\lib.win-amd64-3.8\\pandas\\tests\\indexes\n",
            "    copying pandas\\tests\\indexes\\test_setops.py -> build\\lib.win-amd64-3.8\\pandas\\tests\\indexes\n",
            "    copying pandas\\tests\\indexes\\__init__.py -> build\\lib.win-amd64-3.8\\pandas\\tests\\indexes\n",
            "    creating build\\lib.win-amd64-3.8\\pandas\\tests\\indexing\n",
            "    copying pandas\\tests\\indexing\\common.py -> build\\lib.win-amd64-3.8\\pandas\\tests\\indexing\n",
            "    copying pandas\\tests\\indexing\\conftest.py -> build\\lib.win-amd64-3.8\\pandas\\tests\\indexing\n",
            "    copying pandas\\tests\\indexing\\test_callable.py -> build\\lib.win-amd64-3.8\\pandas\\tests\\indexing\n",
            "    copying pandas\\tests\\indexing\\test_categorical.py -> build\\lib.win-amd64-3.8\\pandas\\tests\\indexing\n",
            "    copying pandas\\tests\\indexing\\test_chaining_and_caching.py -> build\\lib.win-amd64-3.8\\pandas\\tests\\indexing\n",
            "    copying pandas\\tests\\indexing\\test_coercion.py -> build\\lib.win-amd64-3.8\\pandas\\tests\\indexing\n",
            "    copying pandas\\tests\\indexing\\test_datetime.py -> build\\lib.win-amd64-3.8\\pandas\\tests\\indexing\n",
            "    copying pandas\\tests\\indexing\\test_floats.py -> build\\lib.win-amd64-3.8\\pandas\\tests\\indexing\n",
            "    copying pandas\\tests\\indexing\\test_iloc.py -> build\\lib.win-amd64-3.8\\pandas\\tests\\indexing\n",
            "    copying pandas\\tests\\indexing\\test_indexing.py -> build\\lib.win-amd64-3.8\\pandas\\tests\\indexing\n",
            "    copying pandas\\tests\\indexing\\test_indexing_engines.py -> build\\lib.win-amd64-3.8\\pandas\\tests\\indexing\n",
            "    copying pandas\\tests\\indexing\\test_indexing_slow.py -> build\\lib.win-amd64-3.8\\pandas\\tests\\indexing\n",
            "    copying pandas\\tests\\indexing\\test_ix.py -> build\\lib.win-amd64-3.8\\pandas\\tests\\indexing\n",
            "    copying pandas\\tests\\indexing\\test_loc.py -> build\\lib.win-amd64-3.8\\pandas\\tests\\indexing\n",
            "    copying pandas\\tests\\indexing\\test_partial.py -> build\\lib.win-amd64-3.8\\pandas\\tests\\indexing\n",
            "    copying pandas\\tests\\indexing\\test_scalar.py -> build\\lib.win-amd64-3.8\\pandas\\tests\\indexing\n",
            "    copying pandas\\tests\\indexing\\test_timedelta.py -> build\\lib.win-amd64-3.8\\pandas\\tests\\indexing\n",
            "    copying pandas\\tests\\indexing\\__init__.py -> build\\lib.win-amd64-3.8\\pandas\\tests\\indexing\n",
            "    creating build\\lib.win-amd64-3.8\\pandas\\tests\\internals\n",
            "    copying pandas\\tests\\internals\\test_internals.py -> build\\lib.win-amd64-3.8\\pandas\\tests\\internals\n",
            "    copying pandas\\tests\\internals\\__init__.py -> build\\lib.win-amd64-3.8\\pandas\\tests\\internals\n",
            "    creating build\\lib.win-amd64-3.8\\pandas\\tests\\io\n",
            "    copying pandas\\tests\\io\\conftest.py -> build\\lib.win-amd64-3.8\\pandas\\tests\\io\n",
            "    copying pandas\\tests\\io\\generate_legacy_storage_files.py -> build\\lib.win-amd64-3.8\\pandas\\tests\\io\n",
            "    copying pandas\\tests\\io\\test_clipboard.py -> build\\lib.win-amd64-3.8\\pandas\\tests\\io\n",
            "    copying pandas\\tests\\io\\test_common.py -> build\\lib.win-amd64-3.8\\pandas\\tests\\io\n",
            "    copying pandas\\tests\\io\\test_compression.py -> build\\lib.win-amd64-3.8\\pandas\\tests\\io\n",
            "    copying pandas\\tests\\io\\test_date_converters.py -> build\\lib.win-amd64-3.8\\pandas\\tests\\io\n",
            "    copying pandas\\tests\\io\\test_feather.py -> build\\lib.win-amd64-3.8\\pandas\\tests\\io\n",
            "    copying pandas\\tests\\io\\test_gbq.py -> build\\lib.win-amd64-3.8\\pandas\\tests\\io\n",
            "    copying pandas\\tests\\io\\test_gcs.py -> build\\lib.win-amd64-3.8\\pandas\\tests\\io\n",
            "    copying pandas\\tests\\io\\test_html.py -> build\\lib.win-amd64-3.8\\pandas\\tests\\io\n",
            "    copying pandas\\tests\\io\\test_packers.py -> build\\lib.win-amd64-3.8\\pandas\\tests\\io\n",
            "    copying pandas\\tests\\io\\test_parquet.py -> build\\lib.win-amd64-3.8\\pandas\\tests\\io\n",
            "    copying pandas\\tests\\io\\test_pickle.py -> build\\lib.win-amd64-3.8\\pandas\\tests\\io\n",
            "    copying pandas\\tests\\io\\test_s3.py -> build\\lib.win-amd64-3.8\\pandas\\tests\\io\n",
            "    copying pandas\\tests\\io\\test_spss.py -> build\\lib.win-amd64-3.8\\pandas\\tests\\io\n",
            "    copying pandas\\tests\\io\\test_sql.py -> build\\lib.win-amd64-3.8\\pandas\\tests\\io\n",
            "    copying pandas\\tests\\io\\test_stata.py -> build\\lib.win-amd64-3.8\\pandas\\tests\\io\n",
            "    copying pandas\\tests\\io\\__init__.py -> build\\lib.win-amd64-3.8\\pandas\\tests\\io\n",
            "    creating build\\lib.win-amd64-3.8\\pandas\\tests\\plotting\n",
            "    copying pandas\\tests\\plotting\\common.py -> build\\lib.win-amd64-3.8\\pandas\\tests\\plotting\n",
            "    copying pandas\\tests\\plotting\\test_backend.py -> build\\lib.win-amd64-3.8\\pandas\\tests\\plotting\n",
            "    copying pandas\\tests\\plotting\\test_boxplot_method.py -> build\\lib.win-amd64-3.8\\pandas\\tests\\plotting\n",
            "    copying pandas\\tests\\plotting\\test_converter.py -> build\\lib.win-amd64-3.8\\pandas\\tests\\plotting\n",
            "    copying pandas\\tests\\plotting\\test_datetimelike.py -> build\\lib.win-amd64-3.8\\pandas\\tests\\plotting\n",
            "    copying pandas\\tests\\plotting\\test_frame.py -> build\\lib.win-amd64-3.8\\pandas\\tests\\plotting\n",
            "    copying pandas\\tests\\plotting\\test_groupby.py -> build\\lib.win-amd64-3.8\\pandas\\tests\\plotting\n",
            "    copying pandas\\tests\\plotting\\test_hist_method.py -> build\\lib.win-amd64-3.8\\pandas\\tests\\plotting\n",
            "    copying pandas\\tests\\plotting\\test_misc.py -> build\\lib.win-amd64-3.8\\pandas\\tests\\plotting\n",
            "    copying pandas\\tests\\plotting\\test_series.py -> build\\lib.win-amd64-3.8\\pandas\\tests\\plotting\n",
            "    copying pandas\\tests\\plotting\\__init__.py -> build\\lib.win-amd64-3.8\\pandas\\tests\\plotting\n",
            "    creating build\\lib.win-amd64-3.8\\pandas\\tests\\reductions\n",
            "    copying pandas\\tests\\reductions\\test_reductions.py -> build\\lib.win-amd64-3.8\\pandas\\tests\\reductions\n",
            "    copying pandas\\tests\\reductions\\test_stat_reductions.py -> build\\lib.win-amd64-3.8\\pandas\\tests\\reductions\n",
            "    copying pandas\\tests\\reductions\\__init__.py -> build\\lib.win-amd64-3.8\\pandas\\tests\\reductions\n",
            "    creating build\\lib.win-amd64-3.8\\pandas\\tests\\resample\n",
            "    copying pandas\\tests\\resample\\conftest.py -> build\\lib.win-amd64-3.8\\pandas\\tests\\resample\n",
            "    copying pandas\\tests\\resample\\test_base.py -> build\\lib.win-amd64-3.8\\pandas\\tests\\resample\n",
            "    copying pandas\\tests\\resample\\test_datetime_index.py -> build\\lib.win-amd64-3.8\\pandas\\tests\\resample\n",
            "    copying pandas\\tests\\resample\\test_period_index.py -> build\\lib.win-amd64-3.8\\pandas\\tests\\resample\n",
            "    copying pandas\\tests\\resample\\test_resampler_grouper.py -> build\\lib.win-amd64-3.8\\pandas\\tests\\resample\n",
            "    copying pandas\\tests\\resample\\test_resample_api.py -> build\\lib.win-amd64-3.8\\pandas\\tests\\resample\n",
            "    copying pandas\\tests\\resample\\test_timedelta.py -> build\\lib.win-amd64-3.8\\pandas\\tests\\resample\n",
            "    copying pandas\\tests\\resample\\test_time_grouper.py -> build\\lib.win-amd64-3.8\\pandas\\tests\\resample\n",
            "    copying pandas\\tests\\resample\\__init__.py -> build\\lib.win-amd64-3.8\\pandas\\tests\\resample\n",
            "    creating build\\lib.win-amd64-3.8\\pandas\\tests\\reshape\n",
            "    copying pandas\\tests\\reshape\\test_concat.py -> build\\lib.win-amd64-3.8\\pandas\\tests\\reshape\n",
            "    copying pandas\\tests\\reshape\\test_cut.py -> build\\lib.win-amd64-3.8\\pandas\\tests\\reshape\n",
            "    copying pandas\\tests\\reshape\\test_melt.py -> build\\lib.win-amd64-3.8\\pandas\\tests\\reshape\n",
            "    copying pandas\\tests\\reshape\\test_pivot.py -> build\\lib.win-amd64-3.8\\pandas\\tests\\reshape\n",
            "    copying pandas\\tests\\reshape\\test_qcut.py -> build\\lib.win-amd64-3.8\\pandas\\tests\\reshape\n",
            "    copying pandas\\tests\\reshape\\test_reshape.py -> build\\lib.win-amd64-3.8\\pandas\\tests\\reshape\n",
            "    copying pandas\\tests\\reshape\\test_union_categoricals.py -> build\\lib.win-amd64-3.8\\pandas\\tests\\reshape\n",
            "    copying pandas\\tests\\reshape\\test_util.py -> build\\lib.win-amd64-3.8\\pandas\\tests\\reshape\n",
            "    copying pandas\\tests\\reshape\\__init__.py -> build\\lib.win-amd64-3.8\\pandas\\tests\\reshape\n",
            "    creating build\\lib.win-amd64-3.8\\pandas\\tests\\scalar\n",
            "    copying pandas\\tests\\scalar\\test_nat.py -> build\\lib.win-amd64-3.8\\pandas\\tests\\scalar\n",
            "    copying pandas\\tests\\scalar\\__init__.py -> build\\lib.win-amd64-3.8\\pandas\\tests\\scalar\n",
            "    creating build\\lib.win-amd64-3.8\\pandas\\tests\\series\n",
            "    copying pandas\\tests\\series\\common.py -> build\\lib.win-amd64-3.8\\pandas\\tests\\series\n",
            "    copying pandas\\tests\\series\\conftest.py -> build\\lib.win-amd64-3.8\\pandas\\tests\\series\n",
            "    copying pandas\\tests\\series\\test_alter_axes.py -> build\\lib.win-amd64-3.8\\pandas\\tests\\series\n",
            "    copying pandas\\tests\\series\\test_analytics.py -> build\\lib.win-amd64-3.8\\pandas\\tests\\series\n",
            "    copying pandas\\tests\\series\\test_api.py -> build\\lib.win-amd64-3.8\\pandas\\tests\\series\n",
            "    copying pandas\\tests\\series\\test_apply.py -> build\\lib.win-amd64-3.8\\pandas\\tests\\series\n",
            "    copying pandas\\tests\\series\\test_arithmetic.py -> build\\lib.win-amd64-3.8\\pandas\\tests\\series\n",
            "    copying pandas\\tests\\series\\test_asof.py -> build\\lib.win-amd64-3.8\\pandas\\tests\\series\n",
            "    copying pandas\\tests\\series\\test_block_internals.py -> build\\lib.win-amd64-3.8\\pandas\\tests\\series\n",
            "    copying pandas\\tests\\series\\test_combine_concat.py -> build\\lib.win-amd64-3.8\\pandas\\tests\\series\n",
            "    copying pandas\\tests\\series\\test_constructors.py -> build\\lib.win-amd64-3.8\\pandas\\tests\\series\n",
            "    copying pandas\\tests\\series\\test_datetime_values.py -> build\\lib.win-amd64-3.8\\pandas\\tests\\series\n",
            "    copying pandas\\tests\\series\\test_dtypes.py -> build\\lib.win-amd64-3.8\\pandas\\tests\\series\n",
            "    copying pandas\\tests\\series\\test_duplicates.py -> build\\lib.win-amd64-3.8\\pandas\\tests\\series\n",
            "    copying pandas\\tests\\series\\test_explode.py -> build\\lib.win-amd64-3.8\\pandas\\tests\\series\n",
            "    copying pandas\\tests\\series\\test_internals.py -> build\\lib.win-amd64-3.8\\pandas\\tests\\series\n",
            "    copying pandas\\tests\\series\\test_io.py -> build\\lib.win-amd64-3.8\\pandas\\tests\\series\n",
            "    copying pandas\\tests\\series\\test_missing.py -> build\\lib.win-amd64-3.8\\pandas\\tests\\series\n",
            "    copying pandas\\tests\\series\\test_operators.py -> build\\lib.win-amd64-3.8\\pandas\\tests\\series\n",
            "    copying pandas\\tests\\series\\test_period.py -> build\\lib.win-amd64-3.8\\pandas\\tests\\series\n",
            "    copying pandas\\tests\\series\\test_quantile.py -> build\\lib.win-amd64-3.8\\pandas\\tests\\series\n",
            "    copying pandas\\tests\\series\\test_rank.py -> build\\lib.win-amd64-3.8\\pandas\\tests\\series\n",
            "    copying pandas\\tests\\series\\test_replace.py -> build\\lib.win-amd64-3.8\\pandas\\tests\\series\n",
            "    copying pandas\\tests\\series\\test_repr.py -> build\\lib.win-amd64-3.8\\pandas\\tests\\series\n",
            "    copying pandas\\tests\\series\\test_sorting.py -> build\\lib.win-amd64-3.8\\pandas\\tests\\series\n",
            "    copying pandas\\tests\\series\\test_subclass.py -> build\\lib.win-amd64-3.8\\pandas\\tests\\series\n",
            "    copying pandas\\tests\\series\\test_timeseries.py -> build\\lib.win-amd64-3.8\\pandas\\tests\\series\n",
            "    copying pandas\\tests\\series\\test_timezones.py -> build\\lib.win-amd64-3.8\\pandas\\tests\\series\n",
            "    copying pandas\\tests\\series\\test_ufunc.py -> build\\lib.win-amd64-3.8\\pandas\\tests\\series\n",
            "    copying pandas\\tests\\series\\test_validate.py -> build\\lib.win-amd64-3.8\\pandas\\tests\\series\n",
            "    copying pandas\\tests\\series\\__init__.py -> build\\lib.win-amd64-3.8\\pandas\\tests\\series\n"
          ]
        },
        {
          "name": "stderr",
          "output_type": "stream",
          "text": [
            "    creating build\\lib.win-amd64-3.8\\pandas\\tests\\sparse\n",
            "    copying pandas\\tests\\sparse\\common.py -> build\\lib.win-amd64-3.8\\pandas\\tests\\sparse\n",
            "    copying pandas\\tests\\sparse\\test_combine_concat.py -> build\\lib.win-amd64-3.8\\pandas\\tests\\sparse\n",
            "    copying pandas\\tests\\sparse\\test_format.py -> build\\lib.win-amd64-3.8\\pandas\\tests\\sparse\n",
            "    copying pandas\\tests\\sparse\\test_groupby.py -> build\\lib.win-amd64-3.8\\pandas\\tests\\sparse\n",
            "    copying pandas\\tests\\sparse\\test_indexing.py -> build\\lib.win-amd64-3.8\\pandas\\tests\\sparse\n",
            "    copying pandas\\tests\\sparse\\test_pivot.py -> build\\lib.win-amd64-3.8\\pandas\\tests\\sparse\n",
            "    copying pandas\\tests\\sparse\\test_reshape.py -> build\\lib.win-amd64-3.8\\pandas\\tests\\sparse\n",
            "    copying pandas\\tests\\sparse\\__init__.py -> build\\lib.win-amd64-3.8\\pandas\\tests\\sparse\n",
            "    creating build\\lib.win-amd64-3.8\\pandas\\tests\\tools\n",
            "    copying pandas\\tests\\tools\\test_numeric.py -> build\\lib.win-amd64-3.8\\pandas\\tests\\tools\n",
            "    copying pandas\\tests\\tools\\__init__.py -> build\\lib.win-amd64-3.8\\pandas\\tests\\tools\n",
            "    creating build\\lib.win-amd64-3.8\\pandas\\tests\\tseries\n",
            "    copying pandas\\tests\\tseries\\__init__.py -> build\\lib.win-amd64-3.8\\pandas\\tests\\tseries\n",
            "    creating build\\lib.win-amd64-3.8\\pandas\\tests\\tslibs\n",
            "    copying pandas\\tests\\tslibs\\test_api.py -> build\\lib.win-amd64-3.8\\pandas\\tests\\tslibs\n",
            "    copying pandas\\tests\\tslibs\\test_array_to_datetime.py -> build\\lib.win-amd64-3.8\\pandas\\tests\\tslibs\n",
            "    copying pandas\\tests\\tslibs\\test_ccalendar.py -> build\\lib.win-amd64-3.8\\pandas\\tests\\tslibs\n",
            "    copying pandas\\tests\\tslibs\\test_conversion.py -> build\\lib.win-amd64-3.8\\pandas\\tests\\tslibs\n",
            "    copying pandas\\tests\\tslibs\\test_libfrequencies.py -> build\\lib.win-amd64-3.8\\pandas\\tests\\tslibs\n",
            "    copying pandas\\tests\\tslibs\\test_liboffsets.py -> build\\lib.win-amd64-3.8\\pandas\\tests\\tslibs\n",
            "    copying pandas\\tests\\tslibs\\test_normalize_date.py -> build\\lib.win-amd64-3.8\\pandas\\tests\\tslibs\n",
            "    copying pandas\\tests\\tslibs\\test_parse_iso8601.py -> build\\lib.win-amd64-3.8\\pandas\\tests\\tslibs\n",
            "    copying pandas\\tests\\tslibs\\test_parsing.py -> build\\lib.win-amd64-3.8\\pandas\\tests\\tslibs\n",
            "    copying pandas\\tests\\tslibs\\test_period_asfreq.py -> build\\lib.win-amd64-3.8\\pandas\\tests\\tslibs\n",
            "    copying pandas\\tests\\tslibs\\test_timedeltas.py -> build\\lib.win-amd64-3.8\\pandas\\tests\\tslibs\n",
            "    copying pandas\\tests\\tslibs\\test_timezones.py -> build\\lib.win-amd64-3.8\\pandas\\tests\\tslibs\n",
            "    copying pandas\\tests\\tslibs\\__init__.py -> build\\lib.win-amd64-3.8\\pandas\\tests\\tslibs\n",
            "    creating build\\lib.win-amd64-3.8\\pandas\\tests\\util\n",
            "    copying pandas\\tests\\util\\conftest.py -> build\\lib.win-amd64-3.8\\pandas\\tests\\util\n",
            "    copying pandas\\tests\\util\\test_assert_almost_equal.py -> build\\lib.win-amd64-3.8\\pandas\\tests\\util\n",
            "    copying pandas\\tests\\util\\test_assert_categorical_equal.py -> build\\lib.win-amd64-3.8\\pandas\\tests\\util\n",
            "    copying pandas\\tests\\util\\test_assert_extension_array_equal.py -> build\\lib.win-amd64-3.8\\pandas\\tests\\util\n",
            "    copying pandas\\tests\\util\\test_assert_frame_equal.py -> build\\lib.win-amd64-3.8\\pandas\\tests\\util\n",
            "    copying pandas\\tests\\util\\test_assert_index_equal.py -> build\\lib.win-amd64-3.8\\pandas\\tests\\util\n",
            "    copying pandas\\tests\\util\\test_assert_interval_array_equal.py -> build\\lib.win-amd64-3.8\\pandas\\tests\\util\n",
            "    copying pandas\\tests\\util\\test_assert_numpy_array_equal.py -> build\\lib.win-amd64-3.8\\pandas\\tests\\util\n",
            "    copying pandas\\tests\\util\\test_assert_produces_warning.py -> build\\lib.win-amd64-3.8\\pandas\\tests\\util\n",
            "    copying pandas\\tests\\util\\test_assert_series_equal.py -> build\\lib.win-amd64-3.8\\pandas\\tests\\util\n",
            "    copying pandas\\tests\\util\\test_deprecate.py -> build\\lib.win-amd64-3.8\\pandas\\tests\\util\n",
            "    copying pandas\\tests\\util\\test_deprecate_kwarg.py -> build\\lib.win-amd64-3.8\\pandas\\tests\\util\n",
            "    copying pandas\\tests\\util\\test_hashing.py -> build\\lib.win-amd64-3.8\\pandas\\tests\\util\n",
            "    copying pandas\\tests\\util\\test_move.py -> build\\lib.win-amd64-3.8\\pandas\\tests\\util\n",
            "    copying pandas\\tests\\util\\test_safe_import.py -> build\\lib.win-amd64-3.8\\pandas\\tests\\util\n",
            "    copying pandas\\tests\\util\\test_util.py -> build\\lib.win-amd64-3.8\\pandas\\tests\\util\n",
            "    copying pandas\\tests\\util\\test_validate_args.py -> build\\lib.win-amd64-3.8\\pandas\\tests\\util\n",
            "    copying pandas\\tests\\util\\test_validate_args_and_kwargs.py -> build\\lib.win-amd64-3.8\\pandas\\tests\\util\n",
            "    copying pandas\\tests\\util\\test_validate_kwargs.py -> build\\lib.win-amd64-3.8\\pandas\\tests\\util\n",
            "    copying pandas\\tests\\util\\__init__.py -> build\\lib.win-amd64-3.8\\pandas\\tests\\util\n",
            "    creating build\\lib.win-amd64-3.8\\pandas\\tests\\window\n",
            "    copying pandas\\tests\\window\\common.py -> build\\lib.win-amd64-3.8\\pandas\\tests\\window\n",
            "    copying pandas\\tests\\window\\conftest.py -> build\\lib.win-amd64-3.8\\pandas\\tests\\window\n",
            "    copying pandas\\tests\\window\\test_api.py -> build\\lib.win-amd64-3.8\\pandas\\tests\\window\n",
            "    copying pandas\\tests\\window\\test_dtypes.py -> build\\lib.win-amd64-3.8\\pandas\\tests\\window\n",
            "    copying pandas\\tests\\window\\test_ewm.py -> build\\lib.win-amd64-3.8\\pandas\\tests\\window\n",
            "    copying pandas\\tests\\window\\test_expanding.py -> build\\lib.win-amd64-3.8\\pandas\\tests\\window\n",
            "    copying pandas\\tests\\window\\test_grouper.py -> build\\lib.win-amd64-3.8\\pandas\\tests\\window\n",
            "    copying pandas\\tests\\window\\test_moments.py -> build\\lib.win-amd64-3.8\\pandas\\tests\\window\n",
            "    copying pandas\\tests\\window\\test_pairwise.py -> build\\lib.win-amd64-3.8\\pandas\\tests\\window\n",
            "    copying pandas\\tests\\window\\test_rolling.py -> build\\lib.win-amd64-3.8\\pandas\\tests\\window\n",
            "    copying pandas\\tests\\window\\test_timeseries_window.py -> build\\lib.win-amd64-3.8\\pandas\\tests\\window\n",
            "    copying pandas\\tests\\window\\test_window.py -> build\\lib.win-amd64-3.8\\pandas\\tests\\window\n",
            "    copying pandas\\tests\\window\\__init__.py -> build\\lib.win-amd64-3.8\\pandas\\tests\\window\n",
            "    creating build\\lib.win-amd64-3.8\\pandas\\tests\\arrays\\categorical\n",
            "    copying pandas\\tests\\arrays\\categorical\\common.py -> build\\lib.win-amd64-3.8\\pandas\\tests\\arrays\\categorical\n",
            "    copying pandas\\tests\\arrays\\categorical\\conftest.py -> build\\lib.win-amd64-3.8\\pandas\\tests\\arrays\\categorical\n",
            "    copying pandas\\tests\\arrays\\categorical\\test_algos.py -> build\\lib.win-amd64-3.8\\pandas\\tests\\arrays\\categorical\n",
            "    copying pandas\\tests\\arrays\\categorical\\test_analytics.py -> build\\lib.win-amd64-3.8\\pandas\\tests\\arrays\\categorical\n",
            "    copying pandas\\tests\\arrays\\categorical\\test_api.py -> build\\lib.win-amd64-3.8\\pandas\\tests\\arrays\\categorical\n",
            "    copying pandas\\tests\\arrays\\categorical\\test_constructors.py -> build\\lib.win-amd64-3.8\\pandas\\tests\\arrays\\categorical\n",
            "    copying pandas\\tests\\arrays\\categorical\\test_dtypes.py -> build\\lib.win-amd64-3.8\\pandas\\tests\\arrays\\categorical\n",
            "    copying pandas\\tests\\arrays\\categorical\\test_indexing.py -> build\\lib.win-amd64-3.8\\pandas\\tests\\arrays\\categorical\n",
            "    copying pandas\\tests\\arrays\\categorical\\test_missing.py -> build\\lib.win-amd64-3.8\\pandas\\tests\\arrays\\categorical\n",
            "    copying pandas\\tests\\arrays\\categorical\\test_operators.py -> build\\lib.win-amd64-3.8\\pandas\\tests\\arrays\\categorical\n",
            "    copying pandas\\tests\\arrays\\categorical\\test_repr.py -> build\\lib.win-amd64-3.8\\pandas\\tests\\arrays\\categorical\n",
            "    copying pandas\\tests\\arrays\\categorical\\test_sorting.py -> build\\lib.win-amd64-3.8\\pandas\\tests\\arrays\\categorical\n",
            "    copying pandas\\tests\\arrays\\categorical\\test_subclass.py -> build\\lib.win-amd64-3.8\\pandas\\tests\\arrays\\categorical\n",
            "    copying pandas\\tests\\arrays\\categorical\\test_warnings.py -> build\\lib.win-amd64-3.8\\pandas\\tests\\arrays\\categorical\n",
            "    copying pandas\\tests\\arrays\\categorical\\__init__.py -> build\\lib.win-amd64-3.8\\pandas\\tests\\arrays\\categorical\n",
            "    creating build\\lib.win-amd64-3.8\\pandas\\tests\\arrays\\interval\n",
            "    copying pandas\\tests\\arrays\\interval\\test_interval.py -> build\\lib.win-amd64-3.8\\pandas\\tests\\arrays\\interval\n",
            "    copying pandas\\tests\\arrays\\interval\\test_ops.py -> build\\lib.win-amd64-3.8\\pandas\\tests\\arrays\\interval\n",
            "    copying pandas\\tests\\arrays\\interval\\__init__.py -> build\\lib.win-amd64-3.8\\pandas\\tests\\arrays\\interval\n",
            "    creating build\\lib.win-amd64-3.8\\pandas\\tests\\arrays\\sparse\n",
            "    copying pandas\\tests\\arrays\\sparse\\test_accessor.py -> build\\lib.win-amd64-3.8\\pandas\\tests\\arrays\\sparse\n",
            "    copying pandas\\tests\\arrays\\sparse\\test_arithmetics.py -> build\\lib.win-amd64-3.8\\pandas\\tests\\arrays\\sparse\n",
            "    copying pandas\\tests\\arrays\\sparse\\test_array.py -> build\\lib.win-amd64-3.8\\pandas\\tests\\arrays\\sparse\n",
            "    copying pandas\\tests\\arrays\\sparse\\test_dtype.py -> build\\lib.win-amd64-3.8\\pandas\\tests\\arrays\\sparse\n",
            "    copying pandas\\tests\\arrays\\sparse\\test_libsparse.py -> build\\lib.win-amd64-3.8\\pandas\\tests\\arrays\\sparse\n",
            "    copying pandas\\tests\\arrays\\sparse\\__init__.py -> build\\lib.win-amd64-3.8\\pandas\\tests\\arrays\\sparse\n",
            "    creating build\\lib.win-amd64-3.8\\pandas\\tests\\dtypes\\cast\n",
            "    copying pandas\\tests\\dtypes\\cast\\test_construct_from_scalar.py -> build\\lib.win-amd64-3.8\\pandas\\tests\\dtypes\\cast\n",
            "    copying pandas\\tests\\dtypes\\cast\\test_construct_ndarray.py -> build\\lib.win-amd64-3.8\\pandas\\tests\\dtypes\\cast\n",
            "    copying pandas\\tests\\dtypes\\cast\\test_construct_object_arr.py -> build\\lib.win-amd64-3.8\\pandas\\tests\\dtypes\\cast\n",
            "    copying pandas\\tests\\dtypes\\cast\\test_convert_objects.py -> build\\lib.win-amd64-3.8\\pandas\\tests\\dtypes\\cast\n",
            "    copying pandas\\tests\\dtypes\\cast\\test_downcast.py -> build\\lib.win-amd64-3.8\\pandas\\tests\\dtypes\\cast\n",
            "    copying pandas\\tests\\dtypes\\cast\\test_find_common_type.py -> build\\lib.win-amd64-3.8\\pandas\\tests\\dtypes\\cast\n",
            "    copying pandas\\tests\\dtypes\\cast\\test_infer_datetimelike.py -> build\\lib.win-amd64-3.8\\pandas\\tests\\dtypes\\cast\n",
            "    copying pandas\\tests\\dtypes\\cast\\test_infer_dtype.py -> build\\lib.win-amd64-3.8\\pandas\\tests\\dtypes\\cast\n",
            "    copying pandas\\tests\\dtypes\\cast\\test_promote.py -> build\\lib.win-amd64-3.8\\pandas\\tests\\dtypes\\cast\n",
            "    copying pandas\\tests\\dtypes\\cast\\test_upcast.py -> build\\lib.win-amd64-3.8\\pandas\\tests\\dtypes\\cast\n",
            "    copying pandas\\tests\\dtypes\\cast\\__init__.py -> build\\lib.win-amd64-3.8\\pandas\\tests\\dtypes\\cast\n",
            "    creating build\\lib.win-amd64-3.8\\pandas\\tests\\extension\\arrow\n",
            "    copying pandas\\tests\\extension\\arrow\\bool.py -> build\\lib.win-amd64-3.8\\pandas\\tests\\extension\\arrow\n",
            "    copying pandas\\tests\\extension\\arrow\\test_bool.py -> build\\lib.win-amd64-3.8\\pandas\\tests\\extension\\arrow\n",
            "    copying pandas\\tests\\extension\\arrow\\__init__.py -> build\\lib.win-amd64-3.8\\pandas\\tests\\extension\\arrow\n",
            "    creating build\\lib.win-amd64-3.8\\pandas\\tests\\extension\\base\n",
            "    copying pandas\\tests\\extension\\base\\base.py -> build\\lib.win-amd64-3.8\\pandas\\tests\\extension\\base\n",
            "    copying pandas\\tests\\extension\\base\\casting.py -> build\\lib.win-amd64-3.8\\pandas\\tests\\extension\\base\n",
            "    copying pandas\\tests\\extension\\base\\constructors.py -> build\\lib.win-amd64-3.8\\pandas\\tests\\extension\\base\n",
            "    copying pandas\\tests\\extension\\base\\dtype.py -> build\\lib.win-amd64-3.8\\pandas\\tests\\extension\\base\n",
            "    copying pandas\\tests\\extension\\base\\getitem.py -> build\\lib.win-amd64-3.8\\pandas\\tests\\extension\\base\n",
            "    copying pandas\\tests\\extension\\base\\groupby.py -> build\\lib.win-amd64-3.8\\pandas\\tests\\extension\\base\n",
            "    copying pandas\\tests\\extension\\base\\interface.py -> build\\lib.win-amd64-3.8\\pandas\\tests\\extension\\base\n",
            "    copying pandas\\tests\\extension\\base\\io.py -> build\\lib.win-amd64-3.8\\pandas\\tests\\extension\\base\n",
            "    copying pandas\\tests\\extension\\base\\methods.py -> build\\lib.win-amd64-3.8\\pandas\\tests\\extension\\base\n",
            "    copying pandas\\tests\\extension\\base\\missing.py -> build\\lib.win-amd64-3.8\\pandas\\tests\\extension\\base\n",
            "    copying pandas\\tests\\extension\\base\\ops.py -> build\\lib.win-amd64-3.8\\pandas\\tests\\extension\\base\n",
            "    copying pandas\\tests\\extension\\base\\printing.py -> build\\lib.win-amd64-3.8\\pandas\\tests\\extension\\base\n",
            "    copying pandas\\tests\\extension\\base\\reduce.py -> build\\lib.win-amd64-3.8\\pandas\\tests\\extension\\base\n",
            "    copying pandas\\tests\\extension\\base\\reshaping.py -> build\\lib.win-amd64-3.8\\pandas\\tests\\extension\\base\n",
            "    copying pandas\\tests\\extension\\base\\setitem.py -> build\\lib.win-amd64-3.8\\pandas\\tests\\extension\\base\n",
            "    copying pandas\\tests\\extension\\base\\__init__.py -> build\\lib.win-amd64-3.8\\pandas\\tests\\extension\\base\n",
            "    creating build\\lib.win-amd64-3.8\\pandas\\tests\\extension\\decimal\n",
            "    copying pandas\\tests\\extension\\decimal\\array.py -> build\\lib.win-amd64-3.8\\pandas\\tests\\extension\\decimal\n",
            "    copying pandas\\tests\\extension\\decimal\\test_decimal.py -> build\\lib.win-amd64-3.8\\pandas\\tests\\extension\\decimal\n",
            "    copying pandas\\tests\\extension\\decimal\\__init__.py -> build\\lib.win-amd64-3.8\\pandas\\tests\\extension\\decimal\n",
            "    creating build\\lib.win-amd64-3.8\\pandas\\tests\\extension\\json\n",
            "    copying pandas\\tests\\extension\\json\\array.py -> build\\lib.win-amd64-3.8\\pandas\\tests\\extension\\json\n",
            "    copying pandas\\tests\\extension\\json\\test_json.py -> build\\lib.win-amd64-3.8\\pandas\\tests\\extension\\json\n",
            "    copying pandas\\tests\\extension\\json\\__init__.py -> build\\lib.win-amd64-3.8\\pandas\\tests\\extension\\json\n",
            "    creating build\\lib.win-amd64-3.8\\pandas\\tests\\groupby\\aggregate\n",
            "    copying pandas\\tests\\groupby\\aggregate\\test_aggregate.py -> build\\lib.win-amd64-3.8\\pandas\\tests\\groupby\\aggregate\n",
            "    copying pandas\\tests\\groupby\\aggregate\\test_cython.py -> build\\lib.win-amd64-3.8\\pandas\\tests\\groupby\\aggregate\n",
            "    copying pandas\\tests\\groupby\\aggregate\\test_other.py -> build\\lib.win-amd64-3.8\\pandas\\tests\\groupby\\aggregate\n",
            "    copying pandas\\tests\\groupby\\aggregate\\__init__.py -> build\\lib.win-amd64-3.8\\pandas\\tests\\groupby\\aggregate\n",
            "    creating build\\lib.win-amd64-3.8\\pandas\\tests\\indexes\\datetimes\n",
            "    copying pandas\\tests\\indexes\\datetimes\\test_arithmetic.py -> build\\lib.win-amd64-3.8\\pandas\\tests\\indexes\\datetimes\n",
            "    copying pandas\\tests\\indexes\\datetimes\\test_astype.py -> build\\lib.win-amd64-3.8\\pandas\\tests\\indexes\\datetimes\n",
            "    copying pandas\\tests\\indexes\\datetimes\\test_construction.py -> build\\lib.win-amd64-3.8\\pandas\\tests\\indexes\\datetimes\n",
            "    copying pandas\\tests\\indexes\\datetimes\\test_datetime.py -> build\\lib.win-amd64-3.8\\pandas\\tests\\indexes\\datetimes\n",
            "    copying pandas\\tests\\indexes\\datetimes\\test_datetimelike.py -> build\\lib.win-amd64-3.8\\pandas\\tests\\indexes\\datetimes\n",
            "    copying pandas\\tests\\indexes\\datetimes\\test_date_range.py -> build\\lib.win-amd64-3.8\\pandas\\tests\\indexes\\datetimes\n",
            "    copying pandas\\tests\\indexes\\datetimes\\test_formats.py -> build\\lib.win-amd64-3.8\\pandas\\tests\\indexes\\datetimes\n",
            "    copying pandas\\tests\\indexes\\datetimes\\test_indexing.py -> build\\lib.win-amd64-3.8\\pandas\\tests\\indexes\\datetimes\n",
            "    copying pandas\\tests\\indexes\\datetimes\\test_misc.py -> build\\lib.win-amd64-3.8\\pandas\\tests\\indexes\\datetimes\n",
            "    copying pandas\\tests\\indexes\\datetimes\\test_missing.py -> build\\lib.win-amd64-3.8\\pandas\\tests\\indexes\\datetimes\n",
            "    copying pandas\\tests\\indexes\\datetimes\\test_ops.py -> build\\lib.win-amd64-3.8\\pandas\\tests\\indexes\\datetimes\n",
            "    copying pandas\\tests\\indexes\\datetimes\\test_partial_slicing.py -> build\\lib.win-amd64-3.8\\pandas\\tests\\indexes\\datetimes\n",
            "    copying pandas\\tests\\indexes\\datetimes\\test_scalar_compat.py -> build\\lib.win-amd64-3.8\\pandas\\tests\\indexes\\datetimes\n",
            "    copying pandas\\tests\\indexes\\datetimes\\test_setops.py -> build\\lib.win-amd64-3.8\\pandas\\tests\\indexes\\datetimes\n",
            "    copying pandas\\tests\\indexes\\datetimes\\test_timezones.py -> build\\lib.win-amd64-3.8\\pandas\\tests\\indexes\\datetimes\n",
            "    copying pandas\\tests\\indexes\\datetimes\\test_tools.py -> build\\lib.win-amd64-3.8\\pandas\\tests\\indexes\\datetimes\n",
            "    copying pandas\\tests\\indexes\\datetimes\\__init__.py -> build\\lib.win-amd64-3.8\\pandas\\tests\\indexes\\datetimes\n",
            "    creating build\\lib.win-amd64-3.8\\pandas\\tests\\indexes\\interval\n",
            "    copying pandas\\tests\\indexes\\interval\\test_astype.py -> build\\lib.win-amd64-3.8\\pandas\\tests\\indexes\\interval\n",
            "    copying pandas\\tests\\indexes\\interval\\test_construction.py -> build\\lib.win-amd64-3.8\\pandas\\tests\\indexes\\interval\n",
            "    copying pandas\\tests\\indexes\\interval\\test_interval.py -> build\\lib.win-amd64-3.8\\pandas\\tests\\indexes\\interval\n",
            "    copying pandas\\tests\\indexes\\interval\\test_interval_new.py -> build\\lib.win-amd64-3.8\\pandas\\tests\\indexes\\interval\n",
            "    copying pandas\\tests\\indexes\\interval\\test_interval_range.py -> build\\lib.win-amd64-3.8\\pandas\\tests\\indexes\\interval\n",
            "    copying pandas\\tests\\indexes\\interval\\test_interval_tree.py -> build\\lib.win-amd64-3.8\\pandas\\tests\\indexes\\interval\n",
            "    copying pandas\\tests\\indexes\\interval\\test_setops.py -> build\\lib.win-amd64-3.8\\pandas\\tests\\indexes\\interval\n",
            "    copying pandas\\tests\\indexes\\interval\\__init__.py -> build\\lib.win-amd64-3.8\\pandas\\tests\\indexes\\interval\n",
            "    creating build\\lib.win-amd64-3.8\\pandas\\tests\\indexes\\multi\n",
            "    copying pandas\\tests\\indexes\\multi\\conftest.py -> build\\lib.win-amd64-3.8\\pandas\\tests\\indexes\\multi\n",
            "    copying pandas\\tests\\indexes\\multi\\test_analytics.py -> build\\lib.win-amd64-3.8\\pandas\\tests\\indexes\\multi\n",
            "    copying pandas\\tests\\indexes\\multi\\test_astype.py -> build\\lib.win-amd64-3.8\\pandas\\tests\\indexes\\multi\n",
            "    copying pandas\\tests\\indexes\\multi\\test_compat.py -> build\\lib.win-amd64-3.8\\pandas\\tests\\indexes\\multi\n",
            "    copying pandas\\tests\\indexes\\multi\\test_constructor.py -> build\\lib.win-amd64-3.8\\pandas\\tests\\indexes\\multi\n",
            "    copying pandas\\tests\\indexes\\multi\\test_contains.py -> build\\lib.win-amd64-3.8\\pandas\\tests\\indexes\\multi\n",
            "    copying pandas\\tests\\indexes\\multi\\test_conversion.py -> build\\lib.win-amd64-3.8\\pandas\\tests\\indexes\\multi\n",
            "    copying pandas\\tests\\indexes\\multi\\test_copy.py -> build\\lib.win-amd64-3.8\\pandas\\tests\\indexes\\multi\n",
            "    copying pandas\\tests\\indexes\\multi\\test_drop.py -> build\\lib.win-amd64-3.8\\pandas\\tests\\indexes\\multi\n",
            "    copying pandas\\tests\\indexes\\multi\\test_duplicates.py -> build\\lib.win-amd64-3.8\\pandas\\tests\\indexes\\multi\n",
            "    copying pandas\\tests\\indexes\\multi\\test_equivalence.py -> build\\lib.win-amd64-3.8\\pandas\\tests\\indexes\\multi\n",
            "    copying pandas\\tests\\indexes\\multi\\test_format.py -> build\\lib.win-amd64-3.8\\pandas\\tests\\indexes\\multi\n",
            "    copying pandas\\tests\\indexes\\multi\\test_get_set.py -> build\\lib.win-amd64-3.8\\pandas\\tests\\indexes\\multi\n",
            "    copying pandas\\tests\\indexes\\multi\\test_indexing.py -> build\\lib.win-amd64-3.8\\pandas\\tests\\indexes\\multi\n",
            "    copying pandas\\tests\\indexes\\multi\\test_integrity.py -> build\\lib.win-amd64-3.8\\pandas\\tests\\indexes\\multi\n",
            "    copying pandas\\tests\\indexes\\multi\\test_join.py -> build\\lib.win-amd64-3.8\\pandas\\tests\\indexes\\multi\n",
            "    copying pandas\\tests\\indexes\\multi\\test_missing.py -> build\\lib.win-amd64-3.8\\pandas\\tests\\indexes\\multi\n",
            "    copying pandas\\tests\\indexes\\multi\\test_monotonic.py -> build\\lib.win-amd64-3.8\\pandas\\tests\\indexes\\multi\n",
            "    copying pandas\\tests\\indexes\\multi\\test_names.py -> build\\lib.win-amd64-3.8\\pandas\\tests\\indexes\\multi\n",
            "    copying pandas\\tests\\indexes\\multi\\test_partial_indexing.py -> build\\lib.win-amd64-3.8\\pandas\\tests\\indexes\\multi\n",
            "    copying pandas\\tests\\indexes\\multi\\test_reindex.py -> build\\lib.win-amd64-3.8\\pandas\\tests\\indexes\\multi\n",
            "    copying pandas\\tests\\indexes\\multi\\test_reshape.py -> build\\lib.win-amd64-3.8\\pandas\\tests\\indexes\\multi\n",
            "    copying pandas\\tests\\indexes\\multi\\test_set_ops.py -> build\\lib.win-amd64-3.8\\pandas\\tests\\indexes\\multi\n",
            "    copying pandas\\tests\\indexes\\multi\\test_sorting.py -> build\\lib.win-amd64-3.8\\pandas\\tests\\indexes\\multi\n",
            "    copying pandas\\tests\\indexes\\multi\\__init__.py -> build\\lib.win-amd64-3.8\\pandas\\tests\\indexes\\multi\n",
            "    creating build\\lib.win-amd64-3.8\\pandas\\tests\\indexes\\period\n",
            "    copying pandas\\tests\\indexes\\period\\test_arithmetic.py -> build\\lib.win-amd64-3.8\\pandas\\tests\\indexes\\period\n",
            "    copying pandas\\tests\\indexes\\period\\test_asfreq.py -> build\\lib.win-amd64-3.8\\pandas\\tests\\indexes\\period\n",
            "    copying pandas\\tests\\indexes\\period\\test_astype.py -> build\\lib.win-amd64-3.8\\pandas\\tests\\indexes\\period\n",
            "    copying pandas\\tests\\indexes\\period\\test_construction.py -> build\\lib.win-amd64-3.8\\pandas\\tests\\indexes\\period\n",
            "    copying pandas\\tests\\indexes\\period\\test_formats.py -> build\\lib.win-amd64-3.8\\pandas\\tests\\indexes\\period\n",
            "    copying pandas\\tests\\indexes\\period\\test_indexing.py -> build\\lib.win-amd64-3.8\\pandas\\tests\\indexes\\period\n",
            "    copying pandas\\tests\\indexes\\period\\test_ops.py -> build\\lib.win-amd64-3.8\\pandas\\tests\\indexes\\period\n",
            "    copying pandas\\tests\\indexes\\period\\test_partial_slicing.py -> build\\lib.win-amd64-3.8\\pandas\\tests\\indexes\\period\n",
            "    copying pandas\\tests\\indexes\\period\\test_period.py -> build\\lib.win-amd64-3.8\\pandas\\tests\\indexes\\period\n",
            "    copying pandas\\tests\\indexes\\period\\test_period_range.py -> build\\lib.win-amd64-3.8\\pandas\\tests\\indexes\\period\n",
            "    copying pandas\\tests\\indexes\\period\\test_scalar_compat.py -> build\\lib.win-amd64-3.8\\pandas\\tests\\indexes\\period\n",
            "    copying pandas\\tests\\indexes\\period\\test_setops.py -> build\\lib.win-amd64-3.8\\pandas\\tests\\indexes\\period\n",
            "    copying pandas\\tests\\indexes\\period\\test_tools.py -> build\\lib.win-amd64-3.8\\pandas\\tests\\indexes\\period\n",
            "    copying pandas\\tests\\indexes\\period\\__init__.py -> build\\lib.win-amd64-3.8\\pandas\\tests\\indexes\\period\n",
            "    creating build\\lib.win-amd64-3.8\\pandas\\tests\\indexes\\timedeltas\n",
            "    copying pandas\\tests\\indexes\\timedeltas\\test_arithmetic.py -> build\\lib.win-amd64-3.8\\pandas\\tests\\indexes\\timedeltas\n",
            "    copying pandas\\tests\\indexes\\timedeltas\\test_astype.py -> build\\lib.win-amd64-3.8\\pandas\\tests\\indexes\\timedeltas\n",
            "    copying pandas\\tests\\indexes\\timedeltas\\test_construction.py -> build\\lib.win-amd64-3.8\\pandas\\tests\\indexes\\timedeltas\n",
            "    copying pandas\\tests\\indexes\\timedeltas\\test_formats.py -> build\\lib.win-amd64-3.8\\pandas\\tests\\indexes\\timedeltas\n",
            "    copying pandas\\tests\\indexes\\timedeltas\\test_indexing.py -> build\\lib.win-amd64-3.8\\pandas\\tests\\indexes\\timedeltas\n",
            "    copying pandas\\tests\\indexes\\timedeltas\\test_ops.py -> build\\lib.win-amd64-3.8\\pandas\\tests\\indexes\\timedeltas\n",
            "    copying pandas\\tests\\indexes\\timedeltas\\test_partial_slicing.py -> build\\lib.win-amd64-3.8\\pandas\\tests\\indexes\\timedeltas\n",
            "    copying pandas\\tests\\indexes\\timedeltas\\test_scalar_compat.py -> build\\lib.win-amd64-3.8\\pandas\\tests\\indexes\\timedeltas\n",
            "    copying pandas\\tests\\indexes\\timedeltas\\test_setops.py -> build\\lib.win-amd64-3.8\\pandas\\tests\\indexes\\timedeltas\n",
            "    copying pandas\\tests\\indexes\\timedeltas\\test_timedelta.py -> build\\lib.win-amd64-3.8\\pandas\\tests\\indexes\\timedeltas\n",
            "    copying pandas\\tests\\indexes\\timedeltas\\test_timedelta_range.py -> build\\lib.win-amd64-3.8\\pandas\\tests\\indexes\\timedeltas\n",
            "    copying pandas\\tests\\indexes\\timedeltas\\test_tools.py -> build\\lib.win-amd64-3.8\\pandas\\tests\\indexes\\timedeltas\n",
            "    copying pandas\\tests\\indexes\\timedeltas\\__init__.py -> build\\lib.win-amd64-3.8\\pandas\\tests\\indexes\\timedeltas\n",
            "    creating build\\lib.win-amd64-3.8\\pandas\\tests\\indexing\\interval\n",
            "    copying pandas\\tests\\indexing\\interval\\test_interval.py -> build\\lib.win-amd64-3.8\\pandas\\tests\\indexing\\interval\n",
            "    copying pandas\\tests\\indexing\\interval\\test_interval_new.py -> build\\lib.win-amd64-3.8\\pandas\\tests\\indexing\\interval\n",
            "    copying pandas\\tests\\indexing\\interval\\__init__.py -> build\\lib.win-amd64-3.8\\pandas\\tests\\indexing\\interval\n",
            "    creating build\\lib.win-amd64-3.8\\pandas\\tests\\indexing\\multiindex\n",
            "    copying pandas\\tests\\indexing\\multiindex\\conftest.py -> build\\lib.win-amd64-3.8\\pandas\\tests\\indexing\\multiindex\n",
            "    copying pandas\\tests\\indexing\\multiindex\\test_chaining_and_caching.py -> build\\lib.win-amd64-3.8\\pandas\\tests\\indexing\\multiindex\n",
            "    copying pandas\\tests\\indexing\\multiindex\\test_datetime.py -> build\\lib.win-amd64-3.8\\pandas\\tests\\indexing\\multiindex\n",
            "    copying pandas\\tests\\indexing\\multiindex\\test_getitem.py -> build\\lib.win-amd64-3.8\\pandas\\tests\\indexing\\multiindex\n",
            "    copying pandas\\tests\\indexing\\multiindex\\test_iloc.py -> build\\lib.win-amd64-3.8\\pandas\\tests\\indexing\\multiindex\n",
            "    copying pandas\\tests\\indexing\\multiindex\\test_indexing_slow.py -> build\\lib.win-amd64-3.8\\pandas\\tests\\indexing\\multiindex\n",
            "    copying pandas\\tests\\indexing\\multiindex\\test_ix.py -> build\\lib.win-amd64-3.8\\pandas\\tests\\indexing\\multiindex\n",
            "    copying pandas\\tests\\indexing\\multiindex\\test_loc.py -> build\\lib.win-amd64-3.8\\pandas\\tests\\indexing\\multiindex\n",
            "    copying pandas\\tests\\indexing\\multiindex\\test_multiindex.py -> build\\lib.win-amd64-3.8\\pandas\\tests\\indexing\\multiindex\n",
            "    copying pandas\\tests\\indexing\\multiindex\\test_partial.py -> build\\lib.win-amd64-3.8\\pandas\\tests\\indexing\\multiindex\n",
            "    copying pandas\\tests\\indexing\\multiindex\\test_setitem.py -> build\\lib.win-amd64-3.8\\pandas\\tests\\indexing\\multiindex\n",
            "    copying pandas\\tests\\indexing\\multiindex\\test_set_ops.py -> build\\lib.win-amd64-3.8\\pandas\\tests\\indexing\\multiindex\n",
            "    copying pandas\\tests\\indexing\\multiindex\\test_slice.py -> build\\lib.win-amd64-3.8\\pandas\\tests\\indexing\\multiindex\n",
            "    copying pandas\\tests\\indexing\\multiindex\\test_sorted.py -> build\\lib.win-amd64-3.8\\pandas\\tests\\indexing\\multiindex\n",
            "    copying pandas\\tests\\indexing\\multiindex\\test_xs.py -> build\\lib.win-amd64-3.8\\pandas\\tests\\indexing\\multiindex\n",
            "    copying pandas\\tests\\indexing\\multiindex\\__init__.py -> build\\lib.win-amd64-3.8\\pandas\\tests\\indexing\\multiindex\n",
            "    creating build\\lib.win-amd64-3.8\\pandas\\tests\\io\\excel\n",
            "    copying pandas\\tests\\io\\excel\\conftest.py -> build\\lib.win-amd64-3.8\\pandas\\tests\\io\\excel\n",
            "    copying pandas\\tests\\io\\excel\\test_odf.py -> build\\lib.win-amd64-3.8\\pandas\\tests\\io\\excel\n",
            "    copying pandas\\tests\\io\\excel\\test_openpyxl.py -> build\\lib.win-amd64-3.8\\pandas\\tests\\io\\excel\n",
            "    copying pandas\\tests\\io\\excel\\test_readers.py -> build\\lib.win-amd64-3.8\\pandas\\tests\\io\\excel\n",
            "    copying pandas\\tests\\io\\excel\\test_style.py -> build\\lib.win-amd64-3.8\\pandas\\tests\\io\\excel\n",
            "    copying pandas\\tests\\io\\excel\\test_writers.py -> build\\lib.win-amd64-3.8\\pandas\\tests\\io\\excel\n",
            "    copying pandas\\tests\\io\\excel\\test_xlrd.py -> build\\lib.win-amd64-3.8\\pandas\\tests\\io\\excel\n",
            "    copying pandas\\tests\\io\\excel\\test_xlsxwriter.py -> build\\lib.win-amd64-3.8\\pandas\\tests\\io\\excel\n",
            "    copying pandas\\tests\\io\\excel\\test_xlwt.py -> build\\lib.win-amd64-3.8\\pandas\\tests\\io\\excel\n",
            "    copying pandas\\tests\\io\\excel\\__init__.py -> build\\lib.win-amd64-3.8\\pandas\\tests\\io\\excel\n",
            "    creating build\\lib.win-amd64-3.8\\pandas\\tests\\io\\formats\n",
            "    copying pandas\\tests\\io\\formats\\test_console.py -> build\\lib.win-amd64-3.8\\pandas\\tests\\io\\formats\n",
            "    copying pandas\\tests\\io\\formats\\test_css.py -> build\\lib.win-amd64-3.8\\pandas\\tests\\io\\formats\n",
            "    copying pandas\\tests\\io\\formats\\test_eng_formatting.py -> build\\lib.win-amd64-3.8\\pandas\\tests\\io\\formats\n",
            "    copying pandas\\tests\\io\\formats\\test_format.py -> build\\lib.win-amd64-3.8\\pandas\\tests\\io\\formats\n",
            "    copying pandas\\tests\\io\\formats\\test_printing.py -> build\\lib.win-amd64-3.8\\pandas\\tests\\io\\formats\n",
            "    copying pandas\\tests\\io\\formats\\test_style.py -> build\\lib.win-amd64-3.8\\pandas\\tests\\io\\formats\n",
            "    copying pandas\\tests\\io\\formats\\test_to_csv.py -> build\\lib.win-amd64-3.8\\pandas\\tests\\io\\formats\n",
            "    copying pandas\\tests\\io\\formats\\test_to_excel.py -> build\\lib.win-amd64-3.8\\pandas\\tests\\io\\formats\n",
            "    copying pandas\\tests\\io\\formats\\test_to_html.py -> build\\lib.win-amd64-3.8\\pandas\\tests\\io\\formats\n",
            "    copying pandas\\tests\\io\\formats\\test_to_latex.py -> build\\lib.win-amd64-3.8\\pandas\\tests\\io\\formats\n",
            "    copying pandas\\tests\\io\\formats\\__init__.py -> build\\lib.win-amd64-3.8\\pandas\\tests\\io\\formats\n",
            "    creating build\\lib.win-amd64-3.8\\pandas\\tests\\io\\json\n",
            "    copying pandas\\tests\\io\\json\\test_compression.py -> build\\lib.win-amd64-3.8\\pandas\\tests\\io\\json\n",
            "    copying pandas\\tests\\io\\json\\test_json_table_schema.py -> build\\lib.win-amd64-3.8\\pandas\\tests\\io\\json\n",
            "    copying pandas\\tests\\io\\json\\test_normalize.py -> build\\lib.win-amd64-3.8\\pandas\\tests\\io\\json\n",
            "    copying pandas\\tests\\io\\json\\test_pandas.py -> build\\lib.win-amd64-3.8\\pandas\\tests\\io\\json\n",
            "    copying pandas\\tests\\io\\json\\test_readlines.py -> build\\lib.win-amd64-3.8\\pandas\\tests\\io\\json\n",
            "    copying pandas\\tests\\io\\json\\test_ujson.py -> build\\lib.win-amd64-3.8\\pandas\\tests\\io\\json\n",
            "    copying pandas\\tests\\io\\json\\__init__.py -> build\\lib.win-amd64-3.8\\pandas\\tests\\io\\json\n",
            "    creating build\\lib.win-amd64-3.8\\pandas\\tests\\io\\msgpack\n",
            "    copying pandas\\tests\\io\\msgpack\\common.py -> build\\lib.win-amd64-3.8\\pandas\\tests\\io\\msgpack\n",
            "    copying pandas\\tests\\io\\msgpack\\test_buffer.py -> build\\lib.win-amd64-3.8\\pandas\\tests\\io\\msgpack\n",
            "    copying pandas\\tests\\io\\msgpack\\test_case.py -> build\\lib.win-amd64-3.8\\pandas\\tests\\io\\msgpack\n",
            "    copying pandas\\tests\\io\\msgpack\\test_except.py -> build\\lib.win-amd64-3.8\\pandas\\tests\\io\\msgpack\n",
            "    copying pandas\\tests\\io\\msgpack\\test_extension.py -> build\\lib.win-amd64-3.8\\pandas\\tests\\io\\msgpack\n",
            "    copying pandas\\tests\\io\\msgpack\\test_format.py -> build\\lib.win-amd64-3.8\\pandas\\tests\\io\\msgpack\n",
            "    copying pandas\\tests\\io\\msgpack\\test_limits.py -> build\\lib.win-amd64-3.8\\pandas\\tests\\io\\msgpack\n",
            "    copying pandas\\tests\\io\\msgpack\\test_newspec.py -> build\\lib.win-amd64-3.8\\pandas\\tests\\io\\msgpack\n",
            "    copying pandas\\tests\\io\\msgpack\\test_obj.py -> build\\lib.win-amd64-3.8\\pandas\\tests\\io\\msgpack\n",
            "    copying pandas\\tests\\io\\msgpack\\test_pack.py -> build\\lib.win-amd64-3.8\\pandas\\tests\\io\\msgpack\n",
            "    copying pandas\\tests\\io\\msgpack\\test_read_size.py -> build\\lib.win-amd64-3.8\\pandas\\tests\\io\\msgpack\n",
            "    copying pandas\\tests\\io\\msgpack\\test_seq.py -> build\\lib.win-amd64-3.8\\pandas\\tests\\io\\msgpack\n",
            "    copying pandas\\tests\\io\\msgpack\\test_sequnpack.py -> build\\lib.win-amd64-3.8\\pandas\\tests\\io\\msgpack\n",
            "    copying pandas\\tests\\io\\msgpack\\test_subtype.py -> build\\lib.win-amd64-3.8\\pandas\\tests\\io\\msgpack\n",
            "    copying pandas\\tests\\io\\msgpack\\test_unpack.py -> build\\lib.win-amd64-3.8\\pandas\\tests\\io\\msgpack\n",
            "    copying pandas\\tests\\io\\msgpack\\test_unpack_raw.py -> build\\lib.win-amd64-3.8\\pandas\\tests\\io\\msgpack\n",
            "    copying pandas\\tests\\io\\msgpack\\__init__.py -> build\\lib.win-amd64-3.8\\pandas\\tests\\io\\msgpack\n",
            "    creating build\\lib.win-amd64-3.8\\pandas\\tests\\io\\parser\n",
            "    copying pandas\\tests\\io\\parser\\conftest.py -> build\\lib.win-amd64-3.8\\pandas\\tests\\io\\parser\n",
            "    copying pandas\\tests\\io\\parser\\test_comment.py -> build\\lib.win-amd64-3.8\\pandas\\tests\\io\\parser\n",
            "    copying pandas\\tests\\io\\parser\\test_common.py -> build\\lib.win-amd64-3.8\\pandas\\tests\\io\\parser\n",
            "    copying pandas\\tests\\io\\parser\\test_compression.py -> build\\lib.win-amd64-3.8\\pandas\\tests\\io\\parser\n",
            "    copying pandas\\tests\\io\\parser\\test_converters.py -> build\\lib.win-amd64-3.8\\pandas\\tests\\io\\parser\n",
            "    copying pandas\\tests\\io\\parser\\test_c_parser_only.py -> build\\lib.win-amd64-3.8\\pandas\\tests\\io\\parser\n",
            "    copying pandas\\tests\\io\\parser\\test_dialect.py -> build\\lib.win-amd64-3.8\\pandas\\tests\\io\\parser\n",
            "    copying pandas\\tests\\io\\parser\\test_dtypes.py -> build\\lib.win-amd64-3.8\\pandas\\tests\\io\\parser\n",
            "    copying pandas\\tests\\io\\parser\\test_header.py -> build\\lib.win-amd64-3.8\\pandas\\tests\\io\\parser\n",
            "    copying pandas\\tests\\io\\parser\\test_index_col.py -> build\\lib.win-amd64-3.8\\pandas\\tests\\io\\parser\n",
            "    copying pandas\\tests\\io\\parser\\test_mangle_dupes.py -> build\\lib.win-amd64-3.8\\pandas\\tests\\io\\parser\n",
            "    copying pandas\\tests\\io\\parser\\test_multi_thread.py -> build\\lib.win-amd64-3.8\\pandas\\tests\\io\\parser\n",
            "    copying pandas\\tests\\io\\parser\\test_na_values.py -> build\\lib.win-amd64-3.8\\pandas\\tests\\io\\parser\n",
            "    copying pandas\\tests\\io\\parser\\test_network.py -> build\\lib.win-amd64-3.8\\pandas\\tests\\io\\parser\n",
            "    copying pandas\\tests\\io\\parser\\test_parse_dates.py -> build\\lib.win-amd64-3.8\\pandas\\tests\\io\\parser\n",
            "    copying pandas\\tests\\io\\parser\\test_python_parser_only.py -> build\\lib.win-amd64-3.8\\pandas\\tests\\io\\parser\n",
            "    copying pandas\\tests\\io\\parser\\test_quoting.py -> build\\lib.win-amd64-3.8\\pandas\\tests\\io\\parser\n",
            "    copying pandas\\tests\\io\\parser\\test_read_fwf.py -> build\\lib.win-amd64-3.8\\pandas\\tests\\io\\parser\n",
            "    copying pandas\\tests\\io\\parser\\test_skiprows.py -> build\\lib.win-amd64-3.8\\pandas\\tests\\io\\parser\n",
            "    copying pandas\\tests\\io\\parser\\test_textreader.py -> build\\lib.win-amd64-3.8\\pandas\\tests\\io\\parser\n",
            "    copying pandas\\tests\\io\\parser\\test_unsupported.py -> build\\lib.win-amd64-3.8\\pandas\\tests\\io\\parser\n",
            "    copying pandas\\tests\\io\\parser\\test_usecols.py -> build\\lib.win-amd64-3.8\\pandas\\tests\\io\\parser\n",
            "    copying pandas\\tests\\io\\parser\\__init__.py -> build\\lib.win-amd64-3.8\\pandas\\tests\\io\\parser\n",
            "    creating build\\lib.win-amd64-3.8\\pandas\\tests\\io\\pytables\n",
            "    copying pandas\\tests\\io\\pytables\\test_compat.py -> build\\lib.win-amd64-3.8\\pandas\\tests\\io\\pytables\n",
            "    copying pandas\\tests\\io\\pytables\\test_pytables.py -> build\\lib.win-amd64-3.8\\pandas\\tests\\io\\pytables\n",
            "    copying pandas\\tests\\io\\pytables\\test_pytables_missing.py -> build\\lib.win-amd64-3.8\\pandas\\tests\\io\\pytables\n",
            "    copying pandas\\tests\\io\\pytables\\__init__.py -> build\\lib.win-amd64-3.8\\pandas\\tests\\io\\pytables\n",
            "    creating build\\lib.win-amd64-3.8\\pandas\\tests\\io\\sas\n",
            "    copying pandas\\tests\\io\\sas\\test_sas.py -> build\\lib.win-amd64-3.8\\pandas\\tests\\io\\sas\n",
            "    copying pandas\\tests\\io\\sas\\test_sas7bdat.py -> build\\lib.win-amd64-3.8\\pandas\\tests\\io\\sas\n",
            "    copying pandas\\tests\\io\\sas\\test_xport.py -> build\\lib.win-amd64-3.8\\pandas\\tests\\io\\sas\n",
            "    copying pandas\\tests\\io\\sas\\__init__.py -> build\\lib.win-amd64-3.8\\pandas\\tests\\io\\sas\n",
            "    creating build\\lib.win-amd64-3.8\\pandas\\tests\\reshape\\merge\n",
            "    copying pandas\\tests\\reshape\\merge\\test_join.py -> build\\lib.win-amd64-3.8\\pandas\\tests\\reshape\\merge\n",
            "    copying pandas\\tests\\reshape\\merge\\test_merge.py -> build\\lib.win-amd64-3.8\\pandas\\tests\\reshape\\merge\n",
            "    copying pandas\\tests\\reshape\\merge\\test_merge_asof.py -> build\\lib.win-amd64-3.8\\pandas\\tests\\reshape\\merge\n",
            "    copying pandas\\tests\\reshape\\merge\\test_merge_index_as_string.py -> build\\lib.win-amd64-3.8\\pandas\\tests\\reshape\\merge\n",
            "    copying pandas\\tests\\reshape\\merge\\test_merge_ordered.py -> build\\lib.win-amd64-3.8\\pandas\\tests\\reshape\\merge\n",
            "    copying pandas\\tests\\reshape\\merge\\test_multi.py -> build\\lib.win-amd64-3.8\\pandas\\tests\\reshape\\merge\n",
            "    copying pandas\\tests\\reshape\\merge\\__init__.py -> build\\lib.win-amd64-3.8\\pandas\\tests\\reshape\\merge\n",
            "    creating build\\lib.win-amd64-3.8\\pandas\\tests\\scalar\\interval\n",
            "    copying pandas\\tests\\scalar\\interval\\test_interval.py -> build\\lib.win-amd64-3.8\\pandas\\tests\\scalar\\interval\n",
            "    copying pandas\\tests\\scalar\\interval\\test_ops.py -> build\\lib.win-amd64-3.8\\pandas\\tests\\scalar\\interval\n",
            "    copying pandas\\tests\\scalar\\interval\\__init__.py -> build\\lib.win-amd64-3.8\\pandas\\tests\\scalar\\interval\n",
            "    creating build\\lib.win-amd64-3.8\\pandas\\tests\\scalar\\period\n",
            "    copying pandas\\tests\\scalar\\period\\test_asfreq.py -> build\\lib.win-amd64-3.8\\pandas\\tests\\scalar\\period\n",
            "    copying pandas\\tests\\scalar\\period\\test_period.py -> build\\lib.win-amd64-3.8\\pandas\\tests\\scalar\\period\n",
            "    copying pandas\\tests\\scalar\\period\\__init__.py -> build\\lib.win-amd64-3.8\\pandas\\tests\\scalar\\period\n",
            "    creating build\\lib.win-amd64-3.8\\pandas\\tests\\scalar\\timedelta\n",
            "    copying pandas\\tests\\scalar\\timedelta\\test_arithmetic.py -> build\\lib.win-amd64-3.8\\pandas\\tests\\scalar\\timedelta\n",
            "    copying pandas\\tests\\scalar\\timedelta\\test_construction.py -> build\\lib.win-amd64-3.8\\pandas\\tests\\scalar\\timedelta\n",
            "    copying pandas\\tests\\scalar\\timedelta\\test_formats.py -> build\\lib.win-amd64-3.8\\pandas\\tests\\scalar\\timedelta\n",
            "    copying pandas\\tests\\scalar\\timedelta\\test_timedelta.py -> build\\lib.win-amd64-3.8\\pandas\\tests\\scalar\\timedelta\n",
            "    copying pandas\\tests\\scalar\\timedelta\\__init__.py -> build\\lib.win-amd64-3.8\\pandas\\tests\\scalar\\timedelta\n",
            "    creating build\\lib.win-amd64-3.8\\pandas\\tests\\scalar\\timestamp\n",
            "    copying pandas\\tests\\scalar\\timestamp\\test_arithmetic.py -> build\\lib.win-amd64-3.8\\pandas\\tests\\scalar\\timestamp\n",
            "    copying pandas\\tests\\scalar\\timestamp\\test_comparisons.py -> build\\lib.win-amd64-3.8\\pandas\\tests\\scalar\\timestamp\n",
            "    copying pandas\\tests\\scalar\\timestamp\\test_rendering.py -> build\\lib.win-amd64-3.8\\pandas\\tests\\scalar\\timestamp\n",
            "    copying pandas\\tests\\scalar\\timestamp\\test_timestamp.py -> build\\lib.win-amd64-3.8\\pandas\\tests\\scalar\\timestamp\n",
            "    copying pandas\\tests\\scalar\\timestamp\\test_timezones.py -> build\\lib.win-amd64-3.8\\pandas\\tests\\scalar\\timestamp\n",
            "    copying pandas\\tests\\scalar\\timestamp\\test_unary_ops.py -> build\\lib.win-amd64-3.8\\pandas\\tests\\scalar\\timestamp\n",
            "    copying pandas\\tests\\scalar\\timestamp\\__init__.py -> build\\lib.win-amd64-3.8\\pandas\\tests\\scalar\\timestamp\n",
            "    creating build\\lib.win-amd64-3.8\\pandas\\tests\\series\\indexing\n",
            "    copying pandas\\tests\\series\\indexing\\conftest.py -> build\\lib.win-amd64-3.8\\pandas\\tests\\series\\indexing\n",
            "    copying pandas\\tests\\series\\indexing\\test_alter_index.py -> build\\lib.win-amd64-3.8\\pandas\\tests\\series\\indexing\n",
            "    copying pandas\\tests\\series\\indexing\\test_boolean.py -> build\\lib.win-amd64-3.8\\pandas\\tests\\series\\indexing\n",
            "    copying pandas\\tests\\series\\indexing\\test_callable.py -> build\\lib.win-amd64-3.8\\pandas\\tests\\series\\indexing\n",
            "    copying pandas\\tests\\series\\indexing\\test_datetime.py -> build\\lib.win-amd64-3.8\\pandas\\tests\\series\\indexing\n",
            "    copying pandas\\tests\\series\\indexing\\test_iloc.py -> build\\lib.win-amd64-3.8\\pandas\\tests\\series\\indexing\n",
            "    copying pandas\\tests\\series\\indexing\\test_indexing.py -> build\\lib.win-amd64-3.8\\pandas\\tests\\series\\indexing\n",
            "    copying pandas\\tests\\series\\indexing\\test_loc.py -> build\\lib.win-amd64-3.8\\pandas\\tests\\series\\indexing\n",
            "    copying pandas\\tests\\series\\indexing\\test_numeric.py -> build\\lib.win-amd64-3.8\\pandas\\tests\\series\\indexing\n",
            "    copying pandas\\tests\\series\\indexing\\__init__.py -> build\\lib.win-amd64-3.8\\pandas\\tests\\series\\indexing\n",
            "    creating build\\lib.win-amd64-3.8\\pandas\\tests\\sparse\\frame\n",
            "    copying pandas\\tests\\sparse\\frame\\conftest.py -> build\\lib.win-amd64-3.8\\pandas\\tests\\sparse\\frame\n",
            "    copying pandas\\tests\\sparse\\frame\\test_analytics.py -> build\\lib.win-amd64-3.8\\pandas\\tests\\sparse\\frame\n",
            "    copying pandas\\tests\\sparse\\frame\\test_apply.py -> build\\lib.win-amd64-3.8\\pandas\\tests\\sparse\\frame\n",
            "    copying pandas\\tests\\sparse\\frame\\test_frame.py -> build\\lib.win-amd64-3.8\\pandas\\tests\\sparse\\frame\n",
            "    copying pandas\\tests\\sparse\\frame\\test_indexing.py -> build\\lib.win-amd64-3.8\\pandas\\tests\\sparse\\frame\n",
            "    copying pandas\\tests\\sparse\\frame\\test_to_csv.py -> build\\lib.win-amd64-3.8\\pandas\\tests\\sparse\\frame\n",
            "    copying pandas\\tests\\sparse\\frame\\test_to_from_scipy.py -> build\\lib.win-amd64-3.8\\pandas\\tests\\sparse\\frame\n",
            "    copying pandas\\tests\\sparse\\frame\\__init__.py -> build\\lib.win-amd64-3.8\\pandas\\tests\\sparse\\frame\n",
            "    creating build\\lib.win-amd64-3.8\\pandas\\tests\\sparse\\series\n",
            "    copying pandas\\tests\\sparse\\series\\test_indexing.py -> build\\lib.win-amd64-3.8\\pandas\\tests\\sparse\\series\n",
            "    copying pandas\\tests\\sparse\\series\\test_series.py -> build\\lib.win-amd64-3.8\\pandas\\tests\\sparse\\series\n",
            "    copying pandas\\tests\\sparse\\series\\__init__.py -> build\\lib.win-amd64-3.8\\pandas\\tests\\sparse\\series\n",
            "    creating build\\lib.win-amd64-3.8\\pandas\\tests\\tseries\\frequencies\n",
            "    copying pandas\\tests\\tseries\\frequencies\\test_freq_code.py -> build\\lib.win-amd64-3.8\\pandas\\tests\\tseries\\frequencies\n",
            "    copying pandas\\tests\\tseries\\frequencies\\test_inference.py -> build\\lib.win-amd64-3.8\\pandas\\tests\\tseries\\frequencies\n",
            "    copying pandas\\tests\\tseries\\frequencies\\test_to_offset.py -> build\\lib.win-amd64-3.8\\pandas\\tests\\tseries\\frequencies\n",
            "    copying pandas\\tests\\tseries\\frequencies\\__init__.py -> build\\lib.win-amd64-3.8\\pandas\\tests\\tseries\\frequencies\n",
            "    creating build\\lib.win-amd64-3.8\\pandas\\tests\\tseries\\holiday\n",
            "    copying pandas\\tests\\tseries\\holiday\\test_calendar.py -> build\\lib.win-amd64-3.8\\pandas\\tests\\tseries\\holiday\n",
            "    copying pandas\\tests\\tseries\\holiday\\test_federal.py -> build\\lib.win-amd64-3.8\\pandas\\tests\\tseries\\holiday\n",
            "    copying pandas\\tests\\tseries\\holiday\\test_holiday.py -> build\\lib.win-amd64-3.8\\pandas\\tests\\tseries\\holiday\n",
            "    copying pandas\\tests\\tseries\\holiday\\test_observance.py -> build\\lib.win-amd64-3.8\\pandas\\tests\\tseries\\holiday\n",
            "    copying pandas\\tests\\tseries\\holiday\\__init__.py -> build\\lib.win-amd64-3.8\\pandas\\tests\\tseries\\holiday\n",
            "    creating build\\lib.win-amd64-3.8\\pandas\\tests\\tseries\\offsets\n",
            "    copying pandas\\tests\\tseries\\offsets\\common.py -> build\\lib.win-amd64-3.8\\pandas\\tests\\tseries\\offsets\n",
            "    copying pandas\\tests\\tseries\\offsets\\conftest.py -> build\\lib.win-amd64-3.8\\pandas\\tests\\tseries\\offsets\n",
            "    copying pandas\\tests\\tseries\\offsets\\test_fiscal.py -> build\\lib.win-amd64-3.8\\pandas\\tests\\tseries\\offsets\n",
            "    copying pandas\\tests\\tseries\\offsets\\test_offsets.py -> build\\lib.win-amd64-3.8\\pandas\\tests\\tseries\\offsets\n",
            "    copying pandas\\tests\\tseries\\offsets\\test_offsets_properties.py -> build\\lib.win-amd64-3.8\\pandas\\tests\\tseries\\offsets\n",
            "    copying pandas\\tests\\tseries\\offsets\\test_ticks.py -> build\\lib.win-amd64-3.8\\pandas\\tests\\tseries\\offsets\n",
            "    copying pandas\\tests\\tseries\\offsets\\test_yqm_offsets.py -> build\\lib.win-amd64-3.8\\pandas\\tests\\tseries\\offsets\n",
            "    copying pandas\\tests\\tseries\\offsets\\__init__.py -> build\\lib.win-amd64-3.8\\pandas\\tests\\tseries\\offsets\n",
            "    creating build\\lib.win-amd64-3.8\\pandas\\_libs\\tslibs\n",
            "    copying pandas\\_libs\\tslibs\\__init__.py -> build\\lib.win-amd64-3.8\\pandas\\_libs\\tslibs\n",
            "    creating build\\lib.win-amd64-3.8\\pandas\\io\\formats\\templates\n",
            "    copying pandas\\io\\formats\\templates\\html.tpl -> build\\lib.win-amd64-3.8\\pandas\\io\\formats\\templates\n",
            "    UPDATING build\\lib.win-amd64-3.8\\pandas/_version.py\n",
            "    set build\\lib.win-amd64-3.8\\pandas/_version.py to '0.25.0'\n",
            "    running build_ext\n",
            "    building 'pandas._libs.algos' extension\n",
            "    error: Microsoft Visual C++ 14.0 or greater is required. Get it with \"Microsoft C++ Build Tools\": https://visualstudio.microsoft.com/visual-cpp-build-tools/\n",
            "    ----------------------------------------\n",
            "ERROR: Command errored out with exit status 1: 'C:\\Users\\ITQLAP\\anaconda3\\python.exe' -u -c 'import sys, setuptools, tokenize; sys.argv[0] = '\"'\"'C:\\\\Users\\\\ITQLAP\\\\AppData\\\\Local\\\\Temp\\\\pip-install-s8vznsxb\\\\pandas\\\\setup.py'\"'\"'; __file__='\"'\"'C:\\\\Users\\\\ITQLAP\\\\AppData\\\\Local\\\\Temp\\\\pip-install-s8vznsxb\\\\pandas\\\\setup.py'\"'\"';f=getattr(tokenize, '\"'\"'open'\"'\"', open)(__file__);code=f.read().replace('\"'\"'\\r\\n'\"'\"', '\"'\"'\\n'\"'\"');f.close();exec(compile(code, __file__, '\"'\"'exec'\"'\"'))' install --record 'C:\\Users\\ITQLAP\\AppData\\Local\\Temp\\pip-record-4tp11ac7\\install-record.txt' --single-version-externally-managed --compile --install-headers 'C:\\Users\\ITQLAP\\anaconda3\\Include\\pandas' Check the logs for full command output.\n"
          ]
        }
      ]
    },
    {
      "cell_type": "markdown",
      "metadata": {
        "id": "H0muZAkqgGD4"
      },
      "source": [
        "---\n",
        "<a name = Section4></a>\n",
        "# **4. Data Acquisition & Description**\n",
        "---\n",
        "\n",
        "\n",
        "- The adverstising dataset captures sales generated with respect to advertisement spends across multiple channles like **radio**, **tv** and **newspaper**.\n",
        "\n",
        "- The Data can be retrieved from the attached <a href = \"https://raw.githubusercontent.com/insaid2018/Term-2/master/CaseStudy/Advertising.csv\">**link**</a>.\n",
        "\n",
        "| Records | Features | Dataset Size |\n",
        "| :-- | :-- | :-- |\n",
        "| 200 | 4 | 7.80 KB| \n",
        "\n",
        "\n",
        "| Id | Features | Description |\n",
        "| :-- | :--| :--| \n",
        "|01| **TV** | Spends on TV |\n",
        "|02| **radio** | Spends on radio | \n",
        "|03|**newspaper**|Spends on newspaper|\n",
        "|04|**sales**|No. of units sold (in Thousands)|"
      ]
    },
    {
      "cell_type": "code",
      "metadata": {
        "colab": {
          "base_uri": "https://localhost:8080/",
          "height": 212
        },
        "id": "LcnQY15yLyg6",
        "outputId": "2499ab11-9166-45bc-f130-0c27e333733c"
      },
      "source": [
        "data = pd.read_csv('https://raw.githubusercontent.com/insaid2018/Term-2/master/CaseStudy/Advertising.csv', index_col=0) \n",
        "print('Data Shape:', data.shape)\n",
        "data.head()"
      ],
      "execution_count": null,
      "outputs": [
        {
          "name": "stdout",
          "output_type": "stream",
          "text": [
            "Data Shape: (200, 4)\n"
          ]
        },
        {
          "data": {
            "text/html": [
              "<div>\n",
              "<style scoped>\n",
              "    .dataframe tbody tr th:only-of-type {\n",
              "        vertical-align: middle;\n",
              "    }\n",
              "\n",
              "    .dataframe tbody tr th {\n",
              "        vertical-align: top;\n",
              "    }\n",
              "\n",
              "    .dataframe thead th {\n",
              "        text-align: right;\n",
              "    }\n",
              "</style>\n",
              "<table border=\"1\" class=\"dataframe\">\n",
              "  <thead>\n",
              "    <tr style=\"text-align: right;\">\n",
              "      <th></th>\n",
              "      <th>TV</th>\n",
              "      <th>radio</th>\n",
              "      <th>newspaper</th>\n",
              "      <th>sales</th>\n",
              "    </tr>\n",
              "  </thead>\n",
              "  <tbody>\n",
              "    <tr>\n",
              "      <th>1</th>\n",
              "      <td>230.10000</td>\n",
              "      <td>37.80000</td>\n",
              "      <td>69.20000</td>\n",
              "      <td>22.10000</td>\n",
              "    </tr>\n",
              "    <tr>\n",
              "      <th>2</th>\n",
              "      <td>44.50000</td>\n",
              "      <td>39.30000</td>\n",
              "      <td>45.10000</td>\n",
              "      <td>10.40000</td>\n",
              "    </tr>\n",
              "    <tr>\n",
              "      <th>3</th>\n",
              "      <td>17.20000</td>\n",
              "      <td>45.90000</td>\n",
              "      <td>69.30000</td>\n",
              "      <td>9.30000</td>\n",
              "    </tr>\n",
              "    <tr>\n",
              "      <th>4</th>\n",
              "      <td>151.50000</td>\n",
              "      <td>41.30000</td>\n",
              "      <td>58.50000</td>\n",
              "      <td>18.50000</td>\n",
              "    </tr>\n",
              "    <tr>\n",
              "      <th>5</th>\n",
              "      <td>180.80000</td>\n",
              "      <td>10.80000</td>\n",
              "      <td>58.40000</td>\n",
              "      <td>12.90000</td>\n",
              "    </tr>\n",
              "  </tbody>\n",
              "</table>\n",
              "</div>"
            ],
            "text/plain": [
              "         TV    radio  newspaper    sales\n",
              "1 230.10000 37.80000   69.20000 22.10000\n",
              "2  44.50000 39.30000   45.10000 10.40000\n",
              "3  17.20000 45.90000   69.30000  9.30000\n",
              "4 151.50000 41.30000   58.50000 18.50000\n",
              "5 180.80000 10.80000   58.40000 12.90000"
            ]
          },
          "execution_count": 3,
          "metadata": {},
          "output_type": "execute_result"
        }
      ]
    },
    {
      "cell_type": "markdown",
      "metadata": {
        "id": "pXPr7iRDxMd8"
      },
      "source": [
        "- The dataset contains **200** rows and **4** columns. "
      ]
    },
    {
      "cell_type": "markdown",
      "metadata": {
        "id": "IWLkJZjWx2s9"
      },
      "source": [
        "<a name = Section41></a>\n",
        "### **4.1 Data Description**\n",
        "\n",
        "- In this section we will get **information about the data** and see some observations."
      ]
    },
    {
      "cell_type": "code",
      "metadata": {
        "colab": {
          "base_uri": "https://localhost:8080/",
          "height": 284
        },
        "id": "WnCXRrD-53TQ",
        "outputId": "010579e9-654e-42d9-e51f-3540b610e36e"
      },
      "source": [
        "data.describe()"
      ],
      "execution_count": null,
      "outputs": [
        {
          "data": {
            "text/html": [
              "<div>\n",
              "<style scoped>\n",
              "    .dataframe tbody tr th:only-of-type {\n",
              "        vertical-align: middle;\n",
              "    }\n",
              "\n",
              "    .dataframe tbody tr th {\n",
              "        vertical-align: top;\n",
              "    }\n",
              "\n",
              "    .dataframe thead th {\n",
              "        text-align: right;\n",
              "    }\n",
              "</style>\n",
              "<table border=\"1\" class=\"dataframe\">\n",
              "  <thead>\n",
              "    <tr style=\"text-align: right;\">\n",
              "      <th></th>\n",
              "      <th>TV</th>\n",
              "      <th>radio</th>\n",
              "      <th>newspaper</th>\n",
              "      <th>sales</th>\n",
              "    </tr>\n",
              "  </thead>\n",
              "  <tbody>\n",
              "    <tr>\n",
              "      <th>count</th>\n",
              "      <td>200.00000</td>\n",
              "      <td>200.00000</td>\n",
              "      <td>200.00000</td>\n",
              "      <td>200.00000</td>\n",
              "    </tr>\n",
              "    <tr>\n",
              "      <th>mean</th>\n",
              "      <td>147.04250</td>\n",
              "      <td>23.26400</td>\n",
              "      <td>30.55400</td>\n",
              "      <td>14.02250</td>\n",
              "    </tr>\n",
              "    <tr>\n",
              "      <th>std</th>\n",
              "      <td>85.85424</td>\n",
              "      <td>14.84681</td>\n",
              "      <td>21.77862</td>\n",
              "      <td>5.21746</td>\n",
              "    </tr>\n",
              "    <tr>\n",
              "      <th>min</th>\n",
              "      <td>0.70000</td>\n",
              "      <td>0.00000</td>\n",
              "      <td>0.30000</td>\n",
              "      <td>1.60000</td>\n",
              "    </tr>\n",
              "    <tr>\n",
              "      <th>25%</th>\n",
              "      <td>74.37500</td>\n",
              "      <td>9.97500</td>\n",
              "      <td>12.75000</td>\n",
              "      <td>10.37500</td>\n",
              "    </tr>\n",
              "    <tr>\n",
              "      <th>50%</th>\n",
              "      <td>149.75000</td>\n",
              "      <td>22.90000</td>\n",
              "      <td>25.75000</td>\n",
              "      <td>12.90000</td>\n",
              "    </tr>\n",
              "    <tr>\n",
              "      <th>75%</th>\n",
              "      <td>218.82500</td>\n",
              "      <td>36.52500</td>\n",
              "      <td>45.10000</td>\n",
              "      <td>17.40000</td>\n",
              "    </tr>\n",
              "    <tr>\n",
              "      <th>max</th>\n",
              "      <td>296.40000</td>\n",
              "      <td>49.60000</td>\n",
              "      <td>114.00000</td>\n",
              "      <td>27.00000</td>\n",
              "    </tr>\n",
              "  </tbody>\n",
              "</table>\n",
              "</div>"
            ],
            "text/plain": [
              "             TV     radio  newspaper     sales\n",
              "count 200.00000 200.00000  200.00000 200.00000\n",
              "mean  147.04250  23.26400   30.55400  14.02250\n",
              "std    85.85424  14.84681   21.77862   5.21746\n",
              "min     0.70000   0.00000    0.30000   1.60000\n",
              "25%    74.37500   9.97500   12.75000  10.37500\n",
              "50%   149.75000  22.90000   25.75000  12.90000\n",
              "75%   218.82500  36.52500   45.10000  17.40000\n",
              "max   296.40000  49.60000  114.00000  27.00000"
            ]
          },
          "execution_count": 4,
          "metadata": {},
          "output_type": "execute_result"
        }
      ]
    },
    {
      "cell_type": "markdown",
      "metadata": {
        "id": "z9uuutUfUwVr"
      },
      "source": [
        "**Observation:**\n",
        "\n",
        "- The **average** value of **sales** is **14k** units.\n",
        "\n",
        "- The **maximum** value of **sales** is **27k** units.\n",
        "\n",
        "- The **maximum** amount spend on **TV**. **radio** and **newspaper** is found to be **296**, **50** and **114** dollars respectively\n",
        "\n",
        "- The **least** amount on advertising is spend on **radio**\n"
      ]
    },
    {
      "cell_type": "markdown",
      "metadata": {
        "id": "ofXq-dE8x5lZ"
      },
      "source": [
        "<a name = Section42></a>\n",
        "### **4.2 Data Information**\n",
        "\n",
        "- In this section we will see the **information about the types of features**."
      ]
    },
    {
      "cell_type": "code",
      "metadata": {
        "colab": {
          "base_uri": "https://localhost:8080/",
          "height": 168
        },
        "id": "QwuLcr4d8Ui4",
        "outputId": "836e42fa-bcb6-4271-971a-f97c7ac97130"
      },
      "source": [
        "data.info(verbose = True, memory_usage = 'deep', null_counts = True)"
      ],
      "execution_count": null,
      "outputs": [
        {
          "name": "stdout",
          "output_type": "stream",
          "text": [
            "<class 'pandas.core.frame.DataFrame'>\n",
            "Int64Index: 200 entries, 1 to 200\n",
            "Data columns (total 4 columns):\n",
            " #   Column     Non-Null Count  Dtype  \n",
            "---  ------     --------------  -----  \n",
            " 0   TV         200 non-null    float64\n",
            " 1   radio      200 non-null    float64\n",
            " 2   newspaper  200 non-null    float64\n",
            " 3   sales      200 non-null    float64\n",
            "dtypes: float64(4)\n",
            "memory usage: 7.8 KB\n"
          ]
        }
      ]
    },
    {
      "cell_type": "markdown",
      "metadata": {
        "id": "Vx0yT5J7WVpf"
      },
      "source": [
        "**Observation:**\n",
        "\n",
        "- There are **no null values present** in this data set.\n",
        "\n",
        "- **Each feature** seems to have **correct data type**."
      ]
    },
    {
      "cell_type": "markdown",
      "metadata": {
        "id": "r0behJ7WzHFy"
      },
      "source": [
        "<a name = Section5></a>\n",
        "\n",
        "---\n",
        "# **5. Data Pre-Processing**\n",
        "---"
      ]
    },
    {
      "cell_type": "markdown",
      "metadata": {
        "id": "_4Hr34Dky1f0"
      },
      "source": [
        "<a name = Section51></a>\n",
        "### **5.1 Pre Profiling Report**\n",
        "\n",
        "- For **quick analysis** pandas profiling is very handy.\n",
        "\n",
        "- Generates profile reports from a pandas DataFrame.\n",
        "\n",
        "- For each column **statistics** are presented in an interactive HTML report."
      ]
    },
    {
      "cell_type": "markdown",
      "metadata": {
        "id": "ChnolEmvzcQg"
      },
      "source": [
        "Note : To check your profiling please **uncomment** the code and run it"
      ]
    },
    {
      "cell_type": "code",
      "metadata": {
        "id": "WiyaudAry1-L"
      },
      "source": [
        "# profile = ProfileReport(df = data)\n",
        "# profile.to_file(outputfile = 'Pre Profiling Report.html')\n",
        "# print('Accomplished!')"
      ],
      "execution_count": null,
      "outputs": []
    },
    {
      "cell_type": "code",
      "metadata": {
        "id": "cCMzzVFI-OcZ"
      },
      "source": [
        "# from google.colab import files                   # Use only if you are using Google Colab, otherwise remove it\n",
        "# files.download('Pre Profiling Report.html')      # Use only if you are using Google Colab, otherwise remove it"
      ],
      "execution_count": null,
      "outputs": []
    },
    {
      "cell_type": "markdown",
      "metadata": {
        "id": "0ZmA7OT0W82u"
      },
      "source": [
        "**Observation:**\n",
        "\n",
        "- Report show that there are **4 features** which **are numerical**.\n",
        "\n",
        "- There are **no missing values**.\n",
        "\n",
        "- **TV** has the most unique values \n",
        "\n",
        "- No **duplicates** has been found. \n",
        "\n",
        "- The minimum **sale** is **1.6** units which happened only once.  \n",
        "\n",
        "- _Sales_ seems to be __normally distributed__.\n",
        "\n",
        "\n",
        "- Spending on _newspaper advertisement_ seems to be __right skewed__.\n",
        "\n",
        "\n",
        "- Most of the spends on _newspaper_ is __fairly low__ where as spend on _radio and tv_ seems to be __uniformly distributed__.\n",
        "\n",
        "\n",
        "- Spends on _tv_ are __comparatively higher__ than spend on _radio and newspaper_.\n",
        "\n",
        "- For full details checkout the report."
      ]
    },
    {
      "cell_type": "markdown",
      "metadata": {
        "id": "idD3QcKjzbOx"
      },
      "source": [
        "<a name = Section6></a>\n",
        "\n",
        "---\n",
        "# **6. Exploratory Data Analysis**\n",
        "---"
      ]
    },
    {
      "cell_type": "markdown",
      "metadata": {
        "id": "oKDnGcRdrjyH"
      },
      "source": [
        "### Is there a relationship between sales and spends on various advertising channels?"
      ]
    },
    {
      "cell_type": "code",
      "metadata": {
        "colab": {
          "base_uri": "https://localhost:8080/",
          "height": 1000
        },
        "id": "1W5lEb08rjyH",
        "outputId": "cfc8f713-51f7-4d38-cfeb-60a4e485f425"
      },
      "source": [
        "JG1 = sns.jointplot(\"newspaper\", \"sales\", data=data, kind='reg')\n",
        "JG2 = sns.jointplot(\"radio\", \"sales\", data=data, kind='reg')\n",
        "JG3 = sns.jointplot(\"TV\", \"sales\", data=data, kind='reg')\n",
        "\n",
        "#subplots migration\n",
        "f = plt.figure()\n",
        "for J in [JG1, JG2,JG3]:\n",
        "    for A in J.fig.axes:\n",
        "        f._axstack.add(f._make_key(A), A)"
      ],
      "execution_count": null,
      "outputs": [
        {
          "data": {
            "image/png": "[encoded data removed]",
            "text/plain": [
              "<Figure size 432x432 with 3 Axes>"
            ]
          },
          "metadata": {
            "needs_background": "light"
          },
          "output_type": "display_data"
        },
        {
          "data": {
            "image/png": "[encoded data removed]",
            "text/plain": [
              "<Figure size 432x432 with 3 Axes>"
            ]
          },
          "metadata": {
            "needs_background": "light"
          },
          "output_type": "display_data"
        },
        {
          "data": {
            "image/png": "[encoded data removed]",
            "text/plain": [
              "<Figure size 432x432 with 3 Axes>"
            ]
          },
          "metadata": {
            "needs_background": "light"
          },
          "output_type": "display_data"
        },
        {
          "data": {
            "image/png": "[encoded data removed]",
            "text/plain": [
              "<Figure size 432x288 with 9 Axes>"
            ]
          },
          "metadata": {
            "needs_background": "light"
          },
          "output_type": "display_data"
        }
      ]
    },
    {
      "cell_type": "markdown",
      "metadata": {
        "id": "I4mWZiDTrjyK"
      },
      "source": [
        "__Observation__<br/>\n",
        "\n",
        "- _Sales and spend on newpaper_ is __not__ highly correlaed where as _sales and spend on tv_ is __highly correlated__."
      ]
    },
    {
      "cell_type": "markdown",
      "metadata": {
        "id": "Y-jdNQygrjyL"
      },
      "source": [
        "### Visualising Pairwise correlation"
      ]
    },
    {
      "cell_type": "code",
      "metadata": {
        "colab": {
          "base_uri": "https://localhost:8080/",
          "height": 602
        },
        "id": "PG6r2lBmrjyL",
        "outputId": "d4cb8069-0e94-4b1d-93ff-d5b5b3bb2f7d"
      },
      "source": [
        "sns.pairplot(data, size = 2, aspect = 1.5)"
      ],
      "execution_count": null,
      "outputs": [
        {
          "data": {
            "text/plain": [
              "<seaborn.axisgrid.PairGrid at 0x116089f7910>"
            ]
          },
          "execution_count": 9,
          "metadata": {},
          "output_type": "execute_result"
        },
        {
          "data": {
            "image/png": "[encoded data removed]",
            "text/plain": [
              "<Figure size 864x576 with 20 Axes>"
            ]
          },
          "metadata": {
            "needs_background": "light"
          },
          "output_type": "display_data"
        }
      ]
    },
    {
      "cell_type": "markdown",
      "metadata": {
        "id": "9cDwPLinrjyR"
      },
      "source": [
        "### Calculating and plotting heatmap correlation"
      ]
    },
    {
      "cell_type": "code",
      "metadata": {
        "colab": {
          "base_uri": "https://localhost:8080/",
          "height": 269
        },
        "id": "CZ30lN7ErjyR",
        "outputId": "6f8ac117-ce1a-4889-a1f5-eecd6a2a6ef1"
      },
      "source": [
        "sns.heatmap(data.corr(), annot=True );"
      ],
      "execution_count": null,
      "outputs": [
        {
          "data": {
            "image/png": "[encoded data removed]",
            "text/plain": [
              "<Figure size 432x288 with 2 Axes>"
            ]
          },
          "metadata": {
            "needs_background": "light"
          },
          "output_type": "display_data"
        }
      ]
    },
    {
      "cell_type": "markdown",
      "metadata": {
        "id": "wmB_sDWCrjyQ"
      },
      "source": [
        "__Observation__\n",
        "\n",
        "- **Strong** relationship between **TV ads** and **sales**\n",
        "\n",
        "\n",
        "- **Weak** relationship between **Radio ads** and **sales**\n",
        "\n",
        "\n",
        "- **Very weak** to **no** relationship between **Newspaper ads** and **sales**\n",
        "\n",
        "\n",
        "- **No correlation** between the independent variables **TV** and **Radio** proves the assumption of **Multicollinearity**\n",
        "\n",
        "\n",
        "- The diagonal of the above matirx shows the auto-correlation of the variables. It is always 1. You can observe that the correlation between __TV and Sales is highest i.e. 0.78__ and then between __sales and radio i.e. 0.576__.\n",
        "\n",
        "\n",
        "- Correlations can vary from -1 to +1. Closer to +1 means strong positive correlation and close -1 means strong negative correlation. Closer to 0 means not very strongly correlated. variables with __strong correlations__ are mostly probably candidates for __model builing__.\n",
        "\n"
      ]
    },
    {
      "cell_type": "markdown",
      "metadata": {
        "id": "jviKwn24rmd7"
      },
      "source": [
        "**Note:** These are few question we need to analyze before moving further and if you want to dig deeper into this, feel free to do so..."
      ]
    },
    {
      "cell_type": "markdown",
      "metadata": {
        "id": "gbX3__T_sM5U"
      },
      "source": [
        "<a name = Section7></a>\n",
        "\n",
        "---\n",
        "# **7. Post Data Processing**\n",
        "---\n",
        "\n"
      ]
    },
    {
      "cell_type": "markdown",
      "metadata": {
        "id": "SspFbhYRaRB3"
      },
      "source": [
        "### **7.1 Data Standardization**"
      ]
    },
    {
      "cell_type": "markdown",
      "metadata": {
        "id": "ZlWqtE9grjyY"
      },
      "source": [
        "__Standardization__ \n",
        "- Variables that are measured at different scales do not contribute equally to the model fitting and might end up creating a **bias**. \n",
        "\n",
        "- To deal with this potential problem **feature-wise standardization** (`μ=0`, `σ=1`) is usually used **prior** to **model fitting**."
      ]
    },
    {
      "cell_type": "code",
      "metadata": {
        "id": "443ELrd0rjyZ"
      },
      "source": [
        "from sklearn.preprocessing import StandardScaler\n",
        "scaler = StandardScaler().fit(data)\n",
        "data1 = scaler.transform(data)"
      ],
      "execution_count": null,
      "outputs": []
    },
    {
      "cell_type": "code",
      "metadata": {
        "colab": {
          "base_uri": "https://localhost:8080/",
          "height": 195
        },
        "id": "V4CECfBIrjye",
        "outputId": "036f6d25-d107-4de0-e9f7-2323766d3dea"
      },
      "source": [
        "data = pd.DataFrame(data1)\n",
        "data.columns = [test]\n",
        "data.head()"
      ],
      "execution_count": null,
      "outputs": [
        {
          "data": {
            "text/html": [
              "<div>\n",
              "<style scoped>\n",
              "    .dataframe tbody tr th:only-of-type {\n",
              "        vertical-align: middle;\n",
              "    }\n",
              "\n",
              "    .dataframe tbody tr th {\n",
              "        vertical-align: top;\n",
              "    }\n",
              "\n",
              "    .dataframe thead th {\n",
              "        text-align: right;\n",
              "    }\n",
              "</style>\n",
              "<table border=\"1\" class=\"dataframe\">\n",
              "  <thead>\n",
              "    <tr style=\"text-align: right;\">\n",
              "      <th></th>\n",
              "      <th>TV</th>\n",
              "      <th>radio</th>\n",
              "      <th>newspaper</th>\n",
              "      <th>sales</th>\n",
              "    </tr>\n",
              "  </thead>\n",
              "  <tbody>\n",
              "    <tr>\n",
              "      <th>0</th>\n",
              "      <td>0.96985</td>\n",
              "      <td>0.98152</td>\n",
              "      <td>1.77895</td>\n",
              "      <td>1.55205</td>\n",
              "    </tr>\n",
              "    <tr>\n",
              "      <th>1</th>\n",
              "      <td>-1.19738</td>\n",
              "      <td>1.08281</td>\n",
              "      <td>0.66958</td>\n",
              "      <td>-0.69605</td>\n",
              "    </tr>\n",
              "    <tr>\n",
              "      <th>2</th>\n",
              "      <td>-1.51615</td>\n",
              "      <td>1.52846</td>\n",
              "      <td>1.78355</td>\n",
              "      <td>-0.90741</td>\n",
              "    </tr>\n",
              "    <tr>\n",
              "      <th>3</th>\n",
              "      <td>0.05205</td>\n",
              "      <td>1.21785</td>\n",
              "      <td>1.28641</td>\n",
              "      <td>0.86033</td>\n",
              "    </tr>\n",
              "    <tr>\n",
              "      <th>4</th>\n",
              "      <td>0.39418</td>\n",
              "      <td>-0.84161</td>\n",
              "      <td>1.28180</td>\n",
              "      <td>-0.21568</td>\n",
              "    </tr>\n",
              "  </tbody>\n",
              "</table>\n",
              "</div>"
            ],
            "text/plain": [
              "        TV    radio  newspaper    sales\n",
              "0  0.96985  0.98152    1.77895  1.55205\n",
              "1 -1.19738  1.08281    0.66958 -0.69605\n",
              "2 -1.51615  1.52846    1.78355 -0.90741\n",
              "3  0.05205  1.21785    1.28641  0.86033\n",
              "4  0.39418 -0.84161    1.28180 -0.21568"
            ]
          },
          "execution_count": 12,
          "metadata": {},
          "output_type": "execute_result"
        }
      ]
    },
    {
      "cell_type": "markdown",
      "metadata": {
        "id": "NLHnQO0r8vj8"
      },
      "source": [
        "<a name = Section73></a>\n",
        "### **7.1 Data Preparation**\n",
        "\n",
        "- Now we will **split** our **data** into **dependent** and **independent** variables for further development."
      ]
    },
    {
      "cell_type": "code",
      "metadata": {
        "id": "I4_FX6TNrjyg"
      },
      "source": [
        "feature_cols = ['TV', 'radio', 'newspaper']                # create a Python list of feature names\n",
        "X = data[feature_cols]                                     # use the list to select a subset of the original DataFrame-+"
      ],
      "execution_count": null,
      "outputs": []
    },
    {
      "cell_type": "code",
      "metadata": {
        "colab": {
          "base_uri": "https://localhost:8080/",
          "height": 118
        },
        "id": "6X-bzHQPrjyo",
        "outputId": "382442d7-cc5c-4a3c-e5ef-f4e32256df90"
      },
      "source": [
        "y = data.sales\n",
        "y.head()"
      ],
      "execution_count": null,
      "outputs": [
        {
          "data": {
            "text/plain": [
              "0    1.55205\n",
              "1   -0.69605\n",
              "2   -0.90741\n",
              "3    0.86033\n",
              "4   -0.21568\n",
              "Name: sales, dtype: float64"
            ]
          },
          "execution_count": 14,
          "metadata": {},
          "output_type": "execute_result"
        }
      ]
    },
    {
      "cell_type": "markdown",
      "metadata": {
        "id": "15iDa1gnDXZ8"
      },
      "source": [
        "- Now we will **split** our **data** into **training** and **testing**"
      ]
    },
    {
      "cell_type": "code",
      "metadata": {
        "id": "ZbKi2L8zrjyu"
      },
      "source": [
        "from sklearn.model_selection import train_test_split\n",
        "\n",
        "def split(X,y):\n",
        "    return train_test_split(X, y, test_size=0.20, random_state=1)"
      ],
      "execution_count": null,
      "outputs": []
    },
    {
      "cell_type": "code",
      "metadata": {
        "colab": {
          "base_uri": "https://localhost:8080/",
          "height": 134
        },
        "id": "R5sdRWafrjyx",
        "outputId": "b25fa2f9-2a2b-4f43-e154-8ee75d7874c9"
      },
      "source": [
        "X_train, X_test, y_train, y_test=split(X,y)\n",
        "print('Train cases as below')\n",
        "print('X_train shape: ',X_train.shape)\n",
        "print('y_train shape: ',y_train.shape)\n",
        "print('\\nTest cases as below')\n",
        "print('X_test shape: ',X_test.shape)\n",
        "print('y_test shape: ',y_test.shape)"
      ],
      "execution_count": null,
      "outputs": [
        {
          "name": "stdout",
          "output_type": "stream",
          "text": [
            "Train cases as below\n",
            "X_train shape:  (160, 3)\n",
            "y_train shape:  (160,)\n",
            "\n",
            "Test cases as below\n",
            "X_test shape:  (40, 3)\n",
            "y_test shape:  (40,)\n"
          ]
        }
      ]
    },
    {
      "cell_type": "markdown",
      "metadata": {
        "id": "PBz50xP-Ba67"
      },
      "source": [
        "<a name = Section8></a>\n",
        "\n",
        "---\n",
        "# **8. Model Development & Evaluation**\n",
        "---\n",
        "\n",
        "- In this section we will **develop Linear Regression model** \n",
        "\n",
        "- Then we will **analyze the results** obtained and **make our observations**.\n",
        "\n",
        "- For **evaluation purpose** we will **focus** on **MSE**, **MAE** and **RMSE** scores.\n",
        "\n",
        "- We will do **feature selection** and see if the scores improves. \n",
        "\n",
        "- We will also add a new categorical feature **Area** and assign values randomly and see if we can improve the scores."
      ]
    },
    {
      "cell_type": "markdown",
      "metadata": {
        "id": "BVgeKPvXrjy0"
      },
      "source": [
        "### **8.1 Linear regression in scikit-learn**"
      ]
    },
    {
      "cell_type": "markdown",
      "metadata": {
        "id": "fOH0v5x_rjy1"
      },
      "source": [
        "To apply any machine learning algorithm on your dataset, basically there are 4 steps:\n",
        "1. **Load** the `algorithm`\n",
        "\n",
        "2. **Instantiate** and **Fit** the model to the `training` dataset\n",
        "\n",
        "3. **Prediction** on the `test` set\n",
        "\n",
        "4. **Calculating** Root mean square error \n",
        "\n",
        "<br> \n",
        "The code block given below shows how these steps are carried out:<br/>\n",
        "\n",
        "```\n",
        "from sklearn.linear_model import LinearRegression\n",
        "linreg = LinearRegression()\n",
        "linreg.fit(X_train, y_train) \n",
        "RMSE_test = np.sqrt(metrics.mean_squared_error(y_test, y_pred_test))\n",
        "```"
      ]
    },
    {
      "cell_type": "code",
      "metadata": {
        "colab": {
          "base_uri": "https://localhost:8080/",
          "height": 34
        },
        "id": "uvhqxzvErjy1",
        "outputId": "3ad7fd1f-ee70-4320-c82c-4d55c0e0b31a"
      },
      "source": [
        "linreg = LinearRegression()\n",
        "linreg.fit(X_train, y_train) "
      ],
      "execution_count": null,
      "outputs": [
        {
          "data": {
            "text/plain": [
              "LinearRegression()"
            ]
          },
          "execution_count": 17,
          "metadata": {},
          "output_type": "execute_result"
        }
      ]
    },
    {
      "cell_type": "markdown",
      "metadata": {
        "id": "kPDG-K9Lrjy6"
      },
      "source": [
        "### **8.2 Interpreting Model Coefficients**"
      ]
    },
    {
      "cell_type": "code",
      "metadata": {
        "colab": {
          "base_uri": "https://localhost:8080/",
          "height": 50
        },
        "id": "CnxQpsrcrjy7",
        "scrolled": false,
        "outputId": "448bc931-c5ff-4735-bff3-03fe27c81778"
      },
      "source": [
        "print('Intercept:',linreg.intercept_)          # print the intercept \n",
        "print('Coefficients:',linreg.coef_)  "
      ],
      "execution_count": null,
      "outputs": [
        {
          "name": "stdout",
          "output_type": "stream",
          "text": [
            "Intercept: 0.001162087460638464\n",
            "Coefficients: [0.77081214 0.50806629 0.01079522]\n"
          ]
        }
      ]
    },
    {
      "cell_type": "markdown",
      "metadata": {
        "id": "Vsdh3c9Irjy-"
      },
      "source": [
        "Its hard to remember the order of the feature names, we so we are __zipping__ the features to pair the feature names with the coefficients"
      ]
    },
    {
      "cell_type": "code",
      "metadata": {
        "id": "Vhrn1scxrjy-"
      },
      "source": [
        "feature_cols.insert(0,'Intercept')\n",
        "coef = linreg.coef_.tolist()            \n",
        "coef.insert(0, linreg.intercept_)       "
      ],
      "execution_count": null,
      "outputs": []
    },
    {
      "cell_type": "code",
      "metadata": {
        "colab": {
          "base_uri": "https://localhost:8080/",
          "height": 84
        },
        "id": "TNr8Y2OBrjzA",
        "scrolled": true,
        "outputId": "75dd90db-2989-4bba-fe31-d6386dba0b06"
      },
      "source": [
        "eq1 = zip(feature_cols, coef)\n",
        "\n",
        "for c1,c2 in eq1:\n",
        "    print(c1,c2)"
      ],
      "execution_count": null,
      "outputs": [
        {
          "name": "stdout",
          "output_type": "stream",
          "text": [
            "Intercept 0.001162087460638464\n",
            "TV 0.7708121379125098\n",
            "radio 0.5080662902756097\n",
            "newspaper 0.010795215187608675\n"
          ]
        }
      ]
    },
    {
      "cell_type": "markdown",
      "metadata": {
        "id": "5tf_N49UrjzD"
      },
      "source": [
        "__y = 0.00116 + 0.7708 `*` TV + 0.508 `*` radio + 0.010 `*` newspaper__"
      ]
    },
    {
      "cell_type": "markdown",
      "metadata": {
        "id": "XYqLPWSfrjzD"
      },
      "source": [
        "How do we interpret the TV coefficient (_0.77081_)\n",
        "\n",
        "- A \"unit\" increase in TV ad spending is **associated with** a _\"0.7708_ unit\" increase in Sales.\n",
        "\n",
        "- Or more clearly: An additional $1,000 spent on TV ads is **associated with** an increase in sales of 770.8 widgets.\n",
        "\n",
        "Important Notes:\n",
        "\n",
        "- If an increase in TV ad spending was associated with a __decrease__ in sales,  β1  would be __negative.__"
      ]
    },
    {
      "cell_type": "markdown",
      "metadata": {
        "id": "F0oBNIcPrjzE"
      },
      "source": [
        "### **8.3 Using the Model for Prediction**"
      ]
    },
    {
      "cell_type": "code",
      "metadata": {
        "id": "Wb6-LwhorjzF"
      },
      "source": [
        "y_pred_train = linreg.predict(X_train)  "
      ],
      "execution_count": null,
      "outputs": []
    },
    {
      "cell_type": "code",
      "metadata": {
        "id": "4YJr-RdArjzH"
      },
      "source": [
        "y_pred_test = linreg.predict(X_test)                                                           # make predictions on the testing set"
      ],
      "execution_count": null,
      "outputs": []
    },
    {
      "cell_type": "markdown",
      "metadata": {
        "id": "PPz1UFZGrjzK"
      },
      "source": [
        "Let's Plot and see how our model is predicting with the test data"
      ]
    },
    {
      "cell_type": "code",
      "metadata": {
        "colab": {
          "base_uri": "https://localhost:8080/",
          "height": 296
        },
        "id": "utVrKpx9rjzK",
        "outputId": "2a41fd5f-464e-4b0d-eccd-c7012dcb024a"
      },
      "source": [
        "sns.regplot(y_test,y_pred_test)\n",
        "plt.xlabel('Actual Values')\n",
        "plt.ylabel('Predicted Values')"
      ],
      "execution_count": null,
      "outputs": [
        {
          "data": {
            "text/plain": [
              "Text(0, 0.5, 'Predicted Values')"
            ]
          },
          "execution_count": 23,
          "metadata": {},
          "output_type": "execute_result"
        },
        {
          "data": {
            "image/png": "[encoded data removed]",
            "text/plain": [
              "<Figure size 432x288 with 1 Axes>"
            ]
          },
          "metadata": {
            "needs_background": "light"
          },
          "output_type": "display_data"
        }
      ]
    },
    {
      "cell_type": "markdown",
      "metadata": {
        "id": "xLuAWcx7rjzN"
      },
      "source": [
        "## **8.4 Model evaluation** "
      ]
    },
    {
      "cell_type": "markdown",
      "metadata": {
        "id": "oJWznO_hrjzO"
      },
      "source": [
        "__Error__ is the _deviation_ of the values _predicted_ by the model with the _true_ values.\n",
        "\n",
        "For example, if a model **predicts** that the **price** of apple is `Rs75/kg`, but the **actual price** of apple is `Rs100/kg`, then the **error** in prediction will be `Rs25/kg`.\n",
        "\n",
        "Below are the types of error we will be calculating for our _linear regression model_:\n",
        "- Mean Absolute Error\n",
        "- Mean Squared Error\n",
        "- Root Mean Squared Error"
      ]
    },
    {
      "cell_type": "markdown",
      "metadata": {
        "id": "8s95-Z2XrjzP"
      },
      "source": [
        "__Mean Absolute Error__ (MAE) is the mean of the absolute value of the errors:\n",
        "$$\\frac 1n\\sum_{i=1}^n|y_i-\\hat{y}_i|$$\n",
        "Computing the MAE for our Sales predictions"
      ]
    },
    {
      "cell_type": "code",
      "metadata": {
        "id": "HcZiW9PNWGRf"
      },
      "source": [
        "from sklearn import metrics"
      ],
      "execution_count": null,
      "outputs": []
    },
    {
      "cell_type": "code",
      "metadata": {
        "id": "C2U4o1CerjzQ"
      },
      "source": [
        "MAE_train = metrics.mean_absolute_error(y_train, y_pred_train)\n",
        "MAE_test = metrics.mean_absolute_error(y_test, y_pred_test)"
      ],
      "execution_count": null,
      "outputs": []
    },
    {
      "cell_type": "code",
      "metadata": {
        "colab": {
          "base_uri": "https://localhost:8080/",
          "height": 50
        },
        "id": "2FL7RPW8rjzS",
        "scrolled": false,
        "outputId": "1201064c-0b88-4805-f02e-b13068962b86"
      },
      "source": [
        "print('MAE for training set is {}'.format(MAE_train))\n",
        "print('MAE for test set is {}'.format(MAE_test))"
      ],
      "execution_count": null,
      "outputs": [
        {
          "name": "stdout",
          "output_type": "stream",
          "text": [
            "MAE for training set is 0.2553322418777194\n",
            "MAE for test set is 0.1998724319969636\n"
          ]
        }
      ]
    },
    {
      "cell_type": "markdown",
      "metadata": {
        "id": "-VPFYcSrrjzV"
      },
      "source": [
        "__Mean Squared Error__ (MSE) is the mean of the squared errors:\n",
        "$$\\frac 1n\\sum_{i=1}^n(y_i-\\hat{y}_i)^2$$\n",
        "\n",
        "Computing the MSE for our Sales predictions"
      ]
    },
    {
      "cell_type": "code",
      "metadata": {
        "id": "AaYxCbnCrjzW"
      },
      "source": [
        "MSE_train = metrics.mean_squared_error(y_train, y_pred_train)\n",
        "MSE_test = metrics.mean_squared_error(y_test, y_pred_test)"
      ],
      "execution_count": null,
      "outputs": []
    },
    {
      "cell_type": "code",
      "metadata": {
        "colab": {
          "base_uri": "https://localhost:8080/",
          "height": 50
        },
        "id": "GImSG9CBrjzY",
        "outputId": "7b46e980-19c2-4560-884e-07b7a7e7cab7"
      },
      "source": [
        "print('MSE for training set is {}'.format(MSE_train))\n",
        "print('MSE for test set is {}'.format(MSE_test))"
      ],
      "execution_count": null,
      "outputs": [
        {
          "name": "stdout",
          "output_type": "stream",
          "text": [
            "MSE for training set is 0.11138075570325359\n",
            "MSE for test set is 0.07353999839228291\n"
          ]
        }
      ]
    },
    {
      "cell_type": "markdown",
      "metadata": {
        "id": "ujilxJLhrjzc"
      },
      "source": [
        "__Root Mean Squared Error__ (RMSE) is the square root of the mean of the squared errors:\n",
        "\n",
        "$$\\sqrt{\\frac 1n\\sum_{i=1}^n(y_i-\\hat{y}_i)^2}$$\n",
        "\n",
        "Computing the RMSE for our Sales predictions"
      ]
    },
    {
      "cell_type": "code",
      "metadata": {
        "id": "-WLGQ3O3rjzc"
      },
      "source": [
        "RMSE_train = np.sqrt( metrics.mean_squared_error(y_train, y_pred_train))\n",
        "RMSE_test = np.sqrt(metrics.mean_squared_error(y_test, y_pred_test))"
      ],
      "execution_count": null,
      "outputs": []
    },
    {
      "cell_type": "code",
      "metadata": {
        "colab": {
          "base_uri": "https://localhost:8080/",
          "height": 50
        },
        "id": "lHQU8iOKrjzf",
        "outputId": "0e4404b3-1137-4c0f-ab51-85a9f571b636"
      },
      "source": [
        "print('RMSE for training set is {}'.format(RMSE_train))\n",
        "print('RMSE for test set is {}'.format(RMSE_test))"
      ],
      "execution_count": null,
      "outputs": [
        {
          "name": "stdout",
          "output_type": "stream",
          "text": [
            "RMSE for training set is 0.3337375551286573\n",
            "RMSE for test set is 0.2711825923474494\n"
          ]
        }
      ]
    },
    {
      "cell_type": "markdown",
      "metadata": {
        "id": "DsvF9LV1rjzh"
      },
      "source": [
        "Comparing these metrics:\n",
        "\n",
        "- __MAE__ is the easiest to understand, because it's the __average error.__ \n",
        "\n",
        "- __MSE__ is more popular than MAE, because MSE \"punishes\" larger errors.\n",
        "\n",
        "- __RMSE__ is even more popular than MSE, because RMSE is _interpretable_ in the \"y\" units."
      ]
    },
    {
      "cell_type": "markdown",
      "metadata": {
        "id": "0kAd1QGqrjzl"
      },
      "source": [
        "### **8.5 Model Evaluation using R-squared and Adjusted R-squared value**"
      ]
    },
    {
      "cell_type": "markdown",
      "metadata": {
        "id": "WWyleU6vrjzl"
      },
      "source": [
        "<center><img src=\"https://raw.githubusercontent.com/insaid2018/Term-2/master/images/r-square-vs-adjusted-r-square-2-638.jpg\" width=\"500\" height=\"240\" /></center>\n",
        "\n",
        "- R-squared is the **proportion of variance explained**, meaning the proportion of variance in the observed data that is explained by the model, or the reduction in error over the **null model**. (The null model just predicts the mean of the observed response, and thus it has an intercept and no slope.)\n",
        "\n",
        "\n",
        "- R-squared is between 0 and 1, and higher is better because it means that more variance is explained by the model. \n",
        "\n",
        "\n",
        "- But there is one shortcoming of Rsquare method and that is **R-squared will always increase as you add more features to the model**, even if they are unrelated to the response. \n",
        "\n",
        "\n",
        "- Thus, selecting the model with the highest R-squared is not a reliable approach for choosing the best linear model.\n",
        "\n",
        "\n",
        "There is alternative to R-squared called **adjusted R-squared** that penalizes model complexity (to control for overfitting).\n",
        "\n",
        "<br> \n",
        "<center><img src=\"https://raw.githubusercontent.com/insaid2018/Term-2/master/images/maxresdefault.jpg\" width=\"500\" height=\"240\"/></center>\n",
        "<br> \n",
        "\n",
        "- **R squared** value increase if we increase the number of independent variables. **Adjusted R-squared** increases only if a significant variable is added.  \n",
        "\n",
        " \n",
        "- **R-squared** value should be near to adjusted **R-squared**. If not, use variable selection techniques to bring **R squared** near to **Adj- R squared**.  A difference of 2% between **R square** and **Adj-R** square is acceptable."
      ]
    },
    {
      "cell_type": "code",
      "metadata": {
        "colab": {
          "base_uri": "https://localhost:8080/",
          "height": 50
        },
        "id": "WIbNwJ0e6Yws",
        "outputId": "b718ccfa-f208-44f9-ac63-14ffa3a29a20"
      },
      "source": [
        "r2_train = metrics.r2_score(y_train,y_pred_train)\n",
        "r2_test = metrics.r2_score(y_test,y_pred_test)\n",
        "print(\"R2 score for training set is {}\".format(r2_train))\n",
        "print(\"R2 score for test set is {}\".format(r2_test))"
      ],
      "execution_count": null,
      "outputs": [
        {
          "name": "stdout",
          "output_type": "stream",
          "text": [
            "R2 score for training set is 0.8959372632325174\n",
            "R2 score for test set is 0.8927605914615385\n"
          ]
        }
      ]
    },
    {
      "cell_type": "code",
      "metadata": {
        "id": "ed_lrE-erjzm",
        "outputId": "28b57334-d4fe-4cbb-a5f5-f3e9c6fbb9ce"
      },
      "source": [
        "adj_r_squared_train = 1 - (1-r2_train)*(len(y_train)-1)/(len(y_train)-X_train.shape[1]-1)\n",
        "adj_r_squared_test = 1 - (1-r2_test)*(len(y_test)-1)/(len(y_test)-X_test.shape[1]-1)\n",
        "print(\"Adjusted R2 score for training set is {}\".format(adj_r_squared_train))\n",
        "print(\"Adjusted R2 score for test set is {}\".format(adj_r_squared_test))"
      ],
      "execution_count": null,
      "outputs": [
        {
          "name": "stdout",
          "output_type": "stream",
          "text": [
            "Adjusted R2 score for training set is 0.8939360567562197\n",
            "Adjusted R2 score for test set is 0.8838239740833334\n"
          ]
        }
      ]
    },
    {
      "cell_type": "markdown",
      "metadata": {
        "id": "5T4peIXUrjzp"
      },
      "source": [
        "**Observation**\n",
        "\n",
        "- The **R-squared** value and **Adjusted R-squared** values for the **training** set is found to be **0.8968** and **0.8934** respectively\n",
        "\n",
        "- The **R-squared** value and **Adjusted R-squared** values for the **test** set is found to be **0.8944** and **0.8788** respectively"
      ]
    },
    {
      "cell_type": "markdown",
      "metadata": {
        "id": "-xpANw35rjzp"
      },
      "source": [
        "## **8.6 Feature Selection**\n",
        "\n",
        "At times some features do not contribute much to the accuracy of the model, in that case its better to discard those features.\n",
        "\n",
        "- Let's check whether __\"newspaper\"__ improve the quality of our predictions or not.\n",
        "\n",
        "To check this we are going to take all the features other than \"newspaper\" and see if the error (RMSE) is reducing or not.\n"
      ]
    },
    {
      "cell_type": "code",
      "metadata": {
        "id": "IkHQaqaTrjzp"
      },
      "source": [
        "feature_cols = ['TV','radio']                                                          # create a Python list of feature names\n",
        "X = data[feature_cols]  \n",
        "y = data.sales\n"
      ],
      "execution_count": null,
      "outputs": []
    },
    {
      "cell_type": "code",
      "metadata": {
        "id": "1wJlvFQaXKbH"
      },
      "source": [
        "X_train, X_test, y_train, y_test = train_test_split(X, y, test_size=0.20, random_state=1)"
      ],
      "execution_count": null,
      "outputs": []
    },
    {
      "cell_type": "code",
      "metadata": {
        "colab": {
          "base_uri": "https://localhost:8080/",
          "height": 34
        },
        "id": "xyQLgSStXSmH",
        "outputId": "667a14db-52b7-409c-b456-bd1f4cdc41b1"
      },
      "source": [
        "linreg = LinearRegression()\n",
        "linreg.fit(X_train, y_train) "
      ],
      "execution_count": null,
      "outputs": [
        {
          "data": {
            "text/plain": [
              "LinearRegression()"
            ]
          },
          "execution_count": 35,
          "metadata": {},
          "output_type": "execute_result"
        }
      ]
    },
    {
      "cell_type": "code",
      "metadata": {
        "id": "mBy_Oj-kXZZ8"
      },
      "source": [
        "y_pred_train = linreg.predict(X_train)  \n",
        "y_pred_test = linreg.predict(X_test) "
      ],
      "execution_count": null,
      "outputs": []
    },
    {
      "cell_type": "code",
      "metadata": {
        "colab": {
          "base_uri": "https://localhost:8080/",
          "height": 50
        },
        "id": "C-z3NgIXX44B",
        "outputId": "2af20cee-14ca-4e9e-e4c2-5861d72ce0f9"
      },
      "source": [
        "RMSE_train = np.sqrt( metrics.mean_squared_error(y_train, y_pred_train))\n",
        "RMSE_test = np.sqrt(metrics.mean_squared_error(y_test, y_pred_test))\n",
        "print('RMSE for training set is {}'.format(RMSE_train))\n",
        "print('RMSE for test set is {}'.format(RMSE_test))"
      ],
      "execution_count": null,
      "outputs": [
        {
          "name": "stdout",
          "output_type": "stream",
          "text": [
            "RMSE for training set is 0.33387289270271886\n",
            "RMSE for test set is 0.2686752379245753\n"
          ]
        }
      ]
    },
    {
      "cell_type": "markdown",
      "metadata": {
        "id": "taFvnrjorjzs"
      },
      "source": [
        "- _Before_ doing feature selection _RMSE_ for the test dataset was __0.271182__.\n",
        "\n",
        "- _After_ discarding 'newspaper' column, RMSE comes to be __0.268675__.\n",
        "\n",
        "    - As you can see there is __no significant improvement__ in the quality, therefore, the 'newspaper' column shouldn't be discarded.\n",
        "    \n",
        "    - But if in some other case if there is significant decrease in the RMSE, then you must discard that feature.\n",
        "\n",
        "- Give a try to other __features__ and check the RMSE score for each one."
      ]
    },
    {
      "cell_type": "markdown",
      "metadata": {
        "id": "EIfY4v2Lrjzt"
      },
      "source": [
        "#### Adding a new feature **Area**\n",
        "\n",
        "Let's create a new feature called **Area**, and randomly assign observations to be **rural, suburban, or urban** :"
      ]
    },
    {
      "cell_type": "code",
      "metadata": {
        "colab": {
          "base_uri": "https://localhost:8080/",
          "height": 195
        },
        "id": "BqGs7-jNrjzt",
        "outputId": "d86a1ec6-e104-4b22-e3b7-f1961358b08c"
      },
      "source": [
        "np.random.seed(123456)                                                # set a seed for reproducibility\n",
        "nums = np.random.rand(len(data))\n",
        "mask_suburban = (nums > 0.33) & (nums < 0.66)                         # assign roughly one third of observations to each group\n",
        "mask_urban = nums > 0.66\n",
        "data['Area'] = 'rural'\n",
        "data.loc[mask_suburban, 'Area'] = 'suburban'\n",
        "data.loc[mask_urban, 'Area'] = 'urban'\n",
        "data.head()"
      ],
      "execution_count": null,
      "outputs": [
        {
          "data": {
            "text/html": [
              "<div>\n",
              "<style scoped>\n",
              "    .dataframe tbody tr th:only-of-type {\n",
              "        vertical-align: middle;\n",
              "    }\n",
              "\n",
              "    .dataframe tbody tr th {\n",
              "        vertical-align: top;\n",
              "    }\n",
              "\n",
              "    .dataframe thead th {\n",
              "        text-align: right;\n",
              "    }\n",
              "</style>\n",
              "<table border=\"1\" class=\"dataframe\">\n",
              "  <thead>\n",
              "    <tr style=\"text-align: right;\">\n",
              "      <th></th>\n",
              "      <th>TV</th>\n",
              "      <th>radio</th>\n",
              "      <th>newspaper</th>\n",
              "      <th>sales</th>\n",
              "      <th>Area</th>\n",
              "    </tr>\n",
              "  </thead>\n",
              "  <tbody>\n",
              "    <tr>\n",
              "      <th>0</th>\n",
              "      <td>0.96985</td>\n",
              "      <td>0.98152</td>\n",
              "      <td>1.77895</td>\n",
              "      <td>1.55205</td>\n",
              "      <td>rural</td>\n",
              "    </tr>\n",
              "    <tr>\n",
              "      <th>1</th>\n",
              "      <td>-1.19738</td>\n",
              "      <td>1.08281</td>\n",
              "      <td>0.66958</td>\n",
              "      <td>-0.69605</td>\n",
              "      <td>urban</td>\n",
              "    </tr>\n",
              "    <tr>\n",
              "      <th>2</th>\n",
              "      <td>-1.51615</td>\n",
              "      <td>1.52846</td>\n",
              "      <td>1.78355</td>\n",
              "      <td>-0.90741</td>\n",
              "      <td>rural</td>\n",
              "    </tr>\n",
              "    <tr>\n",
              "      <th>3</th>\n",
              "      <td>0.05205</td>\n",
              "      <td>1.21785</td>\n",
              "      <td>1.28641</td>\n",
              "      <td>0.86033</td>\n",
              "      <td>urban</td>\n",
              "    </tr>\n",
              "    <tr>\n",
              "      <th>4</th>\n",
              "      <td>0.39418</td>\n",
              "      <td>-0.84161</td>\n",
              "      <td>1.28180</td>\n",
              "      <td>-0.21568</td>\n",
              "      <td>suburban</td>\n",
              "    </tr>\n",
              "  </tbody>\n",
              "</table>\n",
              "</div>"
            ],
            "text/plain": [
              "        TV    radio  newspaper    sales      Area\n",
              "0  0.96985  0.98152    1.77895  1.55205     rural\n",
              "1 -1.19738  1.08281    0.66958 -0.69605     urban\n",
              "2 -1.51615  1.52846    1.78355 -0.90741     rural\n",
              "3  0.05205  1.21785    1.28641  0.86033     urban\n",
              "4  0.39418 -0.84161    1.28180 -0.21568  suburban"
            ]
          },
          "execution_count": 38,
          "metadata": {},
          "output_type": "execute_result"
        }
      ]
    },
    {
      "cell_type": "markdown",
      "metadata": {
        "id": "Sw3FeuTxrjzv"
      },
      "source": [
        "We want to represent Area numerically, but we can't simply code it as:<br/>\n",
        "\n",
        "- 0 = rural\n",
        "\n",
        "- 1 = suburban\n",
        "\n",
        "- 2 = urban\n",
        "\n",
        "Because that would imply an **ordered relationship** between suburban and urban, and thus urban is somehow \"twice\" the suburban category.<br/> \n",
        "\n",
        "- Note that if you do have ordered categories (i.e., strongly disagree, disagree, neutral, agree, strongly agree), you can use a single dummy variable to represent the categories numerically (such as 1, 2, 3, 4, 5).<br/>\n",
        "\n",
        "Anyway, our Area feature is unordered, so we have to create **additional dummy variables**. Let's explore how to do this using pandas:"
      ]
    },
    {
      "cell_type": "code",
      "metadata": {
        "colab": {
          "base_uri": "https://localhost:8080/",
          "height": 195
        },
        "id": "6lXU3SuBrjzv",
        "outputId": "44f35d66-c4de-4f63-95c9-8528d9f7edc5"
      },
      "source": [
        "area_dummies = pd.get_dummies(data.Area, prefix='Area')                           # create three dummy variables using get_dummies\n",
        "area_dummies.head()"
      ],
      "execution_count": null,
      "outputs": [
        {
          "data": {
            "text/html": [
              "<div>\n",
              "<style scoped>\n",
              "    .dataframe tbody tr th:only-of-type {\n",
              "        vertical-align: middle;\n",
              "    }\n",
              "\n",
              "    .dataframe tbody tr th {\n",
              "        vertical-align: top;\n",
              "    }\n",
              "\n",
              "    .dataframe thead th {\n",
              "        text-align: right;\n",
              "    }\n",
              "</style>\n",
              "<table border=\"1\" class=\"dataframe\">\n",
              "  <thead>\n",
              "    <tr style=\"text-align: right;\">\n",
              "      <th></th>\n",
              "      <th>Area_rural</th>\n",
              "      <th>Area_suburban</th>\n",
              "      <th>Area_urban</th>\n",
              "    </tr>\n",
              "  </thead>\n",
              "  <tbody>\n",
              "    <tr>\n",
              "      <th>0</th>\n",
              "      <td>1</td>\n",
              "      <td>0</td>\n",
              "      <td>0</td>\n",
              "    </tr>\n",
              "    <tr>\n",
              "      <th>1</th>\n",
              "      <td>0</td>\n",
              "      <td>0</td>\n",
              "      <td>1</td>\n",
              "    </tr>\n",
              "    <tr>\n",
              "      <th>2</th>\n",
              "      <td>1</td>\n",
              "      <td>0</td>\n",
              "      <td>0</td>\n",
              "    </tr>\n",
              "    <tr>\n",
              "      <th>3</th>\n",
              "      <td>0</td>\n",
              "      <td>0</td>\n",
              "      <td>1</td>\n",
              "    </tr>\n",
              "    <tr>\n",
              "      <th>4</th>\n",
              "      <td>0</td>\n",
              "      <td>1</td>\n",
              "      <td>0</td>\n",
              "    </tr>\n",
              "  </tbody>\n",
              "</table>\n",
              "</div>"
            ],
            "text/plain": [
              "   Area_rural  Area_suburban  Area_urban\n",
              "0           1              0           0\n",
              "1           0              0           1\n",
              "2           1              0           0\n",
              "3           0              0           1\n",
              "4           0              1           0"
            ]
          },
          "execution_count": 39,
          "metadata": {},
          "output_type": "execute_result"
        }
      ]
    },
    {
      "cell_type": "markdown",
      "metadata": {
        "id": "7awwhs1urjzx"
      },
      "source": [
        "<center><img src=\"https://raw.githubusercontent.com/insaid2018/Term-2/master/images/Dummy.png\" width=\"700\" height=\"350\" /></center>\n",
        "<br> \n",
        "\n",
        "However, we actually only need **two dummy variables, not three**. \n",
        "__Why???__\n",
        "\n",
        "- From the above image, it is pretty obvious when the value of Cat, Dog, Turtle is 0, then it is going to be Fish.\n",
        "\n",
        "  - So we can **drop one column** and **save memory**.\n",
        "\n",
        "- Same goes in our case, we can drop one column among the three dummy variables. \n",
        "\n",
        "\n",
        "Let's see what that looks like:"
      ]
    },
    {
      "cell_type": "code",
      "metadata": {
        "colab": {
          "base_uri": "https://localhost:8080/",
          "height": 195
        },
        "id": "uEBIO0xprjzx",
        "outputId": "c935064c-35d9-46f7-cf06-8056a1a6867e"
      },
      "source": [
        "area_dummies = pd.get_dummies(data.Area, prefix='Area').iloc[:, 1:]\n",
        "area_dummies.head()"
      ],
      "execution_count": null,
      "outputs": [
        {
          "data": {
            "text/html": [
              "<div>\n",
              "<style scoped>\n",
              "    .dataframe tbody tr th:only-of-type {\n",
              "        vertical-align: middle;\n",
              "    }\n",
              "\n",
              "    .dataframe tbody tr th {\n",
              "        vertical-align: top;\n",
              "    }\n",
              "\n",
              "    .dataframe thead th {\n",
              "        text-align: right;\n",
              "    }\n",
              "</style>\n",
              "<table border=\"1\" class=\"dataframe\">\n",
              "  <thead>\n",
              "    <tr style=\"text-align: right;\">\n",
              "      <th></th>\n",
              "      <th>Area_suburban</th>\n",
              "      <th>Area_urban</th>\n",
              "    </tr>\n",
              "  </thead>\n",
              "  <tbody>\n",
              "    <tr>\n",
              "      <th>0</th>\n",
              "      <td>0</td>\n",
              "      <td>0</td>\n",
              "    </tr>\n",
              "    <tr>\n",
              "      <th>1</th>\n",
              "      <td>0</td>\n",
              "      <td>1</td>\n",
              "    </tr>\n",
              "    <tr>\n",
              "      <th>2</th>\n",
              "      <td>0</td>\n",
              "      <td>0</td>\n",
              "    </tr>\n",
              "    <tr>\n",
              "      <th>3</th>\n",
              "      <td>0</td>\n",
              "      <td>1</td>\n",
              "    </tr>\n",
              "    <tr>\n",
              "      <th>4</th>\n",
              "      <td>1</td>\n",
              "      <td>0</td>\n",
              "    </tr>\n",
              "  </tbody>\n",
              "</table>\n",
              "</div>"
            ],
            "text/plain": [
              "   Area_suburban  Area_urban\n",
              "0              0           0\n",
              "1              0           1\n",
              "2              0           0\n",
              "3              0           1\n",
              "4              1           0"
            ]
          },
          "execution_count": 40,
          "metadata": {},
          "output_type": "execute_result"
        }
      ]
    },
    {
      "cell_type": "markdown",
      "metadata": {
        "id": "33hbsYEUrjz0"
      },
      "source": [
        "Here is how we interpret the coding:\n",
        "\n",
        "- **rural** is coded as  Area_suburban = 0  and  Area_urban = 0\n",
        "\n",
        "- **suburban** is coded as  Area_suburban = 1  and  Area_urban = 0\n",
        "\n",
        "- **urban** is coded as  Area_suburban = 0  and  Area_urban = 1\n",
        "\n",
        "\n",
        "If this sounds confusing, think in general terms that why we need only __k-1 dummy variables__ if we have a categorical feature with __k \"levels\"__.\n",
        "\n",
        "Anyway, let's add these two new dummy variables onto the original DataFrame, and then include them in the linear regression model."
      ]
    },
    {
      "cell_type": "code",
      "metadata": {
        "colab": {
          "base_uri": "https://localhost:8080/",
          "height": 195
        },
        "id": "nypZC9Xyrjz1",
        "outputId": "f638393e-cfd9-4526-e1d8-aa30f5dbfefe"
      },
      "source": [
        "# concatenate the dummy variable columns onto the DataFrame (axis=0 means rows, axis=1 means columns)\n",
        "data = pd.concat([data, area_dummies], axis=1)\n",
        "data.head()"
      ],
      "execution_count": null,
      "outputs": [
        {
          "data": {
            "text/html": [
              "<div>\n",
              "<style scoped>\n",
              "    .dataframe tbody tr th:only-of-type {\n",
              "        vertical-align: middle;\n",
              "    }\n",
              "\n",
              "    .dataframe tbody tr th {\n",
              "        vertical-align: top;\n",
              "    }\n",
              "\n",
              "    .dataframe thead th {\n",
              "        text-align: right;\n",
              "    }\n",
              "</style>\n",
              "<table border=\"1\" class=\"dataframe\">\n",
              "  <thead>\n",
              "    <tr style=\"text-align: right;\">\n",
              "      <th></th>\n",
              "      <th>TV</th>\n",
              "      <th>radio</th>\n",
              "      <th>newspaper</th>\n",
              "      <th>sales</th>\n",
              "      <th>Area</th>\n",
              "      <th>Area_suburban</th>\n",
              "      <th>Area_urban</th>\n",
              "    </tr>\n",
              "  </thead>\n",
              "  <tbody>\n",
              "    <tr>\n",
              "      <th>0</th>\n",
              "      <td>0.96985</td>\n",
              "      <td>0.98152</td>\n",
              "      <td>1.77895</td>\n",
              "      <td>1.55205</td>\n",
              "      <td>rural</td>\n",
              "      <td>0</td>\n",
              "      <td>0</td>\n",
              "    </tr>\n",
              "    <tr>\n",
              "      <th>1</th>\n",
              "      <td>-1.19738</td>\n",
              "      <td>1.08281</td>\n",
              "      <td>0.66958</td>\n",
              "      <td>-0.69605</td>\n",
              "      <td>urban</td>\n",
              "      <td>0</td>\n",
              "      <td>1</td>\n",
              "    </tr>\n",
              "    <tr>\n",
              "      <th>2</th>\n",
              "      <td>-1.51615</td>\n",
              "      <td>1.52846</td>\n",
              "      <td>1.78355</td>\n",
              "      <td>-0.90741</td>\n",
              "      <td>rural</td>\n",
              "      <td>0</td>\n",
              "      <td>0</td>\n",
              "    </tr>\n",
              "    <tr>\n",
              "      <th>3</th>\n",
              "      <td>0.05205</td>\n",
              "      <td>1.21785</td>\n",
              "      <td>1.28641</td>\n",
              "      <td>0.86033</td>\n",
              "      <td>urban</td>\n",
              "      <td>0</td>\n",
              "      <td>1</td>\n",
              "    </tr>\n",
              "    <tr>\n",
              "      <th>4</th>\n",
              "      <td>0.39418</td>\n",
              "      <td>-0.84161</td>\n",
              "      <td>1.28180</td>\n",
              "      <td>-0.21568</td>\n",
              "      <td>suburban</td>\n",
              "      <td>1</td>\n",
              "      <td>0</td>\n",
              "    </tr>\n",
              "  </tbody>\n",
              "</table>\n",
              "</div>"
            ],
            "text/plain": [
              "        TV    radio  newspaper    sales      Area  Area_suburban  Area_urban\n",
              "0  0.96985  0.98152    1.77895  1.55205     rural              0           0\n",
              "1 -1.19738  1.08281    0.66958 -0.69605     urban              0           1\n",
              "2 -1.51615  1.52846    1.78355 -0.90741     rural              0           0\n",
              "3  0.05205  1.21785    1.28641  0.86033     urban              0           1\n",
              "4  0.39418 -0.84161    1.28180 -0.21568  suburban              1           0"
            ]
          },
          "execution_count": 41,
          "metadata": {},
          "output_type": "execute_result"
        }
      ]
    },
    {
      "cell_type": "code",
      "metadata": {
        "id": "Zz6WLAFYrjz3"
      },
      "source": [
        "feature_cols = ['TV', 'radio', 'newspaper', 'Area_suburban', 'Area_urban']             # create a Python list of feature names\n",
        "X = data[feature_cols]  \n",
        "y = data.sales"
      ],
      "execution_count": null,
      "outputs": []
    },
    {
      "cell_type": "code",
      "metadata": {
        "id": "GL-V9bw8S7WG"
      },
      "source": [
        "X_train, X_test, y_train, y_test = train_test_split(X, y, test_size=0.20, random_state=1)"
      ],
      "execution_count": null,
      "outputs": []
    },
    {
      "cell_type": "code",
      "metadata": {
        "colab": {
          "base_uri": "https://localhost:8080/",
          "height": 34
        },
        "id": "q-S78iEMTZtG",
        "outputId": "021da5fa-55f4-466a-dc32-164d3d06bc16"
      },
      "source": [
        "linreg = LinearRegression()\n",
        "linreg.fit(X_train, y_train) "
      ],
      "execution_count": null,
      "outputs": [
        {
          "data": {
            "text/plain": [
              "LinearRegression()"
            ]
          },
          "execution_count": 44,
          "metadata": {},
          "output_type": "execute_result"
        }
      ]
    },
    {
      "cell_type": "code",
      "metadata": {
        "id": "iWlRbtstTrWG"
      },
      "source": [
        "y_pred_train = linreg.predict(X_train)  \n",
        "y_pred_test = linreg.predict(X_test) "
      ],
      "execution_count": null,
      "outputs": []
    },
    {
      "cell_type": "code",
      "metadata": {
        "colab": {
          "base_uri": "https://localhost:8080/",
          "height": 118
        },
        "id": "IkBHCdporjz7",
        "outputId": "9cfaab5b-b129-4909-a728-6841bf163f72"
      },
      "source": [
        "feature_cols.insert(0,'Intercept')\n",
        "coef = linreg.coef_.tolist()\n",
        "coef.insert(0, linreg.intercept_)\n",
        "\n",
        "eq1 = zip(feature_cols, coef)\n",
        "\n",
        "for c1,c2 in eq1:\n",
        "    print(c1,c2)"
      ],
      "execution_count": null,
      "outputs": [
        {
          "name": "stdout",
          "output_type": "stream",
          "text": [
            "Intercept -0.002185359919754326\n",
            "TV 0.7691747677616426\n",
            "radio 0.5059681015391153\n",
            "newspaper 0.01109735332606343\n",
            "Area_suburban -0.031172284238361242\n",
            "Area_urban 0.04181960230726822\n"
          ]
        }
      ]
    },
    {
      "cell_type": "markdown",
      "metadata": {
        "id": "yHj4hAu9rjz8"
      },
      "source": [
        "__y = - 0.00218 + 0.7691 `*` TV + 0.505 `*` radio + 0.011 `*` newspaper - 0.0311 `*` Area_suburban + 0.0418 `*` Area_urban__\n",
        "\n",
        "How do we interpret the coefficients?\n",
        "\n",
        "- Holding all other variables fixed, being a **suburban** area is associated with an average **decrease** in Sales of 0.0311 widgets (as compared to the baseline level, which is rural).\n",
        "\n",
        "- Being an **urban** area is associated with an average **increase** in Sales of 0.0418 widgets (as compared to rural)."
      ]
    },
    {
      "cell_type": "code",
      "metadata": {
        "colab": {
          "base_uri": "https://localhost:8080/",
          "height": 50
        },
        "id": "DrRUcvtIUNp5",
        "outputId": "1c2168d2-1f66-4b94-cf0d-4e6fa9734d88"
      },
      "source": [
        "RMSE_train = np.sqrt( metrics.mean_squared_error(y_train, y_pred_train))\n",
        "RMSE_test = np.sqrt(metrics.mean_squared_error(y_test, y_pred_test))\n",
        "print('RMSE for training set is {}'.format(RMSE_train))\n",
        "print('RMSE for test set is {}'.format(RMSE_test))"
      ],
      "execution_count": null,
      "outputs": [
        {
          "name": "stdout",
          "output_type": "stream",
          "text": [
            "RMSE for training set is 0.3323425525230841\n",
            "RMSE for test set is 0.26907933117815147\n"
          ]
        }
      ]
    },
    {
      "cell_type": "markdown",
      "metadata": {
        "id": "6SAjyoPAYb0p"
      },
      "source": [
        "**Observation**\n",
        "\n",
        "- After adding the new feature **Area** we did'nt see significant decrease in **RMSE** score.\n"
      ]
    },
    {
      "cell_type": "markdown",
      "metadata": {
        "id": "GiV_JoEoGb_L"
      },
      "source": [
        "<a name = Section9></a>\n",
        "\n",
        "---\n",
        "# **9. Conclusion**\n",
        "---\n",
        "\n",
        "- We **studied in breifly about the data**, its **characteristics** and its **distribution**.\n",
        "\n",
        "- We **investigated about the features** which to **retain** and which to **discard**.\n",
        "\n",
        "- The best **Linear Regression** model for this dataset is found to be the one with the **Area** data.\n"
      ]
    }
  ]
}